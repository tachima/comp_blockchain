{
 "cells": [
  {
   "cell_type": "code",
   "execution_count": 1,
   "metadata": {},
   "outputs": [],
   "source": [
    "using Random\n",
    "using Distributions"
   ]
  },
  {
   "cell_type": "code",
   "execution_count": 2,
   "metadata": {},
   "outputs": [],
   "source": [
    "abstract type AbstractBlk end\n",
    "\n",
    "struct Minor\n",
    "    label::String\n",
    "end\n",
    "\n",
    "struct Genesis <: AbstractBlk end\n",
    "\n",
    "struct Blk <: AbstractBlk\n",
    "    index::Int\n",
    "    minor::Minor\n",
    "    prev::AbstractBlk\n",
    "end\n",
    "\n",
    "function Base.show(io::IO, b::Genesis)\n",
    "    Base.show(io, 0)\n",
    "end\n",
    "\n",
    "function Base.show(io::IO, b::Blk)\n",
    "    Base.show(io, (b.index, b.minor.label))\n",
    "end\n",
    "\n",
    "struct Queue\n",
    "    sender::Minor\n",
    "    receiver::Minor\n",
    "    elem::Vector{AbstractBlk}\n",
    "    \n",
    "    Queue(sender, receiver) = new(sender, receiver, Vector{AbstractBlk}())\n",
    "end"
   ]
  },
  {
   "cell_type": "code",
   "execution_count": 3,
   "metadata": {},
   "outputs": [
    {
     "data": {
      "text/plain": [
       "getid (generic function with 2 methods)"
      ]
     },
     "execution_count": 3,
     "metadata": {},
     "output_type": "execute_result"
    }
   ],
   "source": [
    "getid(b::Blk) = b.index\n",
    "getid(b::Genesis) = 0"
   ]
  },
  {
   "cell_type": "code",
   "execution_count": 4,
   "metadata": {},
   "outputs": [
    {
     "data": {
      "text/plain": [
       "getlength (generic function with 1 method)"
      ]
     },
     "execution_count": 4,
     "metadata": {},
     "output_type": "execute_result"
    }
   ],
   "source": [
    "getreceiver(q::Queue) = q.receiver\n",
    "\n",
    "function receiveblk!(q::Queue, i::Int)::AbstractBlk\n",
    "    b = q.elem[i]\n",
    "    deleteat!(q.elem, i)\n",
    "    b\n",
    "end\n",
    "\n",
    "getlength(q::Queue) = length(q.elem)"
   ]
  },
  {
   "cell_type": "code",
   "execution_count": 5,
   "metadata": {},
   "outputs": [
    {
     "data": {
      "text/plain": [
       "sendblk! (generic function with 1 method)"
      ]
     },
     "execution_count": 5,
     "metadata": {},
     "output_type": "execute_result"
    }
   ],
   "source": [
    "function sendblk!(q::Queue, b::AbstractBlk)\n",
    "    push!(q.elem, b)\n",
    "end"
   ]
  },
  {
   "cell_type": "code",
   "execution_count": 6,
   "metadata": {},
   "outputs": [
    {
     "data": {
      "text/plain": [
       "event_genBlk! (generic function with 1 method)"
      ]
     },
     "execution_count": 6,
     "metadata": {},
     "output_type": "execute_result"
    }
   ],
   "source": [
    "function event_genBlk!(x::Minor, workblk::Dict{Minor,AbstractBlk}, queue::Vector{Queue}, blocks::Vector{Blk})\n",
    "    prev = workblk[x]\n",
    "    id = getid(prev) + 1\n",
    "    b = Blk(id, x, prev)\n",
    "    push!(blocks, b)\n",
    "    workblk[x] = b\n",
    "    for q = queue\n",
    "        sendblk!(q, b)\n",
    "    end\n",
    "    b\n",
    "end"
   ]
  },
  {
   "cell_type": "code",
   "execution_count": 7,
   "metadata": {},
   "outputs": [
    {
     "data": {
      "text/plain": [
       "event_arrivalBlk! (generic function with 1 method)"
      ]
     },
     "execution_count": 7,
     "metadata": {},
     "output_type": "execute_result"
    }
   ],
   "source": [
    "function event_arrivalBlk!(q::Queue, i::Int, workblk::Dict{Minor,AbstractBlk})\n",
    "    x = getreceiver(q)\n",
    "    b = receiveblk!(q, i)\n",
    "    prev = workblk[x]\n",
    "    if getid(prev) < getid(b)\n",
    "        workblk[x] = b\n",
    "    end\n",
    "    b\n",
    "end"
   ]
  },
  {
   "cell_type": "code",
   "execution_count": 8,
   "metadata": {},
   "outputs": [
    {
     "data": {
      "text/plain": [
       "rates (generic function with 1 method)"
      ]
     },
     "execution_count": 8,
     "metadata": {},
     "output_type": "execute_result"
    }
   ],
   "source": [
    "function rates(u1, u2, queue, lambda, mu)\n",
    "#    u1 = sort(collect(keys(lambda)), by=x->x.label)\n",
    "    r1 = [lambda[x] for x = u1]\n",
    "#    u2 = sort(collect(keys(mu)), by=x->(x[1].label, x[2].label))\n",
    "    r2 = [mu[x] * getlength(queue[x]) for x = u2]\n",
    "    return r1, r2\n",
    "end"
   ]
  },
  {
   "cell_type": "code",
   "execution_count": 9,
   "metadata": {},
   "outputs": [
    {
     "data": {
      "text/plain": [
       "Minor(\"C\")"
      ]
     },
     "execution_count": 9,
     "metadata": {},
     "output_type": "execute_result"
    }
   ],
   "source": [
    "a = Minor(\"A\")\n",
    "b = Minor(\"B\")\n",
    "c = Minor(\"C\")"
   ]
  },
  {
   "cell_type": "code",
   "execution_count": 301,
   "metadata": {},
   "outputs": [
    {
     "data": {
      "text/plain": [
       "10"
      ]
     },
     "execution_count": 301,
     "metadata": {},
     "output_type": "execute_result"
    }
   ],
   "source": [
    "lambda = Dict(\n",
    "    a => 1/5,\n",
    "    b => 1/10,\n",
    "    c => 1/10,\n",
    ")\n",
    "\n",
    "mu = Dict(\n",
    "    (a,b) => 1/1,\n",
    "    (a,c) => 1/1,\n",
    "    (b,a) => 1/0.1,\n",
    "    (b,c) => 1/0.1,\n",
    "    (c,a) => 1/0.1,\n",
    "    (c,b) => 1/0.1,\n",
    ")\n",
    "\n",
    "N = 10"
   ]
  },
  {
   "cell_type": "code",
   "execution_count": 302,
   "metadata": {},
   "outputs": [
    {
     "name": "stdout",
     "output_type": "stream",
     "text": [
      "  5.708383 seconds (21.37 M allocations: 683.030 MiB, 5.50% gc time)\n"
     ]
    }
   ],
   "source": [
    "rng = MersenneTwister(1234)\n",
    "Aworkblk = []\n",
    "Ablocks = []\n",
    "@time for k in 1:N\n",
    "    blocks = Vector{Blk}()\n",
    "\n",
    "    events = 0\n",
    "    u1 = sort(collect(keys(lambda)), by=x->x.label)\n",
    "    u2 = sort(collect(keys(mu)), by=x->(x[1].label, x[2].label))\n",
    "    workblk = Dict{Minor,AbstractBlk}(a=>Genesis(), b=>Genesis(), c=>Genesis())\n",
    "    qAtoB = Queue(a, b)\n",
    "    qAtoC = Queue(a, c)\n",
    "    qBtoA = Queue(b, a)\n",
    "    qBtoC = Queue(b, c)\n",
    "    qCtoA = Queue(c, a)\n",
    "    qCtoB = Queue(c, b)\n",
    "    queue = Dict(\n",
    "        (a,b)=>qAtoB,\n",
    "        (a,c)=>qAtoC,\n",
    "        (b,a)=>qBtoA,\n",
    "        (b,c)=>qBtoC,\n",
    "        (c,a)=>qCtoA,\n",
    "        (c,b)=>qCtoB,\n",
    "    )\n",
    "    input = Dict(\n",
    "        a=>[qAtoB, qAtoC],\n",
    "        b=>[qBtoA, qBtoC],\n",
    "        c=>[qCtoA, qCtoB],\n",
    "    )\n",
    "\n",
    "    ctime = 0.0\n",
    "    while ctime < 60*24*30 # 24 hours\n",
    "        r1, r2 = rates(u1, u2, queue, lambda, mu)\n",
    "        etime1 = [(r != 0) ? rand(rng, Exponential(1/r)) : Inf for r = r1]\n",
    "        etime2 = [(r != 0) ? rand(rng, Exponential(1/r)) : Inf for r = r2]\n",
    "        m1, i1 = findmin(etime1)\n",
    "        m2, i2 = findmin(etime2)\n",
    "        if m1 < m2\n",
    "            ctime += m1\n",
    "            event_genBlk!(u1[i1], workblk, input[u1[i1]], blocks)\n",
    "        else\n",
    "            ctime += m2\n",
    "            v = rand(rng, DiscreteUniform(1,getlength(queue[u2[i2]])))\n",
    "            event_arrivalBlk!(queue[u2[i2]], v, workblk)\n",
    "        end\n",
    "        events += 1\n",
    "    end\n",
    "    push!(Aworkblk,workblk)\n",
    "    push!(Ablocks,blocks)\n",
    "end"
   ]
  },
  {
   "cell_type": "code",
   "execution_count": 303,
   "metadata": {},
   "outputs": [
    {
     "data": {
      "text/plain": [
       "Dict{Minor,AbstractBlk} with 3 entries:\n",
       "  Minor(\"A\") => (16018, \"A\")\n",
       "  Minor(\"C\") => (16017, \"C\")\n",
       "  Minor(\"B\") => (16018, \"A\")"
      ]
     },
     "execution_count": 303,
     "metadata": {},
     "output_type": "execute_result"
    }
   ],
   "source": [
    "Aworkblk[1]"
   ]
  },
  {
   "cell_type": "code",
   "execution_count": 304,
   "metadata": {},
   "outputs": [],
   "source": [
    "Achains = []\n",
    "for i in 1:N\n",
    "    workblk = Aworkblk[i]\n",
    "    blk = workblk[a]\n",
    "    chains = []\n",
    "    push!(chains, blk)\n",
    "    while blk != Genesis()\n",
    "        blk = blk.prev\n",
    "        push!(chains, blk)\n",
    "    end\n",
    "    push!(Achains,chains)\n",
    "end"
   ]
  },
  {
   "cell_type": "code",
   "execution_count": 305,
   "metadata": {},
   "outputs": [],
   "source": [
    "Ainvchains = []\n",
    "for i in 1:N\n",
    "    chains = Achains[i]\n",
    "    invchains = reverse(chains)\n",
    "    push!(Ainvchains,invchains)\n",
    "end"
   ]
  },
  {
   "cell_type": "markdown",
   "metadata": {},
   "source": [
    "## 後続にブロックが付かない場合"
   ]
  },
  {
   "cell_type": "code",
   "execution_count": 306,
   "metadata": {},
   "outputs": [
    {
     "name": "stdout",
     "output_type": "stream",
     "text": [
      "418.590128 seconds (6.52 G allocations: 116.922 GiB, 11.29% gc time)\n"
     ]
    }
   ],
   "source": [
    "#blocksにはあるがchainsにないものをカウントする\n",
    "Ahaki = []\n",
    "@time for h in 1:N\n",
    "    haki = 0\n",
    "    for i in 2:length(Ainvchains[h])\n",
    "        if (Ainvchains[h][i].minor == Minor(\"B\")) || (Ainvchains[h][i].minor == Minor(\"C\"))\n",
    "            for j in 1:length(Ablocks[h])\n",
    "                if (Ablocks[h][j].minor == Minor(\"A\")) && (Ablocks[h][j].index == Ainvchains[h][i].index)\n",
    "                    haki += 1\n",
    "                end\n",
    "            end\n",
    "        end\n",
    "    end\n",
    "   push!(Ahaki,haki)\n",
    "    if h%20 == 0\n",
    "        print(h,\"ok\")\n",
    "    end\n",
    "end"
   ]
  },
  {
   "cell_type": "markdown",
   "metadata": {},
   "source": [
    "## 後続にブロックが1つ付いた場合"
   ]
  },
  {
   "cell_type": "code",
   "execution_count": 276,
   "metadata": {},
   "outputs": [
    {
     "name": "stdout",
     "output_type": "stream",
     "text": [
      "1,2,3,4,5,6,7,8,9,10,11,12,13,14,15,16,17,18,19,20,21,22,23,24,25,26,27,28,29,30,31,32,33,34,35,36,37,38,39,40,41,42,43,44,45,46,47,48,49,50,51,52,53,54,55,56,57,58,59,60,61,62,63,64,65,66,67,68,69,70,71,72,73,74,75,76,77,78,79,80,81,82,83,84,85,86,87,88,89,90,91,92,93,94,95,96,97,98,99,100,101,102,103,104,105,106,107,108,109,110,111,112,113,114,115,116,117,118,119,120,121,122,123,124,125,126,127,128,129,130,131,132,133,134,135,136,137,138,139,140,141,142,143,144,145,146,147,148,149,150,151,152,153,154,155,156,157,158,159,160,161,162,163,164,165,166,167,168,169,170,171,172,173,174,175,176,177,178,179,180,181,182,183,184,185,186,187,188,189,190,191,192,193,194,195,196,197,198,199,200,201,202,203,204,205,206,207,208,209,210,211,212,213,214,215,216,217,218,219,220,221,222,223,224,225,226,227,228,229,230,231,232,233,234,235,236,237,238,239,240,241,242,243,244,245,246,247,248,249,250,251,252,253,254,255,256,257,258,259,260,261,262,263,264,265,266,267,268,269,270,271,272,273,274,275,276,277,278,279,280,281,282,283,284,285,286,287,288,289,290,291,292,293,294,295,296,297,298,299,300,301,302,303,304,305,306,307,308,309,310,311,312,313,314,315,316,317,318,319,320,321,322,323,324,325,326,327,328,329,330,331,332,333,334,335,336,337,338,339,340,341,342,343,344,345,346,347,348,349,350,351,352,353,354,355,356,357,358,359,360,361,362,363,364,365,366,367,368,369,370,371,372,373,374,375,376,377,378,379,380,381,382,383,384,385,386,387,388,389,390,391,392,393,394,395,396,397,398,399,400,401,402,403,404,405,406,407,408,409,410,411,412,413,414,415,416,417,418,419,420,421,422,423,424,425,426,427,428,429,430,431,432,433,434,435,436,437,438,439,440,441,442,443,444,445,446,447,448,449,450,451,452,453,454,455,456,457,458,31640.478974 seconds (454.80 G allocations: 8.036 TiB, 8.94% gc time)\n"
     ]
    }
   ],
   "source": [
    "#blocksで連番かつchainsにない場合は二つ以上同時に破棄されていると考える\n",
    "Ahaki = []\n",
    "@time for h in 1:N\n",
    "    haki = 0\n",
    "    count = 0\n",
    "    for i in 3:length(Ainvchains[h])-1\n",
    "        if i%1000 == 0\n",
    "            count += 1\n",
    "            print(count,\",\")\n",
    "        end\n",
    "#        if Ainvchains[h][i].minor == Minor(\"B\") && Ainvchains[h][i-1].minor == Minor(\"B\")\n",
    "#            for j in 1:length(Ablocks[h])\n",
    "#                if (Ablocks[h][j].minor == Minor(\"A\")) && (Ablocks[h][j].index == Ainvchains[h][i-1].index)\n",
    "#                    for k in 1:length(Ablocks[h])\n",
    "#                        if (Ablocks[h][k].minor == Minor(\"A\")) && (Ablocks[h][k].index == Ainvchains[h][i].index)\n",
    "#                            haki += 1\n",
    "#                        end\n",
    "#                    end\n",
    "#                end\n",
    "#            end\n",
    "        if (Ainvchains[h][i].minor == Minor(\"B\") && Ainvchains[h][i+1].minor == Minor(\"B\")) || (Ainvchains[h][i].minor == Minor(\"B\") && Ainvchains[h][i+1].minor == Minor(\"C\")) || (Ainvchains[h][i].minor == Minor(\"C\") && Ainvchains[h][i+1].minor == Minor(\"B\")) || (Ainvchains[h][i].minor == Minor(\"C\") && Ainvchains[h][i+1].minor == Minor(\"C\"))\n",
    "            for j in 1:length(Ablocks[h])\n",
    "                if (Ablocks[h][j].minor == Minor(\"A\")) && (Ablocks[h][j].index == Ainvchains[h][i].index)\n",
    "                    for k in 1:length(Ablocks[h])\n",
    "                        if (Ablocks[h][k].minor == Minor(\"A\")) && (Ablocks[h][k].index == Ainvchains[h][i+1].index)\n",
    "                            haki += 1\n",
    "                        end\n",
    "                    end\n",
    "                end\n",
    "            end\n",
    "        end\n",
    "    end\n",
    "    push!(Ahaki,haki)\n",
    "    if h%20 == 0\n",
    "        print(h,\"ok\")\n",
    "    end\n",
    "end"
   ]
  },
  {
   "cell_type": "markdown",
   "metadata": {},
   "source": [
    "## 後続にブロックが2つ付いた場合"
   ]
  },
  {
   "cell_type": "code",
   "execution_count": 271,
   "metadata": {},
   "outputs": [
    {
     "name": "stdout",
     "output_type": "stream",
     "text": [
      "1,2,3,4,5,6,7,8,9,10,11,12,13,14,15,16,17,"
     ]
    },
    {
     "ename": "BoundsError",
     "evalue": "BoundsError: attempt to access 17069-element Array{Any,1} at index [17070]",
     "output_type": "error",
     "traceback": [
      "BoundsError: attempt to access 17069-element Array{Any,1} at index [17070]",
      "",
      "Stacktrace:",
      " [1] getindex(::Array{Any,1}, ::Int64) at ./array.jl:731",
      " [2] top-level scope at ./In[271]:12"
     ]
    }
   ],
   "source": [
    "Ahaki = []\n",
    "@time for h in 1:N\n",
    "    haki = 0\n",
    "    count = 0\n",
    "    for i in 3:length(Ainvchains[h])-1\n",
    "        if i%1000 == 0\n",
    "            count += 1\n",
    "            print(count,\",\")\n",
    "        end\n",
    "        \n",
    "        if (Ainvchains[h][i].minor == Minor(\"B\") && Ainvchains[h][i+1].minor == Minor(\"B\")) || (Ainvchains[h][i].minor == Minor(\"B\") && Ainvchains[h][i+1].minor == Minor(\"C\")) || (Ainvchains[h][i].minor == Minor(\"C\") && Ainvchains[h][i+1].minor == Minor(\"B\")) || (Ainvchains[h][i].minor == Minor(\"C\") && Ainvchains[h][i+1].minor == Minor(\"C\"))\n",
    "            if (Ainvchains[h][i].minor == Minor(\"B\") && Ainvchains[h][i+2].minor == Minor(\"B\")) || (Ainvchains[h][i].minor == Minor(\"B\") && Ainvchains[h][i+2].minor == Minor(\"C\")) || (Ainvchains[h][i].minor == Minor(\"C\") && Ainvchains[h][i+2].minor == Minor(\"B\")) || (Ainvchains[h][i].minor == Minor(\"C\") && Ainvchains[h][i+2].minor == Minor(\"C\"))\n",
    "                for j in 1:length(Ablocks[h])\n",
    "                    if (Ablocks[h][j].minor == Minor(\"A\")) && (Ablocks[h][j].index == Ainvchains[h][i].index)\n",
    "                        for k in 1:length(Ablocks[h])\n",
    "                            if (Ablocks[h][k].minor == Minor(\"A\")) && (Ablocks[h][k].index == Ainvchains[h][i+1].index)\n",
    "                                if (Ablocks[h][k].minor == Minor(\"A\")) && (Ablocks[h][k].index == Ainvchains[h][i+2].index)\n",
    "                                    haki += 1\n",
    "                                end\n",
    "                            end\n",
    "                        end\n",
    "                    end\n",
    "                end\n",
    "            end\n",
    "        end\n",
    "    end\n",
    "    push!(Ahaki,haki)\n",
    "    if h%20 == 0\n",
    "        print(h,\"ok\")\n",
    "    end\n",
    "end"
   ]
  },
  {
   "cell_type": "code",
   "execution_count": 307,
   "metadata": {},
   "outputs": [],
   "source": [
    "AblkA = []\n",
    "for i in 1:N\n",
    "    blkA = 0\n",
    "    for j in 1:length(Ablocks[i])\n",
    "        if Ablocks[i][j].minor == Minor(\"A\")\n",
    "            blkA += 1\n",
    "        end\n",
    "    end\n",
    "    push!(AblkA,blkA)\n",
    "end"
   ]
  },
  {
   "cell_type": "code",
   "execution_count": 308,
   "metadata": {},
   "outputs": [],
   "source": [
    "Aresult = []\n",
    "for i in 1:N\n",
    "    result = Ahaki[i] / AblkA[i]\n",
    "    push!(Aresult,result)\n",
    "end"
   ]
  },
  {
   "cell_type": "markdown",
   "metadata": {},
   "source": [
    "## 平均"
   ]
  },
  {
   "cell_type": "code",
   "execution_count": 309,
   "metadata": {},
   "outputs": [
    {
     "data": {
      "text/plain": [
       "0.059210242409109194"
      ]
     },
     "execution_count": 309,
     "metadata": {},
     "output_type": "execute_result"
    }
   ],
   "source": [
    "sum = 0\n",
    "for i in 1:N\n",
    "    sum += Aresult[i]\n",
    "end\n",
    "ave = sum / N"
   ]
  },
  {
   "cell_type": "markdown",
   "metadata": {},
   "source": [
    "## 分散"
   ]
  },
  {
   "cell_type": "code",
   "execution_count": 310,
   "metadata": {},
   "outputs": [
    {
     "data": {
      "text/plain": [
       "9.327664495437959e-6"
      ]
     },
     "execution_count": 310,
     "metadata": {},
     "output_type": "execute_result"
    }
   ],
   "source": [
    "sq = 0\n",
    "for i in 1:N\n",
    "    sq += (Aresult[i]-ave)^2\n",
    "end\n",
    "var = sq / N"
   ]
  },
  {
   "cell_type": "code",
   "execution_count": 311,
   "metadata": {},
   "outputs": [
    {
     "data": {
      "text/plain": [
       "0.0030541225409989625"
      ]
     },
     "execution_count": 311,
     "metadata": {},
     "output_type": "execute_result"
    }
   ],
   "source": [
    "sta = sqrt(var)"
   ]
  },
  {
   "cell_type": "markdown",
   "metadata": {},
   "source": [
    "## 信頼区間(95%)"
   ]
  },
  {
   "cell_type": "code",
   "execution_count": 312,
   "metadata": {},
   "outputs": [
    {
     "data": {
      "text/plain": [
       "2.086"
      ]
     },
     "execution_count": 312,
     "metadata": {},
     "output_type": "execute_result"
    }
   ],
   "source": [
    "t = 2.0860"
   ]
  },
  {
   "cell_type": "code",
   "execution_count": 313,
   "metadata": {},
   "outputs": [
    {
     "name": "stdout",
     "output_type": "stream",
     "text": [
      "[0.05857315244705681,0.05984733237116158]"
     ]
    }
   ],
   "source": [
    "sita = ave - t * (1/10) * sta\n",
    "ue = ave + t * (1/10) * sta\n",
    "print(\"[\",sita,\",\",ue,\"]\")"
   ]
  },
  {
   "cell_type": "code",
   "execution_count": 314,
   "metadata": {},
   "outputs": [
    {
     "data": {
      "text/plain": [
       "0"
      ]
     },
     "execution_count": 314,
     "metadata": {},
     "output_type": "execute_result"
    }
   ],
   "source": [
    "e = 0\n",
    "for i in 1:N\n",
    "    if Aresult[i] < sita && Aresult[i] > ue\n",
    "        e += 1\n",
    "    end\n",
    "end\n",
    "e"
   ]
  },
  {
   "cell_type": "code",
   "execution_count": 315,
   "metadata": {},
   "outputs": [
    {
     "data": {
      "text/plain": [
       "10-element Array{Any,1}:\n",
       " 554\n",
       " 455\n",
       " 515\n",
       " 516\n",
       " 526\n",
       " 486\n",
       " 538\n",
       " 495\n",
       " 520\n",
       " 515"
      ]
     },
     "execution_count": 315,
     "metadata": {},
     "output_type": "execute_result"
    }
   ],
   "source": [
    "Ahaki"
   ]
  },
  {
   "cell_type": "code",
   "execution_count": null,
   "metadata": {},
   "outputs": [],
   "source": []
  },
  {
   "cell_type": "code",
   "execution_count": 18,
   "metadata": {},
   "outputs": [],
   "source": [
    "open(\"chains.txt\",\"w\") do out #ファイルに書く\n",
    "    print(out,chains)\n",
    "end"
   ]
  },
  {
   "cell_type": "code",
   "execution_count": 19,
   "metadata": {},
   "outputs": [],
   "source": [
    "open(\"blocks.txt\",\"w\") do out #ファイルに書く\n",
    "    print(out,blocks)\n",
    "end"
   ]
  }
 ],
 "metadata": {
  "kernelspec": {
   "display_name": "Julia 1.0.5",
   "language": "julia",
   "name": "julia-1.0"
  },
  "language_info": {
   "file_extension": ".jl",
   "mimetype": "application/julia",
   "name": "julia",
   "version": "1.0.5"
  }
 },
 "nbformat": 4,
 "nbformat_minor": 4
}
