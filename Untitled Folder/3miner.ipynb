{
 "cells": [
  {
   "cell_type": "markdown",
   "metadata": {},
   "source": [
    "## Initialize"
   ]
  },
  {
   "cell_type": "code",
   "execution_count": 1,
   "metadata": {},
   "outputs": [],
   "source": [
    "using MAT\n",
    "using SparseArrays"
   ]
  },
  {
   "cell_type": "code",
   "execution_count": 2,
   "metadata": {},
   "outputs": [],
   "source": [
    "include(\"qst.jl\");"
   ]
  },
  {
   "cell_type": "markdown",
   "metadata": {},
   "source": [
    "### Definition of functions"
   ]
  },
  {
   "cell_type": "markdown",
   "metadata": {},
   "source": [
    "Compute expected sojourn time\n",
    "- $Q$: CTMC kernel (transient)\n",
    "- $x$: Initial vector"
   ]
  },
  {
   "cell_type": "code",
   "execution_count": 3,
   "metadata": {},
   "outputs": [],
   "source": [
    "ex(Q, x) = (-Q)' \\ x;#x/Qt"
   ]
  },
  {
   "cell_type": "markdown",
   "metadata": {},
   "source": [
    "Compute the initial vectors\n",
    "- q: quasi stationary (block)\n",
    "- Q0: CTMC kernel (block)\n",
    "- Q1: CTMC kernel (block)\n",
    "- A: Transition rate matrix (block)\n",
    "- B: Transition rate matrix (block)\n",
    "- B: Transition rate matrix (block)"
   ]
  },
  {
   "cell_type": "code",
   "execution_count": 4,
   "metadata": {},
   "outputs": [],
   "source": [
    "function comp_piv(q, Q0, Q1, A, B, C)#引数にCを追加\n",
    "    nn = size(Q0)[1] - 1\n",
    "    piv = []\n",
    "    x = q[1] / sum(q[1])#x=π0\n",
    "    x = ex(Q0[1] + B[1] + C[1], x)\n",
    "    x = Q1[1]' * x\n",
    "    p = 0\n",
    "    push!(piv, x / (sum(x) + p)) \n",
    "    for i = 2:nn\n",
    "        x = ex(Q0[i], x) \n",
    "        p += sum(A[i]' * x)\n",
    "        x = Q1[i]' * x \n",
    "        push!(piv, x / (sum(x) + p)) \n",
    "    end\n",
    "    piv\n",
    "end;"
   ]
  },
  {
   "cell_type": "markdown",
   "metadata": {},
   "source": [
    "Compute the cancel probability for unconsensus block\n",
    "- piv: initial vectors (block)\n",
    "- n: the number of blocks in the chain\n",
    "- Q0: CTMC kernel (block)\n",
    "- Q1: CTMC kernel (block)\n",
    "- A: Transition rate matrix (block)\n",
    "- B: Transition rate matrix (block)\n",
    "- C: Transition rate matrix (block)"
   ]
  },
  {
   "cell_type": "code",
   "execution_count": 5,
   "metadata": {},
   "outputs": [],
   "source": [
    "function cancel_prob(piv, n, Q0, Q1, A, B, C)#引数にCを追加\n",
    "    nn = size(Q0)[1] - 1\n",
    "    prob = 0.0\n",
    "    x = piv[n]\n",
    "    for i = n:nn\n",
    "        x = ex(Q0[i+1], x)\n",
    "        prob += sum((B[i+1]+C[i+1])' * x)\n",
    "        x = Q1[i+1]' * x\n",
    "    end\n",
    "    prob, sum(x)\n",
    "end;"
   ]
  },
  {
   "cell_type": "markdown",
   "metadata": {},
   "source": [
    "## Read matfile"
   ]
  },
  {
   "cell_type": "code",
   "execution_count": 6,
   "metadata": {},
   "outputs": [],
   "source": [
    "mat = matread(\"bc3.mat\");"
   ]
  },
  {
   "cell_type": "markdown",
   "metadata": {},
   "source": [
    "## Create CTMC kernel\n",
    "- Q: CTMC kernel without events win A and win B for transient states\n",
    "- QQ: CTMC kernel with the evnets for transient states\n",
    "- xi: Exit vector from transient states to absorbing state"
   ]
  },
  {
   "cell_type": "code",
   "execution_count": 7,
   "metadata": {},
   "outputs": [],
   "source": [
    "Q = mat[\"G0G0E\"] - spdiagm(0 => mat[\"sumG0E\"][:]); \n",
    "QQ = Q + mat[\"G0I0E\"] * mat[\"I0G0E\"]; \n",
    "xi = Array(mat[\"G0A0E\"])[:];"
   ]
  },
  {
   "cell_type": "markdown",
   "metadata": {},
   "source": [
    "## Make block matrices"
   ]
  },
  {
   "cell_type": "markdown",
   "metadata": {},
   "source": [
    "The number of blocks which depends on the maximum number of minings"
   ]
  },
  {
   "cell_type": "code",
   "execution_count": 8,
   "metadata": {},
   "outputs": [],
   "source": [
    "nn = 5; #ブロックは最大5"
   ]
  },
  {
   "cell_type": "markdown",
   "metadata": {},
   "source": [
    "Indicies of Q and QQ matrices when the number of unconcensuss minings"
   ]
  },
  {
   "cell_type": "code",
   "execution_count": 9,
   "metadata": {},
   "outputs": [],
   "source": [
    "m = [findall(x -> x == i, mat[\"AG0\"][:]) for i = 0:nn];"
   ]
  },
  {
   "cell_type": "markdown",
   "metadata": {},
   "source": [
    "- $Q_0[i]$: CTMC kernel without the concensus events when the number of unconcensuss minings of A is $i$\n",
    "- $Q_1[i]$: CTMC kernel for the event A succeeds the mining when the number of unconcensuss minings of A is $i$\n",
    "- $A$: Transition matrix (vector) when A wins\n",
    "- $B$: Transition matrix when B wins\n",
    "- $C$: Transition matrix when C wins"
   ]
  },
  {
   "cell_type": "code",
   "execution_count": 10,
   "metadata": {},
   "outputs": [],
   "source": [
    "function winA(i) \n",
    "    s = zeros(size(m[i+1]))\n",
    "    for j = 0:i\n",
    "        s += mat[\"G0I0E\"][m[i+1],:] * spdiagm(0 => mat[\"winAI0\"][:]) * mat[\"I0G0E\"][:,m[j+1]] * ones(size(m[j+1]))\n",
    "    end\n",
    "    s\n",
    "end\n",
    "winB(i) = mat[\"G0I0E\"][m[i+1],:] * spdiagm(0 => mat[\"winBI0\"][:]) * mat[\"I0G0E\"][:,m[1]];\n",
    "winC(i) = mat[\"G0I0E\"][m[i+1],:] * spdiagm(0 => mat[\"winCI0\"][:]) * mat[\"I0G0E\"][:,m[1]];#winCを追加\n",
    "\n",
    "A = [winA(i) for i = 0:nn];\n",
    "B = [winB(i) for i = 0:nn];\n",
    "C = [winC(i) for i = 0:nn];#Cを追加\n",
    "\n",
    "Q0 = [Q[m[i+1],m[i+1]] for i = 0:nn];\n",
    "Q1 = [Q[m[i+1],m[i+2]] for i = 0:nn-1];\n",
    "push!(Q1, mat[\"G0A0E\"][m[nn+1],:]);"
   ]
  },
  {
   "cell_type": "code",
   "execution_count": 11,
   "metadata": {
    "scrolled": true
   },
   "outputs": [
    {
     "data": {
      "text/plain": [
       "3884-element Array{Float64,1}:\n",
       "  0.0\n",
       "  1.0\n",
       "  2.0\n",
       "  3.0\n",
       "  4.0\n",
       "  5.0\n",
       "  0.0\n",
       " 11.0\n",
       " 12.0\n",
       " 13.0\n",
       " 14.0\n",
       " 15.0\n",
       "  0.0\n",
       "  ⋮  \n",
       "  0.0\n",
       "  0.0\n",
       "  0.0\n",
       "  0.0\n",
       "  0.0\n",
       "  0.0\n",
       "  0.0\n",
       "  0.0\n",
       "  0.0\n",
       "  0.0\n",
       "  0.0\n",
       "  0.0"
      ]
     },
     "execution_count": 11,
     "metadata": {},
     "output_type": "execute_result"
    }
   ],
   "source": [
    "a = mat[\"G0I0E\"] * mat[\"winAI0\"][:]"
   ]
  },
  {
   "cell_type": "code",
   "execution_count": 12,
   "metadata": {
    "scrolled": true
   },
   "outputs": [
    {
     "data": {
      "text/plain": [
       "3884-element Array{Float64,1}:\n",
       " 0.5093344699390209  \n",
       " 0.9993794854664387  \n",
       " 0.9999993396577038  \n",
       " 0.9999999994047524  \n",
       " 0.9999999999995355  \n",
       " 0.9999999999999988  \n",
       " 0.019289454411603044\n",
       " 0.9956570586073671  \n",
       " 0.9999920764876915  \n",
       " 0.9999999898812549  \n",
       " 0.9999999999897848  \n",
       " 0.9999999999999718  \n",
       " 0.009792439257086248\n",
       " ⋮                   \n",
       " 0.0                 \n",
       " 0.0                 \n",
       " 0.0                 \n",
       " 0.0                 \n",
       " 0.0                 \n",
       " 0.0                 \n",
       " 0.0                 \n",
       " 0.0                 \n",
       " 0.0                 \n",
       " 0.0                 \n",
       " 0.0                 \n",
       " 0.0                 "
      ]
     },
     "execution_count": 12,
     "metadata": {},
     "output_type": "execute_result"
    }
   ],
   "source": [
    "aq=-Q\\a"
   ]
  },
  {
   "cell_type": "markdown",
   "metadata": {},
   "source": [
    "## Compute quasi stationary"
   ]
  },
  {
   "cell_type": "code",
   "execution_count": 13,
   "metadata": {},
   "outputs": [
    {
     "name": "stdout",
     "output_type": "stream",
     "text": [
      "convergence   : false\n",
      "iteration     : 5000 / 5000\n",
      "relative error: 9.005403e-01 < 1.000000e-06\n",
      "gam 4.715399e-16"
     ]
    }
   ],
   "source": [
    "gam, q = qstgs(QQ, xi)\n",
    "@printf \"gam %e\" gam\n",
    "win=sum(aq.*q)\n",
    "q = [q[x] for x = m];"
   ]
  },
  {
   "cell_type": "markdown",
   "metadata": {},
   "source": [
    "## Compute cancel probability"
   ]
  },
  {
   "cell_type": "code",
   "execution_count": 14,
   "metadata": {
    "scrolled": true
   },
   "outputs": [
    {
     "data": {
      "text/plain": [
       "5-element Array{Tuple{Float64,Float64},1}:\n",
       " (0.01537548780213372, 2.2156747455372004e-15)  \n",
       " (7.627243659713724e-6, 1.3037983999051453e-15) \n",
       " (7.319275801398163e-9, 1.21963626968233e-15)   \n",
       " (7.726472031982253e-12, 1.2126815215470994e-15)\n",
       " (9.172737276203506e-15, 1.2122590311927546e-15)"
      ]
     },
     "execution_count": 14,
     "metadata": {},
     "output_type": "execute_result"
    }
   ],
   "source": [
    "piv = comp_piv(q, Q0, Q1, A, B, C);#引数にCを追加\n",
    "res = [cancel_prob(piv, i, Q0, Q1, A, B, C) for i = 1:nn]#引数にCを追加"
   ]
  },
  {
   "cell_type": "code",
   "execution_count": 15,
   "metadata": {},
   "outputs": [
    {
     "data": {
      "text/plain": [
       "0.5835051640417369"
      ]
     },
     "execution_count": 15,
     "metadata": {},
     "output_type": "execute_result"
    }
   ],
   "source": [
    "win"
   ]
  },
  {
   "cell_type": "code",
   "execution_count": 16,
   "metadata": {},
   "outputs": [
    {
     "data": {
      "text/plain": [
       "6-element Array{SparseMatrixCSC{Float64,Int64},1}:\n",
       " \n",
       "  [2 ,  1]  =  20.0\n",
       "  [7 ,  1]  =  0.0\n",
       "  [3 ,  2]  =  40.0\n",
       "  [8 ,  2]  =  10.0\n",
       "  [4 ,  3]  =  60.0\n",
       "  [9 ,  3]  =  10.0\n",
       "  [5 ,  4]  =  80.0\n",
       "  [10,  4]  =  10.0\n",
       "  [6 ,  5]  =  100.0\n",
       "  [11,  5]  =  10.0\n",
       "  [12,  6]  =  10.0\n",
       "  [8 ,  7]  =  10.0\n",
       "  ⋮\n",
       "  [28, 27]  =  30.0\n",
       "  [33, 27]  =  50.0\n",
       "  [29, 28]  =  40.0\n",
       "  [34, 28]  =  50.0\n",
       "  [30, 29]  =  50.0\n",
       "  [35, 29]  =  50.0\n",
       "  [36, 30]  =  50.0\n",
       "  [32, 31]  =  10.0\n",
       "  [33, 32]  =  20.0\n",
       "  [34, 33]  =  30.0\n",
       "  [35, 34]  =  40.0\n",
       "  [36, 35]  =  50.0                                                                                    \n",
       " \n",
       "  [1  ,   1]  =  0.0\n",
       "  [88 ,   1]  =  10.0\n",
       "  [142,   1]  =  0.0\n",
       "  [163,   1]  =  10.0\n",
       "  [167,   1]  =  0.0\n",
       "  [188,   1]  =  20.0\n",
       "  [192,   1]  =  0.0\n",
       "  [2  ,   2]  =  1.0\n",
       "  [89 ,   2]  =  20.0\n",
       "  [117,   2]  =  0.0\n",
       "  [142,   2]  =  0.0\n",
       "  [164,   2]  =  20.0\n",
       "  ⋮\n",
       "  [106,  28]  =  40.0\n",
       "  [186,  28]  =  40.0\n",
       "  [211,  28]  =  40.0\n",
       "  [31 ,  31]  =  0.0\n",
       "  [83 ,  31]  =  10.0\n",
       "  [108,  31]  =  10.0\n",
       "  [84 ,  32]  =  20.0\n",
       "  [109,  32]  =  20.0\n",
       "  [85 ,  33]  =  30.0\n",
       "  [110,  33]  =  30.0\n",
       "  [86 ,  34]  =  40.0\n",
       "  [111,  34]  =  40.0                                            \n",
       " \n",
       "  [103,   1]  =  0.0\n",
       "  [177,   1]  =  10.0\n",
       "  [217,   1]  =  0.0\n",
       "  [283,   1]  =  0.0\n",
       "  [357,   1]  =  10.0\n",
       "  [408,   1]  =  0.0\n",
       "  [456,   1]  =  0.0\n",
       "  [469,   1]  =  10.0\n",
       "  [472,   1]  =  0.0\n",
       "  [485,   1]  =  10.0\n",
       "  [488,   1]  =  0.0\n",
       "  [501,   1]  =  20.0\n",
       "  ⋮\n",
       "  [371,  27]  =  30.0\n",
       "  [57 ,  31]  =  0.0\n",
       "  [123,  31]  =  0.0\n",
       "  [157,  31]  =  10.0\n",
       "  [173,  31]  =  10.0\n",
       "  [189,  31]  =  10.0\n",
       "  [158,  32]  =  20.0\n",
       "  [174,  32]  =  20.0\n",
       "  [190,  32]  =  20.0\n",
       "  [159,  33]  =  30.0\n",
       "  [175,  33]  =  30.0\n",
       "  [191,  33]  =  30.0                                             \n",
       " \n",
       "  [194,   1]  =  0.0\n",
       "  [247,   1]  =  10.0\n",
       "  [437,   1]  =  0.0\n",
       "  [490,   1]  =  10.0\n",
       "  [530,   1]  =  0.0\n",
       "  [587,   1]  =  0.0\n",
       "  [644,   1]  =  0.0\n",
       "  [697,   1]  =  10.0\n",
       "  [735,   1]  =  0.0\n",
       "  [771,   1]  =  0.0\n",
       "  [807,   1]  =  0.0\n",
       "  [814,   1]  =  10.0\n",
       "  ⋮\n",
       "  [497,  26]  =  20.0\n",
       "  [74 ,  31]  =  0.0\n",
       "  [149,  31]  =  0.0\n",
       "  [206,  31]  =  0.0\n",
       "  [226,  31]  =  10.0\n",
       "  [235,  31]  =  10.0\n",
       "  [244,  31]  =  10.0\n",
       "  [253,  31]  =  10.0\n",
       "  [227,  32]  =  20.0\n",
       "  [236,  32]  =  20.0\n",
       "  [245,  32]  =  20.0\n",
       "  [254,  32]  =  20.0                                               \n",
       " \n",
       "  [258 ,    1]  =  0.0\n",
       "  [288 ,    1]  =  10.0\n",
       "  [537 ,    1]  =  0.0\n",
       "  [567 ,    1]  =  10.0\n",
       "  [780 ,    1]  =  0.0\n",
       "  [810 ,    1]  =  10.0\n",
       "  [840 ,    1]  =  0.0\n",
       "  [880 ,    1]  =  0.0\n",
       "  [920 ,    1]  =  0.0\n",
       "  [960 ,    1]  =  0.0\n",
       "  [990 ,    1]  =  10.0\n",
       "  [1011,    1]  =  0.0\n",
       "  ⋮\n",
       "  [561 ,   25]  =  10.0\n",
       "  [565 ,   25]  =  10.0\n",
       "  [569 ,   25]  =  10.0\n",
       "  [84  ,   31]  =  0.0\n",
       "  [163 ,   31]  =  0.0\n",
       "  [224 ,   31]  =  0.0\n",
       "  [264 ,   31]  =  0.0\n",
       "  [274 ,   31]  =  10.0\n",
       "  [278 ,   31]  =  10.0\n",
       "  [282 ,   31]  =  10.0\n",
       "  [286 ,   31]  =  10.0\n",
       "  [290 ,   31]  =  10.0\n",
       " \n",
       "  [291 ,    1]  =  0.0\n",
       "  [581 ,    1]  =  0.0\n",
       "  [835 ,    1]  =  0.0\n",
       "  [1026,    1]  =  0.0\n",
       "  [1053,    1]  =  0.0\n",
       "  [1074,    1]  =  0.0\n",
       "  [1095,    1]  =  0.0\n",
       "  [1116,    1]  =  0.0\n",
       "  [1137,    1]  =  0.0\n",
       "  [270 ,    2]  =  0.0\n",
       "  [292 ,    2]  =  1.0\n",
       "  [560 ,    2]  =  0.0\n",
       "  ⋮\n",
       "  [270 ,   25]  =  0.0\n",
       "  [291 ,   25]  =  0.0\n",
       "  [379 ,   25]  =  0.0\n",
       "  [459 ,   25]  =  0.0\n",
       "  [521 ,   25]  =  0.0\n",
       "  [562 ,   25]  =  0.0\n",
       "  [583 ,   25]  =  0.0\n",
       "  [89  ,   31]  =  0.0\n",
       "  [169 ,   31]  =  0.0\n",
       "  [231 ,   31]  =  0.0\n",
       "  [272 ,   31]  =  0.0\n",
       "  [293 ,   31]  =  0.0            "
      ]
     },
     "execution_count": 16,
     "metadata": {},
     "output_type": "execute_result"
    }
   ],
   "source": [
    "B"
   ]
  }
 ],
 "metadata": {
  "kernelspec": {
   "display_name": "Julia 1.1.1",
   "language": "julia",
   "name": "julia-1.1"
  },
  "language_info": {
   "file_extension": ".jl",
   "mimetype": "application/julia",
   "name": "julia",
   "version": "1.1.1"
  }
 },
 "nbformat": 4,
 "nbformat_minor": 2
}
