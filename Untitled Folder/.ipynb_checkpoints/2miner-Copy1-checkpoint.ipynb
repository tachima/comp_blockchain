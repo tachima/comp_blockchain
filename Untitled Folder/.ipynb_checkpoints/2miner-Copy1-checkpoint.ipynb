{
 "cells": [
  {
   "cell_type": "code",
   "execution_count": 3,
   "metadata": {},
   "outputs": [
    {
     "name": "stdout",
     "output_type": "stream",
     "text": [
      "\u001b[32m\u001b[1m Resolving\u001b[22m\u001b[39m package versions...\n",
      "\u001b[32m\u001b[1m  Updating\u001b[22m\u001b[39m `~/.julia/environments/v1.0/Project.toml`\n",
      "\u001b[90m [no changes]\u001b[39m\n",
      "\u001b[32m\u001b[1m  Updating\u001b[22m\u001b[39m `~/.julia/environments/v1.0/Manifest.toml`\n",
      "\u001b[90m [no changes]\u001b[39m\n"
     ]
    },
    {
     "name": "stderr",
     "output_type": "stream",
     "text": [
      "┌ Info: Precompiling MAT [23992714-dd62-5051-b70f-ba57cb901cac]\n",
      "└ @ Base loading.jl:1192\n",
      "ERROR: LoadError: LoadError: syntax: extra token \"MatlabHDF5File\" after end of expression\n",
      "Stacktrace:\n",
      " [1] include at ./boot.jl:317 [inlined]\n",
      " [2] include_relative(::Module, ::String) at ./loading.jl:1044\n",
      " [3] include at ./sysimg.jl:29 [inlined]\n",
      " [4] include(::String) at /home/tachima/.julia/packages/MAT/KiQ9U/src/MAT.jl:27\n",
      " [5] top-level scope at none:0\n",
      " [6] include at ./boot.jl:317 [inlined]\n",
      " [7] include_relative(::Module, ::String) at ./loading.jl:1044\n",
      " [8] include(::Module, ::String) at ./sysimg.jl:29\n",
      " [9] top-level scope at none:2\n",
      " [10] eval at ./boot.jl:319 [inlined]\n",
      " [11] eval(::Expr) at ./client.jl:393\n",
      " [12] top-level scope at ./none:3\n",
      "in expression starting at /home/tachima/.julia/packages/MAT/KiQ9U/src/MAT_HDF5.jl:39\n",
      "in expression starting at /home/tachima/.julia/packages/MAT/KiQ9U/src/MAT.jl:31\n"
     ]
    },
    {
     "ename": "ErrorException",
     "evalue": "Failed to precompile MAT [23992714-dd62-5051-b70f-ba57cb901cac] to /home/tachima/.julia/compiled/v1.0/MAT/3FHIv.ji.",
     "output_type": "error",
     "traceback": [
      "Failed to precompile MAT [23992714-dd62-5051-b70f-ba57cb901cac] to /home/tachima/.julia/compiled/v1.0/MAT/3FHIv.ji.",
      "",
      "Stacktrace:",
      " [1] error(::String) at ./error.jl:33",
      " [2] compilecache(::Base.PkgId, ::String) at ./loading.jl:1203",
      " [3] _require(::Base.PkgId) at ./loading.jl:960",
      " [4] require(::Base.PkgId) at ./loading.jl:858",
      " [5] require(::Module, ::Symbol) at ./loading.jl:853",
      " [6] top-level scope at In[3]:4"
     ]
    }
   ],
   "source": [
    "using Pkg\n",
    "#Pkg.rm(\"DataStructures\")\n",
    "Pkg.add(\"MAT\")\n",
    "#Pkg.add(PackageSpec(url=\"https://github.com/halleysfifthinc/MAT.jl\"))\n",
    "using MAT\n",
    "#using SparseArrays"
   ]
  },
  {
   "cell_type": "code",
   "execution_count": 11,
   "metadata": {},
   "outputs": [],
   "source": [
    "include(\"qst.jl\");"
   ]
  },
  {
   "cell_type": "markdown",
   "metadata": {},
   "source": [
    "### Definition of functions"
   ]
  },
  {
   "cell_type": "markdown",
   "metadata": {},
   "source": [
    "Compute expected sojourn time\n",
    "- $Q$: CTMC kernel (transient)\n",
    "- $x$: Initial vector"
   ]
  },
  {
   "cell_type": "code",
   "execution_count": 19,
   "metadata": {},
   "outputs": [],
   "source": [
    "ex(Q, x) = (-Q)' \\ x;#x/Qt"
   ]
  },
  {
   "cell_type": "markdown",
   "metadata": {},
   "source": [
    "Compute the initial vectors\n",
    "- q: quasi stationary (block)\n",
    "- Q0: CTMC kernel (block)\n",
    "- Q1: CTMC kernel (block)\n",
    "- A: Transition rate matrix (block)\n",
    "- B: Transition rate matrix (block)"
   ]
  },
  {
   "cell_type": "code",
   "execution_count": 20,
   "metadata": {},
   "outputs": [],
   "source": [
    "function comp_piv(q, Q0, Q1, A, B)\n",
    "    nn = size(Q0)[1] - 1\n",
    "    piv = []\n",
    "    x = q[1] / sum(q[1])#x=π0\n",
    "    x = ex(Q0[1] + B[1], x)#ココ\n",
    "    x = Q1[1]' * x#x=π1の分子?\n",
    "    p = 0\n",
    "    push!(piv, x / (sum(x) + p)) #piv=π1\n",
    "    for i = 2:nn\n",
    "        x = ex(Q0[i], x) #x=π1*Q_(1,1)\n",
    "        p += sum(A[i]' * x) #p=分母の左っかわ\n",
    "        x = Q1[i]' * x #ココ\n",
    "        push!(piv, x / (sum(x) + p)) #piv = πi\n",
    "    end\n",
    "    piv\n",
    "end;"
   ]
  },
  {
   "cell_type": "markdown",
   "metadata": {},
   "source": [
    "Compute the cancel probability for unconsensus block\n",
    "- piv: initial vectors (block)\n",
    "- n: the number of blocks in the chain\n",
    "- Q0: CTMC kernel (block)\n",
    "- Q1: CTMC kernel (block)\n",
    "- A: Transition rate matrix (block)\n",
    "- B: Transition rate matrix (block)"
   ]
  },
  {
   "cell_type": "code",
   "execution_count": 21,
   "metadata": {},
   "outputs": [],
   "source": [
    "function cancel_prob(piv, n, Q0, Q1, A, B) #破棄される確率の計算\n",
    "    nn = size(Q0)[1] - 1\n",
    "    prob = 0.0\n",
    "    x = piv[n]\n",
    "    for i = n:nn\n",
    "        x = ex(Q0[i+1], x)\n",
    "        prob += sum(B[i+1]' * x)\n",
    "        x = Q1[i+1]' * x\n",
    "    end\n",
    "    prob, sum(x)\n",
    "end;"
   ]
  },
  {
   "cell_type": "markdown",
   "metadata": {},
   "source": [
    "## Read matfile"
   ]
  },
  {
   "cell_type": "code",
   "execution_count": 24,
   "metadata": {},
   "outputs": [
    {
     "ename": "UndefVarError",
     "evalue": "UndefVarError: matread not defined",
     "output_type": "error",
     "traceback": [
      "UndefVarError: matread not defined",
      "",
      "Stacktrace:",
      " [1] top-level scope at In[24]:1"
     ]
    }
   ],
   "source": [
    "mat = matread(\"bc3.mat\");"
   ]
  },
  {
   "cell_type": "markdown",
   "metadata": {},
   "source": [
    "## matreadが使えないので別アプローチ"
   ]
  },
  {
   "cell_type": "code",
   "execution_count": 2,
   "metadata": {},
   "outputs": [
    {
     "data": {
      "text/plain": [
       "152-element Array{String,1}:\n",
       " \"{'__header__': b'MATLAB 5.0 MAT-file, Platform: Linux, CREATED on: Thu Oct 15 05:39:56 UTC 2020', '__version__': '1.0', '__globals__': [], 'G0G0E': <300x300 sparse matrix of type '<class 'numpy.float64'>'\"\n",
       " \"\\twith 838 stored elements in Compressed Sparse Column format>, 'G0A0E': <300x1 sparse matrix of type '<class 'numpy.float64'>'\"                                                                             \n",
       " \"\\twith 2 stored elements in Compressed Sparse Column format>, 'G0I0E': <300x70 sparse matrix of type '<class 'numpy.float64'>'\"                                                                              \n",
       " \"\\twith 70 stored elements in Compressed Sparse Column format>, 'I0G0E': <70x300 sparse matrix of type '<class 'numpy.float64'>'\"                                                                             \n",
       " \"\\twith 70 stored elements in Compressed Sparse Column format>, 'sumG0E': array([[  0.4,  10.4,  20.4,  30.4,  40.4,  50.3,  10.4,  20.4,  30.4,\"                                                             \n",
       " \"         40.4,  50.4,  60.3,  20.4,  30.4,  40.4,  50.4,  60.4,  70.3,\"                                                                                                                                      \n",
       " \"         30.4,  40.4,  50.4,  60.4,  70.4,  80.3,  40.4,  50.4,  60.4,\"                                                                                                                                      \n",
       " \"         70.4,  80.4,  90.3,  50.1,  60.1,  70.1,  80.1,  90.1, 100. ,\"                                                                                                                                      \n",
       " \"         10.4,  20.4,  30.4,  40.4,  50.3,  20.4,  30.4,  40.4,  50.4,\"                                                                                                                                      \n",
       " \"         60.3,  30.4,  40.4,  50.4,  60.4,  70.3,  40.4,  50.4,  60.4,\"                                                                                                                                      \n",
       " \"         70.4,  80.3,  50.1,  60.1,  70.1,  80.1,  90. ,  20.4,  30.4,\"                                                                                                                                      \n",
       " \"         40.4,  50.3,  30.4,  40.4,  50.4,  60.3,  40.4,  50.4,  60.4,\"                                                                                                                                      \n",
       " \"         70.3,  50.1,  60.1,  70.1,  80. ,  30.4,  40.4,  50.3,  40.4,\"                                                                                                                                      \n",
       " ⋮                                                                                                                                                                                                             \n",
       " \"        1., 1., 1., 1., 0., 0., 0., 0., 0., 0., 0., 0., 0., 0., 1., 1.,\"                                                                                                                                     \n",
       " \"        1., 1., 1., 1., 1., 1., 0., 0., 0., 0., 0., 0., 1., 1., 1., 1.,\"                                                                                                                                     \n",
       " \"        1., 1., 1., 1., 1., 0., 0., 0., 1., 1., 1., 1., 1., 1., 1., 1.,\"                                                                                                                                     \n",
       " \"        0., 1., 1., 1., 1., 1.]]), 'winAA0': array([[1.]]), 'AI0': array([[1., 2., 3., 4., 5., 2., 3., 4., 5., 3., 4., 5., 4., 5., 5., 0.,\"                                                                  \n",
       " \"        0., 0., 0., 0., 2., 3., 4., 5., 3., 4., 5., 4., 5., 5., 1., 1.,\"                                                                                                                                     \n",
       " \"        1., 1., 1., 1., 1., 1., 3., 4., 5., 4., 5., 5., 2., 2., 2., 2.,\"                                                                                                                                     \n",
       " \"        2., 2., 2., 2., 2., 4., 5., 5., 3., 3., 3., 3., 3., 3., 3., 3.,\"                                                                                                                                     \n",
       " \"        5., 4., 4., 4., 4., 4.]]), 'BI0': array([[0., 0., 0., 0., 0., 1., 1., 1., 1., 2., 2., 2., 3., 3., 4., 1.,\"                                                                                           \n",
       " \"        2., 3., 4., 5., 1., 1., 1., 1., 2., 2., 2., 3., 3., 4., 2., 3.,\"                                                                                                                                     \n",
       " \"        4., 5., 2., 3., 4., 5., 2., 2., 2., 3., 3., 4., 3., 4., 5., 3.,\"                                                                                                                                     \n",
       " \"        4., 5., 3., 4., 5., 3., 3., 4., 4., 5., 4., 5., 4., 5., 4., 5.,\"                                                                                                                                     \n",
       " \"        4., 5., 5., 5., 5., 5.]]), 'BA0': array([[5.]])}\"                                                                                                                                                    "
      ]
     },
     "execution_count": 2,
     "metadata": {},
     "output_type": "execute_result"
    }
   ],
   "source": [
    "lines = open( \"mat.txt\", \"r\" ) do fp\n",
    "  readlines( fp )\n",
    "end"
   ]
  },
  {
   "cell_type": "code",
   "execution_count": 4,
   "metadata": {},
   "outputs": [
    {
     "ename": "ArgumentError",
     "evalue": "ArgumentError: invalid index: G0G0E of type String",
     "output_type": "error",
     "traceback": [
      "ArgumentError: invalid index: G0G0E of type String",
      "",
      "Stacktrace:",
      " [1] to_index(::String) at ./indices.jl:266",
      " [2] to_index(::Array{String,1}, ::String) at ./indices.jl:247",
      " [3] to_indices at ./indices.jl:294 [inlined]",
      " [4] to_indices at ./indices.jl:291 [inlined]",
      " [5] getindex(::Array{String,1}, ::String) at ./abstractarray.jl:905",
      " [6] top-level scope at In[4]:1"
     ]
    }
   ],
   "source": [
    "lines[\"G0G0E\"]"
   ]
  },
  {
   "cell_type": "markdown",
   "metadata": {},
   "source": [
    "## Create CTMC kernel\n",
    "- Q: CTMC kernel without events win A and win B for transient states\n",
    "- QQ: CTMC kernel with the evnets for transient states\n",
    "- xi: Exit vector from transient states to absorbing state"
   ]
  },
  {
   "cell_type": "code",
   "execution_count": 23,
   "metadata": {},
   "outputs": [
    {
     "ename": "ArgumentError",
     "evalue": "ArgumentError: invalid index: G0G0E of type String",
     "output_type": "error",
     "traceback": [
      "ArgumentError: invalid index: G0G0E of type String",
      "",
      "Stacktrace:",
      " [1] to_index(::String) at ./indices.jl:266",
      " [2] to_index(::Array{UInt8,1}, ::String) at ./indices.jl:247",
      " [3] to_indices at ./indices.jl:294 [inlined]",
      " [4] to_indices at ./indices.jl:291 [inlined]",
      " [5] getindex(::Array{UInt8,1}, ::String) at ./abstractarray.jl:905",
      " [6] top-level scope at In[23]:1"
     ]
    }
   ],
   "source": [
    "Q = mat[\"G0G0E\"] - spdiagm(0 => mat[\"sumG0E\"][:]); #ABともに勝ち負け決まらずに遷移する行列\n",
    "QQ = Q + mat[\"G0I0E\"] * mat[\"I0G0E\"]; #に何か足したもの（ココ）\n",
    "xi = Array(mat[\"G0A0E\"])[:];#G0→吸収状態の確率？"
   ]
  },
  {
   "cell_type": "markdown",
   "metadata": {},
   "source": [
    "## Make block matrices"
   ]
  },
  {
   "cell_type": "markdown",
   "metadata": {},
   "source": [
    "The number of blocks which depends on the maximum number of minings"
   ]
  },
  {
   "cell_type": "code",
   "execution_count": 333,
   "metadata": {},
   "outputs": [],
   "source": [
    "nn = 30; #ブロックは最大３０"
   ]
  },
  {
   "cell_type": "markdown",
   "metadata": {},
   "source": [
    "Indicies of Q and QQ matrices when the number of unconcensuss minings"
   ]
  },
  {
   "cell_type": "code",
   "execution_count": 334,
   "metadata": {},
   "outputs": [],
   "source": [
    "m = [findall(x -> x == i, mat[\"AG0\"][:]) for i = 0:nn];#x==iのインデックスを返す"
   ]
  },
  {
   "cell_type": "markdown",
   "metadata": {},
   "source": [
    "- $Q_0[i]$: CTMC kernel without the concensus events when the number of unconcensuss minings of A is $i$\n",
    "- $Q_1[i]$: CTMC kernel for the event A succeeds the mining when the number of unconcensuss minings of A is $i$\n",
    "- $A$: Transition matrix (vector) when A wins\n",
    "- $B$: Transition matrix when B wins"
   ]
  },
  {
   "cell_type": "code",
   "execution_count": 335,
   "metadata": {},
   "outputs": [],
   "source": [
    "function winA(i) #ココ。\n",
    "    s = zeros(size(m[i+1]))\n",
    "    for j = 0:i\n",
    "        s += mat[\"G0I0E\"][m[i+1],:] * spdiagm(0 => mat[\"winAI0\"][:]) * mat[\"I0G0E\"][:,m[j+1]] * ones(size(m[j+1]))\n",
    "    end\n",
    "    s\n",
    "end\n",
    "winB(i) = mat[\"G0I0E\"][m[i+1],:] * spdiagm(0 => mat[\"winBI0\"][:]) * mat[\"I0G0E\"][:,m[1]];#winBI0,Bが勝つと1さもなくば0\n",
    "\n",
    "A = [winA(i) for i = 0:nn];#多分Aij\n",
    "B = [winB(i) for i = 0:nn];#多分Bij\n",
    "\n",
    "Q0 = [Q[m[i+1],m[i+1]] for i = 0:nn];#Qの対角要素\n",
    "Q1 = [Q[m[i+1],m[i+2]] for i = 0:nn-1];#からひとつずらした対角要素\n",
    "push!(Q1, mat[\"G0A0E\"][m[nn+1],:]);#吸収状態への推移率を足す"
   ]
  },
  {
   "cell_type": "code",
   "execution_count": 336,
   "metadata": {
    "scrolled": true
   },
   "outputs": [
    {
     "data": {
      "text/plain": [
       "164175-element Array{Float64,1}:\n",
       "  0.0\n",
       "  1.0\n",
       "  2.0\n",
       "  3.0\n",
       "  4.0\n",
       "  5.0\n",
       "  6.0\n",
       "  7.0\n",
       "  8.0\n",
       "  9.0\n",
       " 10.0\n",
       " 11.0\n",
       " 12.0\n",
       "  ⋮  \n",
       "  0.0\n",
       "  0.0\n",
       "  0.0\n",
       "  0.0\n",
       "  0.0\n",
       "  0.0\n",
       "  0.0\n",
       "  0.0\n",
       "  0.0\n",
       "  0.0\n",
       "  0.0\n",
       "  0.0"
      ]
     },
     "execution_count": 336,
     "metadata": {},
     "output_type": "execute_result"
    }
   ],
   "source": [
    "a = mat[\"G0I0E\"] * mat[\"winAI0\"][:]"
   ]
  },
  {
   "cell_type": "code",
   "execution_count": 337,
   "metadata": {
    "scrolled": true
   },
   "outputs": [
    {
     "data": {
      "text/plain": [
       "164175-element Array{Float64,1}:\n",
       " 0.5000000000000001\n",
       " 0.9581016122120011\n",
       " 0.9972193465440107\n",
       " 0.9998467312858469\n",
       " 0.9999927582301392\n",
       " 0.9999997000522505\n",
       " 0.9999999889262745\n",
       " 0.9999999996308673\n",
       " 0.9999999999887758\n",
       " 0.9999999999996863\n",
       " 0.999999999999992 \n",
       " 0.9999999999999999\n",
       " 1.0               \n",
       " ⋮                 \n",
       " 0.0               \n",
       " 0.0               \n",
       " 0.0               \n",
       " 0.0               \n",
       " 0.0               \n",
       " 0.0               \n",
       " 0.0               \n",
       " 0.0               \n",
       " 0.0               \n",
       " 0.0               \n",
       " 0.0               \n",
       " 0.0               "
      ]
     },
     "execution_count": 337,
     "metadata": {},
     "output_type": "execute_result"
    }
   ],
   "source": [
    "aq=-Q\\a"
   ]
  },
  {
   "cell_type": "markdown",
   "metadata": {},
   "source": [
    "## Compute quasi stationary"
   ]
  },
  {
   "cell_type": "code",
   "execution_count": 338,
   "metadata": {},
   "outputs": [
    {
     "name": "stdout",
     "output_type": "stream",
     "text": [
      "convergence   : true\n",
      "iteration     : 100 / 5000\n",
      "relative error: 8.881775e-16 < 1.000000e-06\n",
      "gam 5.303223e-32"
     ]
    }
   ],
   "source": [
    "gam, q = qstgs(QQ, xi)#ココ\n",
    "@printf \"gam %e\" gam\n",
    "#q = [q[x] for x = m];"
   ]
  },
  {
   "cell_type": "markdown",
   "metadata": {},
   "source": [
    "## Compute cancel probability"
   ]
  },
  {
   "cell_type": "code",
   "execution_count": 339,
   "metadata": {
    "scrolled": true
   },
   "outputs": [
    {
     "ename": "MethodError",
     "evalue": "MethodError: no method matching /(::Float64, ::SparseMatrixCSC{Float64,Int64})\nClosest candidates are:\n  /(::Float64, !Matched::Float64) at float.jl:401\n  /(::R<:Real, !Matched::S<:Complex) where {R<:Real, S<:Complex} at complex.jl:323\n  /(::Union{Float16, Float32, Float64}, !Matched::BigFloat) at mpfr.jl:450\n  ...",
     "output_type": "error",
     "traceback": [
      "MethodError: no method matching /(::Float64, ::SparseMatrixCSC{Float64,Int64})\nClosest candidates are:\n  /(::Float64, !Matched::Float64) at float.jl:401\n  /(::R<:Real, !Matched::S<:Complex) where {R<:Real, S<:Complex} at complex.jl:323\n  /(::Union{Float16, Float32, Float64}, !Matched::BigFloat) at mpfr.jl:450\n  ...",
      "",
      "Stacktrace:",
      " [1] \\(::Adjoint{Float64,SparseMatrixCSC{Float64,Int64}}, ::Float64) at ./operators.jl:536",
      " [2] ex(::SparseMatrixCSC{Float64,Int64}, ::Float64) at ./In[328]:1",
      " [3] comp_piv(::Array{Float64,1}, ::Array{SparseMatrixCSC{Float64,Int64},1}, ::Array{SparseMatrixCSC{Float64,Int64},1}, ::Array{Array{Float64,1},1}, ::Array{SparseMatrixCSC{Float64,Int64},1}) at ./In[329]:5",
      " [4] top-level scope at In[339]:1"
     ]
    }
   ],
   "source": [
    "piv = comp_piv(q, Q0, Q1, A, B);\n",
    "res = [cancel_prob(piv, i, Q0, Q1, A, B) for i = 1:nn]"
   ]
  },
  {
   "cell_type": "code",
   "execution_count": 340,
   "metadata": {
    "scrolled": true
   },
   "outputs": [
    {
     "data": {
      "text/plain": [
       "30-element Array{Tuple{Float64,Float64},1}:\n",
       " (0.08721260702315045, 6.300599251054108e-31)   \n",
       " (0.009008299663501028, 6.840411702639877e-31)  \n",
       " (0.0008745954272219972, 6.896555347056629e-31) \n",
       " (8.440692132007777e-5, 6.90200969617099e-31)   \n",
       " (8.141761783968399e-6, 6.902536123475696e-31)  \n",
       " (7.853070838421035e-7, 6.902586902083433e-31)  \n",
       " (7.574591464713639e-8, 6.902591799894904e-31)  \n",
       " (7.3059860050630235e-9, 6.902592272307832e-31) \n",
       " (7.046905681908034e-10, 6.902592317873871e-31) \n",
       " (6.797012724133969e-11, 6.902592322268912e-31) \n",
       " (6.555981318503065e-12, 6.902592322692817e-31) \n",
       " (6.323497218313031e-13, 6.902592322733708e-31) \n",
       " (6.099257323686072e-14, 6.902592322737656e-31) \n",
       " ⋮                                              \n",
       " (4.9112800979021426e-20, 6.902592322738071e-31)\n",
       " (4.737119361291677e-21, 6.902592322738071e-31) \n",
       " (4.569134600747318e-22, 6.902592322738071e-31) \n",
       " (4.407106782417997e-23, 6.902592322738071e-31) \n",
       " (4.250824412362062e-24, 6.902592322738071e-31) \n",
       " (4.1000812231873935e-25, 6.902592322738071e-31)\n",
       " (3.9546555289790474e-26, 6.902592322738071e-31)\n",
       " (3.8141061834670145e-27, 6.902592322738071e-31)\n",
       " (3.6757350832158483e-28, 6.902592322738075e-31)\n",
       " (3.5142516613944664e-29, 6.902592322738075e-31)\n",
       " (3.080462085535285e-30, 6.902592322738075e-31) \n",
       " (0.0, 6.902592322738076e-31)                   "
      ]
     },
     "execution_count": 340,
     "metadata": {},
     "output_type": "execute_result"
    }
   ],
   "source": [
    "res"
   ]
  },
  {
   "cell_type": "code",
   "execution_count": 341,
   "metadata": {},
   "outputs": [
    {
     "data": {
      "text/plain": [
       "0.5"
      ]
     },
     "execution_count": 341,
     "metadata": {},
     "output_type": "execute_result"
    }
   ],
   "source": [
    "sum(aq.*q)"
   ]
  },
  {
   "cell_type": "code",
   "execution_count": null,
   "metadata": {},
   "outputs": [],
   "source": []
  }
 ],
 "metadata": {
  "kernelspec": {
   "display_name": "Julia 1.0.5",
   "language": "julia",
   "name": "julia-1.0"
  },
  "language_info": {
   "file_extension": ".jl",
   "mimetype": "application/julia",
   "name": "julia",
   "version": "1.0.5"
  }
 },
 "nbformat": 4,
 "nbformat_minor": 4
}
