{
 "cells": [
  {
   "cell_type": "code",
   "execution_count": 1,
   "metadata": {},
   "outputs": [
    {
     "name": "stdout",
     "output_type": "stream",
     "text": [
      "\u001b[32m\u001b[1m  Updating\u001b[22m\u001b[39m `~/.julia/environments/v1.0/Project.toml`\n",
      " \u001b[90m [23992714]\u001b[39m\u001b[91m - MAT v0.7.0\u001b[39m\n",
      "\u001b[32m\u001b[1m  Updating\u001b[22m\u001b[39m `~/.julia/environments/v1.0/Manifest.toml`\n",
      " \u001b[90m [a74b3585]\u001b[39m\u001b[91m - Blosc v0.5.1\u001b[39m\n",
      " \u001b[90m [e1450e63]\u001b[39m\u001b[91m - BufferedStreams v1.0.0\u001b[39m\n",
      " \u001b[90m [631607c0]\u001b[39m\u001b[91m - CMake v1.2.0\u001b[39m\n",
      " \u001b[90m [d5fb7624]\u001b[39m\u001b[91m - CMakeWrapper v0.2.4\u001b[39m\n",
      " \u001b[90m [944b1d66]\u001b[39m\u001b[91m - CodecZlib v0.6.0\u001b[39m\n",
      " \u001b[90m [34da2185]\u001b[39m\u001b[91m - Compat v2.2.1\u001b[39m\n",
      " \u001b[90m [f67ccb44]\u001b[39m\u001b[91m - HDF5 v0.12.5\u001b[39m\n",
      " \u001b[90m [23992714]\u001b[39m\u001b[91m - MAT v0.7.0\u001b[39m\n",
      " \u001b[90m [d96e819e]\u001b[39m\u001b[91m - Parameters v0.12.1\u001b[39m\n",
      " \u001b[90m [3bb67fe8]\u001b[39m\u001b[91m - TranscodingStreams v0.9.5\u001b[39m\n",
      " \u001b[90m [3a884ed6]\u001b[39m\u001b[91m - UnPack v1.0.2\u001b[39m\n",
      " \u001b[90m [1a1011a3]\u001b[39m\u001b[91m - SharedArrays \u001b[39m\n"
     ]
    }
   ],
   "source": [
    "using Pkg\n",
    "#Pkg.rm(\"DataStructures\")\n",
    "Pkg.rm(\"MAT\")\n",
    "#Pkg.add(PackageSpec(url=\"https://github.com/JuliaInterop/MATLAB.jl\"))\n",
    "#using MAT\n",
    "#using SparseArrays"
   ]
  },
  {
   "cell_type": "code",
   "execution_count": 2,
   "metadata": {},
   "outputs": [
    {
     "name": "stdout",
     "output_type": "stream",
     "text": [
      "\u001b[32m\u001b[1m  Updating\u001b[22m\u001b[39m registry at `~/.julia/registries/General`\n",
      "\u001b[32m\u001b[1m  Updating\u001b[22m\u001b[39m git-repo `https://github.com/JuliaRegistries/General.git`\n",
      "\u001b[2K\u001b[?25h[1mFetching:\u001b[22m\u001b[39m [========================================>]  100.0 %.0 %\u001b[32m\u001b[1m Resolving\u001b[22m\u001b[39m package versions...\n",
      "\u001b[32m\u001b[1m  Updating\u001b[22m\u001b[39m `~/.julia/environments/v1.0/Project.toml`\n",
      " \u001b[90m [23992714]\u001b[39m\u001b[92m + MAT v0.7.0\u001b[39m\n",
      "\u001b[32m\u001b[1m  Updating\u001b[22m\u001b[39m `~/.julia/environments/v1.0/Manifest.toml`\n",
      " \u001b[90m [a74b3585]\u001b[39m\u001b[92m + Blosc v0.5.1\u001b[39m\n",
      " \u001b[90m [e1450e63]\u001b[39m\u001b[92m + BufferedStreams v1.0.0\u001b[39m\n",
      " \u001b[90m [631607c0]\u001b[39m\u001b[92m + CMake v1.2.0\u001b[39m\n",
      " \u001b[90m [d5fb7624]\u001b[39m\u001b[92m + CMakeWrapper v0.2.4\u001b[39m\n",
      " \u001b[90m [944b1d66]\u001b[39m\u001b[92m + CodecZlib v0.6.0\u001b[39m\n",
      " \u001b[90m [34da2185]\u001b[39m\u001b[92m + Compat v2.2.1\u001b[39m\n",
      " \u001b[90m [f67ccb44]\u001b[39m\u001b[92m + HDF5 v0.12.5\u001b[39m\n",
      " \u001b[90m [23992714]\u001b[39m\u001b[92m + MAT v0.7.0\u001b[39m\n",
      " \u001b[90m [d96e819e]\u001b[39m\u001b[92m + Parameters v0.12.1\u001b[39m\n",
      " \u001b[90m [3bb67fe8]\u001b[39m\u001b[92m + TranscodingStreams v0.9.5\u001b[39m\n",
      " \u001b[90m [3a884ed6]\u001b[39m\u001b[92m + UnPack v1.0.2\u001b[39m\n",
      " \u001b[90m [1a1011a3]\u001b[39m\u001b[92m + SharedArrays \u001b[39m\n"
     ]
    }
   ],
   "source": [
    "Pkg.add(\"MAT\")"
   ]
  },
  {
   "cell_type": "code",
   "execution_count": 3,
   "metadata": {},
   "outputs": [],
   "source": [
    "using MAT\n",
    "using SparseArrays"
   ]
  },
  {
   "cell_type": "code",
   "execution_count": 4,
   "metadata": {},
   "outputs": [],
   "source": [
    "include(\"qst.jl\");"
   ]
  },
  {
   "cell_type": "markdown",
   "metadata": {},
   "source": [
    "### Definition of functions"
   ]
  },
  {
   "cell_type": "markdown",
   "metadata": {},
   "source": [
    "Compute expected sojourn time\n",
    "- $Q$: CTMC kernel (transient)\n",
    "- $x$: Initial vector"
   ]
  },
  {
   "cell_type": "code",
   "execution_count": 5,
   "metadata": {},
   "outputs": [],
   "source": [
    "ex(Q, x) = (-Q)'\\ x;#x/Qt"
   ]
  },
  {
   "cell_type": "markdown",
   "metadata": {},
   "source": [
    "Compute the initial vectors\n",
    "- q: quasi stationary (block)\n",
    "- Q0: CTMC kernel (block)\n",
    "- Q1: CTMC kernel (block)\n",
    "- A: Transition rate matrix (block)\n",
    "- B: Transition rate matrix (block)"
   ]
  },
  {
   "cell_type": "code",
   "execution_count": 6,
   "metadata": {},
   "outputs": [],
   "source": [
    "function comp_piv(q, Q0, Q1, A, B)\n",
    "    nn = size(Q0)[1] - 1\n",
    "    piv = []\n",
    "    x = q[1] / sum(q[1])#x=π0\n",
    "    x = ex(Q0[1] + B[1], x)#ココ\n",
    "    x = Q1[1]' * x#x=π1の分子?\n",
    "    p = 0\n",
    "    push!(piv, x / (sum(x) + p)) #piv=π1\n",
    "    for i = 2:nn\n",
    "        x = ex(Q0[i], x) #x=π1*Q_(1,1)\n",
    "        p += sum(A[i]' * x) #p=分母の左っかわ\n",
    "        x = Q1[i]' * x #ココ\n",
    "        push!(piv, x / (sum(x) + p)) #piv = πi\n",
    "    end\n",
    "    piv\n",
    "end;"
   ]
  },
  {
   "cell_type": "markdown",
   "metadata": {},
   "source": [
    "Compute the cancel probability for unconsensus block\n",
    "- piv: initial vectors (block)\n",
    "- n: the number of blocks in the chain\n",
    "- Q0: CTMC kernel (block)\n",
    "- Q1: CTMC kernel (block)\n",
    "- A: Transition rate matrix (block)\n",
    "- B: Transition rate matrix (block)"
   ]
  },
  {
   "cell_type": "code",
   "execution_count": 7,
   "metadata": {},
   "outputs": [],
   "source": [
    "function cancel_prob(piv, n, Q0, Q1, A, B) #破棄される確率の計算\n",
    "    nn = size(Q0)[1] - 1\n",
    "    prob = 0.0\n",
    "    x = piv[n]\n",
    "    for i = n:nn\n",
    "        x = ex(Q0[i+1], x)\n",
    "        prob += sum(B[i+1]' * x)\n",
    "        x = Q1[i+1]' * x\n",
    "    end\n",
    "    prob, sum(x)\n",
    "end;"
   ]
  },
  {
   "cell_type": "markdown",
   "metadata": {},
   "source": [
    "## Read matfile"
   ]
  },
  {
   "cell_type": "code",
   "execution_count": 111,
   "metadata": {},
   "outputs": [],
   "source": [
    "mat = matread(\"bc3.mat\");"
   ]
  },
  {
   "cell_type": "markdown",
   "metadata": {},
   "source": [
    "## Create CTMC kernel\n",
    "- Q: CTMC kernel without events win A and win B for transient states\n",
    "- QQ: CTMC kernel with the evnets for transient states\n",
    "- xi: Exit vector from transient states to absorbing state"
   ]
  },
  {
   "cell_type": "code",
   "execution_count": 112,
   "metadata": {},
   "outputs": [],
   "source": [
    "Q = mat[\"G0G0E\"] - spdiagm(0 => mat[\"sumG0E\"][:]); #ABともに勝ち負け決まらずに遷移する行列\n",
    "QQ = Q + mat[\"G0I0E\"] * mat[\"I0G0E\"]; #に何か足したもの（ココ）\n",
    "xi = Array(mat[\"G0A0E\"])[:];#G0→吸収状態の確率？"
   ]
  },
  {
   "cell_type": "markdown",
   "metadata": {},
   "source": [
    "## Make block matrices"
   ]
  },
  {
   "cell_type": "markdown",
   "metadata": {},
   "source": [
    "The number of blocks which depends on the maximum number of minings"
   ]
  },
  {
   "cell_type": "code",
   "execution_count": 113,
   "metadata": {},
   "outputs": [],
   "source": [
    "nn = 30; #ブロックは最大３０"
   ]
  },
  {
   "cell_type": "markdown",
   "metadata": {},
   "source": [
    "Indicies of Q and QQ matrices when the number of unconcensuss minings"
   ]
  },
  {
   "cell_type": "code",
   "execution_count": 114,
   "metadata": {},
   "outputs": [],
   "source": [
    "m = [findall(x -> x == i, mat[\"AG0\"][:]) for i = 0:nn];#x==iのインデックスを返す"
   ]
  },
  {
   "cell_type": "markdown",
   "metadata": {},
   "source": [
    "- $Q_0[i]$: CTMC kernel without the concensus events when the number of unconcensuss minings of A is $i$\n",
    "- $Q_1[i]$: CTMC kernel for the event A succeeds the mining when the number of unconcensuss minings of A is $i$\n",
    "- $A$: Transition matrix (vector) when A wins\n",
    "- $B$: Transition matrix when B wins"
   ]
  },
  {
   "cell_type": "code",
   "execution_count": 115,
   "metadata": {},
   "outputs": [
    {
     "name": "stderr",
     "output_type": "stream",
     "text": [
      "\u001b[32mProgress: 100%|█████████████████████████████████████████| Time: 0:00:00\u001b[39m\n",
      "\u001b[32mProgress: 100%|█████████████████████████████████████████| Time: 0:00:00\u001b[39m\n",
      "\u001b[32mProgress: 100%|█████████████████████████████████████████| Time: 0:00:00\u001b[39m\n",
      "\u001b[32mProgress: 100%|█████████████████████████████████████████| Time: 0:00:00\u001b[39m\n",
      "\u001b[32mProgress: 100%|█████████████████████████████████████████| Time: 0:00:00\u001b[39m\n",
      "\u001b[32mProgress: 100%|█████████████████████████████████████████| Time: 0:00:00\u001b[39m\n",
      "\u001b[32mProgress: 100%|█████████████████████████████████████████| Time: 0:00:00\u001b[39m\n",
      "\u001b[32mProgress: 100%|█████████████████████████████████████████| Time: 0:00:00\u001b[39m\n",
      "\u001b[32mProgress: 100%|█████████████████████████████████████████| Time: 0:00:00\u001b[39m\n",
      "\u001b[32mProgress: 100%|█████████████████████████████████████████| Time: 0:00:00\u001b[39m\n",
      "\u001b[32mProgress: 100%|█████████████████████████████████████████| Time: 0:00:00\u001b[39m\n",
      "\u001b[32mProgress: 100%|█████████████████████████████████████████| Time: 0:00:01\u001b[39m\n",
      "\u001b[32mProgress: 100%|█████████████████████████████████████████| Time: 0:00:01\u001b[39m\n",
      "\u001b[32mProgress: 100%|█████████████████████████████████████████| Time: 0:00:01\u001b[39m\n",
      "\u001b[32mProgress: 100%|█████████████████████████████████████████| Time: 0:00:01\u001b[39m\n",
      "\u001b[32mProgress: 100%|█████████████████████████████████████████| Time: 0:00:01\u001b[39m\n",
      "\u001b[32mProgress: 100%|█████████████████████████████████████████| Time: 0:00:01\u001b[39m\n",
      "\u001b[32mProgress: 100%|█████████████████████████████████████████| Time: 0:00:01\u001b[39m\n",
      "\u001b[32mProgress: 100%|█████████████████████████████████████████| Time: 0:00:01\u001b[39m\n",
      "\u001b[32mProgress: 100%|█████████████████████████████████████████| Time: 0:00:01\u001b[39m\n",
      "\u001b[32mProgress: 100%|█████████████████████████████████████████| Time: 0:00:01\u001b[39m\n",
      "\u001b[32mProgress: 100%|█████████████████████████████████████████| Time: 0:00:02\u001b[39m\n",
      "\u001b[32mProgress: 100%|█████████████████████████████████████████| Time: 0:00:02\u001b[39m\n",
      "\u001b[32mProgress: 100%|█████████████████████████████████████████| Time: 0:00:02\u001b[39m\n"
     ]
    }
   ],
   "source": [
    "function winA(i) #ココ。\n",
    "    s = zeros(size(m[i+1]))\n",
    "    @showprogress for j = 0:i\n",
    "        s += mat[\"G0I0E\"][m[i+1],:] * spdiagm(0 => mat[\"winAI0\"][:]) * mat[\"I0G0E\"][:,m[j+1]] * ones(size(m[j+1]))\n",
    "    end\n",
    "    s\n",
    "end\n",
    "winB(i) = mat[\"G0I0E\"][m[i+1],:] * spdiagm(0 => mat[\"winBI0\"][:]) * mat[\"I0G0E\"][:,m[1]];#winBI0,Bが勝つと1さもなくば0\n",
    "\n",
    "A = [winA(i) for i = 0:nn];#多分Aij\n",
    "B = [winB(i) for i = 0:nn];#多分Bij\n",
    "\n",
    "Q0 = [Q[m[i+1],m[i+1]] for i = 0:nn];#Qの対角要素\n",
    "Q1 = [Q[m[i+1],m[i+2]] for i = 0:nn-1];#からひとつずらした対角要素\n",
    "push!(Q1, mat[\"G0A0E\"][m[nn+1],:]);#吸収状態への推移率を足す"
   ]
  },
  {
   "cell_type": "code",
   "execution_count": 116,
   "metadata": {
    "scrolled": true
   },
   "outputs": [
    {
     "data": {
      "text/plain": [
       "164175-element Array{Float64,1}:\n",
       "   0.0\n",
       "  10.0\n",
       "  20.0\n",
       "  30.0\n",
       "  40.0\n",
       "  50.0\n",
       "  60.0\n",
       "  70.0\n",
       "  80.0\n",
       "  90.0\n",
       " 100.0\n",
       " 110.0\n",
       " 120.0\n",
       "   ⋮  \n",
       "   0.0\n",
       "   0.0\n",
       "   0.0\n",
       "   0.0\n",
       "   0.0\n",
       "   0.0\n",
       "   0.0\n",
       "   0.0\n",
       "   0.0\n",
       "   0.0\n",
       "   0.0\n",
       "   0.0"
      ]
     },
     "execution_count": 116,
     "metadata": {},
     "output_type": "execute_result"
    }
   ],
   "source": [
    "a = mat[\"G0I0E\"] * mat[\"winAI0\"][:]\n",
    "#a = mat[\"G0I0E\"] * mat[\"winBI0\"][:]"
   ]
  },
  {
   "cell_type": "code",
   "execution_count": 117,
   "metadata": {
    "scrolled": true
   },
   "outputs": [
    {
     "data": {
      "text/plain": [
       "164175-element Array{Float64,1}:\n",
       " 0.5102826057888984\n",
       " 0.9952041298812961\n",
       " 0.9999645315074632\n",
       " 0.9999997876760492\n",
       " 0.9999999989277549\n",
       " 0.9999999999953044\n",
       " 0.9999999999999818\n",
       " 0.9999999999999998\n",
       " 0.9999999999999998\n",
       " 0.9999999999999999\n",
       " 0.9999999999999999\n",
       " 0.9999999999999999\n",
       " 0.9999999999999999\n",
       " ⋮                 \n",
       " 0.0               \n",
       " 0.0               \n",
       " 0.0               \n",
       " 0.0               \n",
       " 0.0               \n",
       " 0.0               \n",
       " 0.0               \n",
       " 0.0               \n",
       " 0.0               \n",
       " 0.0               \n",
       " 0.0               \n",
       " 0.0               "
      ]
     },
     "execution_count": 117,
     "metadata": {},
     "output_type": "execute_result"
    }
   ],
   "source": [
    "aq=-Q\\a"
   ]
  },
  {
   "cell_type": "markdown",
   "metadata": {},
   "source": [
    "## Compute quasi stationary"
   ]
  },
  {
   "cell_type": "code",
   "execution_count": 118,
   "metadata": {},
   "outputs": [
    {
     "name": "stdout",
     "output_type": "stream",
     "text": [
      "convergence   : true\n",
      "iteration     : 100 / 5000\n",
      "relative error: 2.960590e-16 < 1.000000e-06\n",
      "gam 5.051821e-46"
     ]
    }
   ],
   "source": [
    "gam, q = qstgs(QQ, xi)#ココ\n",
    "@printf \"gam %e\" gam\n",
    "q = [q[x] for x = m]; #勝つ確率を求める場合はコメントアウトする"
   ]
  },
  {
   "cell_type": "markdown",
   "metadata": {},
   "source": [
    "## Compute cancel probability"
   ]
  },
  {
   "cell_type": "code",
   "execution_count": 119,
   "metadata": {
    "scrolled": true
   },
   "outputs": [],
   "source": [
    "piv = comp_piv(q, Q0, Q1, A, B);"
   ]
  },
  {
   "cell_type": "code",
   "execution_count": 120,
   "metadata": {},
   "outputs": [
    {
     "data": {
      "text/plain": [
       "30-element Array{Tuple{Float64,Float64},1}:\n",
       " (0.031336949578680995, 5.4800291138850757e-45) \n",
       " (0.001054136638148008, 5.651348435389358e-45)  \n",
       " (3.452609598798631e-5, 5.657116690360403e-45)  \n",
       " (1.1300221958347272e-6, 5.657305622369936e-45) \n",
       " (3.698490166338259e-8, 5.657311806022944e-45)  \n",
       " (1.2104944195133288e-9, 5.657312008409937e-45) \n",
       " (3.96187929693848e-11, 5.65731201503394e-45)   \n",
       " (1.2967005751887511e-12, 5.657312015250746e-45)\n",
       " (4.2440272964690474e-14, 5.65731201525784e-45) \n",
       " (1.3890460176745054e-15, 5.657312015258069e-45)\n",
       " (4.54626868425855e-17, 5.657312015258082e-45)  \n",
       " (1.4879679065045473e-18, 5.657312015258075e-45)\n",
       " (4.8700344052583574e-20, 5.657312015258082e-45)\n",
       " ⋮                                              \n",
       " (5.986359867611411e-29, 5.657312015258082e-45) \n",
       " (1.959301567599927e-30, 5.657312015258082e-45) \n",
       " (6.412682694819507e-32, 5.657312015258082e-45) \n",
       " (2.098834606392837e-33, 5.657312015258082e-45) \n",
       " (6.869366401642669e-35, 5.657312015258077e-45) \n",
       " (2.2483045857714514e-36, 5.657312015258079e-45)\n",
       " (7.35857287147915e-38, 5.657312015258082e-45)  \n",
       " (2.40841629252005e-39, 5.657312015258082e-45)  \n",
       " (7.882330500433568e-41, 5.657312015258082e-45) \n",
       " (2.577057998811994e-42, 5.657312015258082e-45) \n",
       " (8.158743058440096e-44, 5.657312015258082e-45) \n",
       " (0.0, 5.65731201525808e-45)                    "
      ]
     },
     "execution_count": 120,
     "metadata": {},
     "output_type": "execute_result"
    }
   ],
   "source": [
    "res = [cancel_prob(piv, i, Q0, Q1, A, B) for i = 1:nn]"
   ]
  },
  {
   "cell_type": "code",
   "execution_count": 19,
   "metadata": {},
   "outputs": [
    {
     "ename": "DimensionMismatch",
     "evalue": "DimensionMismatch(\"arrays could not be broadcast to a common size\")",
     "output_type": "error",
     "traceback": [
      "DimensionMismatch(\"arrays could not be broadcast to a common size\")",
      "",
      "Stacktrace:",
      " [1] _bcs1 at ./broadcast.jl:439 [inlined]",
      " [2] _bcs at ./broadcast.jl:433 [inlined]",
      " [3] broadcast_shape at ./broadcast.jl:427 [inlined]",
      " [4] combine_axes at ./broadcast.jl:422 [inlined]",
      " [5] instantiate at ./broadcast.jl:266 [inlined]",
      " [6] materialize(::Base.Broadcast.Broadcasted{Base.Broadcast.DefaultArrayStyle{1},Nothing,typeof(*),Tuple{Array{Float64,1},Array{Array{Float64,1},1}}}) at ./broadcast.jl:756",
      " [7] top-level scope at In[19]:1"
     ]
    }
   ],
   "source": [
    "sum(aq.*q)"
   ]
  },
  {
   "cell_type": "code",
   "execution_count": 20,
   "metadata": {},
   "outputs": [
    {
     "data": {
      "text/plain": [
       "31-element Array{Array{Int64,1},1}:\n",
       " [1, 32, 63, 94, 125, 156, 187, 218, 249, 280  …  652, 683, 714, 745, 776, 807, 838, 869, 900, 931]                                \n",
       " [2, 33, 64, 95, 126, 157, 188, 219, 250, 281  …  11917, 11947, 11977, 12007, 12037, 12067, 12097, 12127, 12157, 12187]            \n",
       " [3, 34, 65, 96, 127, 158, 189, 220, 251, 282  …  23005, 23034, 23063, 23092, 23121, 23150, 23179, 23208, 23237, 23266]            \n",
       " [4, 35, 66, 97, 128, 159, 190, 221, 252, 283  …  33865, 33893, 33921, 33949, 33977, 34005, 34033, 34061, 34089, 34117]            \n",
       " [5, 36, 67, 98, 129, 160, 191, 222, 253, 284  …  44450, 44477, 44504, 44531, 44558, 44585, 44612, 44639, 44666, 44693]            \n",
       " [6, 37, 68, 99, 130, 161, 192, 223, 254, 285  …  54717, 54743, 54769, 54795, 54821, 54847, 54873, 54899, 54925, 54951]            \n",
       " [7, 38, 69, 100, 131, 162, 193, 224, 255, 286  …  64627, 64652, 64677, 64702, 64727, 64752, 64777, 64802, 64827, 64852]           \n",
       " [8, 39, 70, 101, 132, 163, 194, 225, 256, 287  …  74145, 74169, 74193, 74217, 74241, 74265, 74289, 74313, 74337, 74361]           \n",
       " [9, 40, 71, 102, 133, 164, 195, 226, 257, 288  …  83240, 83263, 83286, 83309, 83332, 83355, 83378, 83401, 83424, 83447]           \n",
       " [10, 41, 72, 103, 134, 165, 196, 227, 258, 289  …  91885, 91907, 91929, 91951, 91973, 91995, 92017, 92039, 92061, 92083]          \n",
       " [11, 42, 73, 104, 135, 166, 197, 228, 259, 290  …  100057, 100078, 100099, 100120, 100141, 100162, 100183, 100204, 100225, 100246]\n",
       " [12, 43, 74, 105, 136, 167, 198, 229, 260, 291  …  107737, 107757, 107777, 107797, 107817, 107837, 107857, 107877, 107897, 107917]\n",
       " [13, 44, 75, 106, 137, 168, 199, 230, 261, 292  …  114910, 114929, 114948, 114967, 114986, 115005, 115024, 115043, 115062, 115081]\n",
       " ⋮                                                                                                                                 \n",
       " [20, 51, 82, 113, 144, 175, 206, 237, 268, 299  …  150505, 150517, 150529, 150541, 150553, 150565, 150577, 150589, 150601, 150613]\n",
       " [21, 52, 83, 114, 145, 176, 207, 238, 269, 300  …  153562, 153573, 153584, 153595, 153606, 153617, 153628, 153639, 153650, 153661]\n",
       " [22, 53, 84, 115, 146, 177, 208, 239, 270, 301  …  156157, 156167, 156177, 156187, 156197, 156207, 156217, 156227, 156237, 156247]\n",
       " [23, 54, 85, 116, 147, 178, 209, 240, 271, 302  …  158315, 158324, 158333, 158342, 158351, 158360, 158369, 158378, 158387, 158396]\n",
       " [24, 55, 86, 117, 148, 179, 210, 241, 272, 303  …  160065, 160073, 160081, 160089, 160097, 160105, 160113, 160121, 160129, 160137]\n",
       " [25, 56, 87, 118, 149, 180, 211, 242, 273, 304  …  161440, 161447, 161454, 161461, 161468, 161475, 161482, 161489, 161496, 161503]\n",
       " [26, 57, 88, 119, 150, 181, 212, 243, 274, 305  …  162477, 162483, 162489, 162495, 162501, 162507, 162513, 162519, 162525, 162531]\n",
       " [27, 58, 89, 120, 151, 182, 213, 244, 275, 306  …  163217, 163222, 163227, 163232, 163237, 163242, 163247, 163252, 163257, 163262]\n",
       " [28, 59, 90, 121, 152, 183, 214, 245, 276, 307  …  163705, 163709, 163713, 163717, 163721, 163725, 163729, 163733, 163737, 163741]\n",
       " [29, 60, 91, 122, 153, 184, 215, 246, 277, 308  …  163990, 163993, 163996, 163999, 164002, 164005, 164008, 164011, 164014, 164017]\n",
       " [30, 61, 92, 123, 154, 185, 216, 247, 278, 309  …  164125, 164127, 164129, 164131, 164133, 164135, 164137, 164139, 164141, 164143]\n",
       " [31, 62, 93, 124, 155, 186, 217, 248, 279, 310  …  164166, 164167, 164168, 164169, 164170, 164171, 164172, 164173, 164174, 164175]"
      ]
     },
     "execution_count": 20,
     "metadata": {},
     "output_type": "execute_result"
    }
   ],
   "source": [
    "m"
   ]
  },
  {
   "cell_type": "code",
   "execution_count": 12,
   "metadata": {},
   "outputs": [],
   "source": [
    "using ProgressMeter"
   ]
  },
  {
   "cell_type": "code",
   "execution_count": 254,
   "metadata": {},
   "outputs": [
    {
     "name": "stderr",
     "output_type": "stream",
     "text": [
      "\u001b[32mProgress: 100%|█████████████████████████████████████████| Time: 0:00:05\u001b[39m\n"
     ]
    }
   ],
   "source": [
    "@showprogress for i in 1:50\n",
    "    sleep(0.1)\n",
    "end"
   ]
  }
 ],
 "metadata": {
  "kernelspec": {
   "display_name": "Julia 1.0.5",
   "language": "julia",
   "name": "julia-1.0"
  },
  "language_info": {
   "file_extension": ".jl",
   "mimetype": "application/julia",
   "name": "julia",
   "version": "1.0.5"
  }
 },
 "nbformat": 4,
 "nbformat_minor": 4
}
