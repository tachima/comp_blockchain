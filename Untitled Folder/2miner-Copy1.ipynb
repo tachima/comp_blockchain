{
 "cells": [
  {
   "cell_type": "code",
   "execution_count": 8,
   "metadata": {},
   "outputs": [
    {
     "name": "stdout",
     "output_type": "stream",
     "text": [
      "\u001b[32m\u001b[1m  Updating\u001b[22m\u001b[39m `~/.julia/environments/v1.0/Project.toml`\n",
      " \u001b[90m [23992714]\u001b[39m\u001b[91m - MAT v0.8.1+ #master (https://github.com/halleysfifthinc/MAT.jl.git)\u001b[39m\n",
      "\u001b[32m\u001b[1m  Updating\u001b[22m\u001b[39m `~/.julia/environments/v1.0/Manifest.toml`\n",
      " \u001b[90m [a74b3585]\u001b[39m\u001b[91m - Blosc v0.5.1\u001b[39m\n",
      " \u001b[90m [e1450e63]\u001b[39m\u001b[91m - BufferedStreams v1.0.0\u001b[39m\n",
      " \u001b[90m [631607c0]\u001b[39m\u001b[91m - CMake v1.2.0\u001b[39m\n",
      " \u001b[90m [d5fb7624]\u001b[39m\u001b[91m - CMakeWrapper v0.2.4\u001b[39m\n",
      " \u001b[90m [34da2185]\u001b[39m\u001b[91m - Compat v2.2.1\u001b[39m\n",
      " \u001b[90m [f67ccb44]\u001b[39m\u001b[91m - HDF5 v0.12.5\u001b[39m\n",
      " \u001b[90m [2ec943e9]\u001b[39m\u001b[91m - Libz v1.0.1\u001b[39m\n",
      " \u001b[90m [23992714]\u001b[39m\u001b[91m - MAT v0.8.1+ #master (https://github.com/halleysfifthinc/MAT.jl.git)\u001b[39m\n",
      " \u001b[90m [d96e819e]\u001b[39m\u001b[91m - Parameters v0.12.1\u001b[39m\n",
      " \u001b[90m [3a884ed6]\u001b[39m\u001b[91m - UnPack v1.0.2\u001b[39m\n",
      " \u001b[90m [1a1011a3]\u001b[39m\u001b[91m - SharedArrays \u001b[39m\n"
     ]
    }
   ],
   "source": [
    "using Pkg\n",
    "#Pkg.rm(\"DataStructures\")\n",
    "Pkg.rm(\"MAT\")\n",
    "#Pkg.add(PackageSpec(url=\"https://github.com/JuliaInterop/MATLAB.jl\"))\n",
    "#using MAT\n",
    "#using SparseArrays"
   ]
  },
  {
   "cell_type": "code",
   "execution_count": 9,
   "metadata": {},
   "outputs": [
    {
     "name": "stdout",
     "output_type": "stream",
     "text": [
      "\u001b[32m\u001b[1m Resolving\u001b[22m\u001b[39m package versions...\n",
      "\u001b[32m\u001b[1m Installed\u001b[22m\u001b[39m CodecZlib ────────── v0.6.0\n",
      "\u001b[32m\u001b[1m Installed\u001b[22m\u001b[39m MAT ──────────────── v0.7.0\n",
      "\u001b[32m\u001b[1m Installed\u001b[22m\u001b[39m TranscodingStreams ─ v0.9.5\n",
      "\u001b[32m\u001b[1m  Updating\u001b[22m\u001b[39m `~/.julia/environments/v1.0/Project.toml`\n",
      " \u001b[90m [23992714]\u001b[39m\u001b[92m + MAT v0.7.0\u001b[39m\n",
      "\u001b[32m\u001b[1m  Updating\u001b[22m\u001b[39m `~/.julia/environments/v1.0/Manifest.toml`\n",
      " \u001b[90m [a74b3585]\u001b[39m\u001b[92m + Blosc v0.5.1\u001b[39m\n",
      " \u001b[90m [e1450e63]\u001b[39m\u001b[92m + BufferedStreams v1.0.0\u001b[39m\n",
      " \u001b[90m [631607c0]\u001b[39m\u001b[92m + CMake v1.2.0\u001b[39m\n",
      " \u001b[90m [d5fb7624]\u001b[39m\u001b[92m + CMakeWrapper v0.2.4\u001b[39m\n",
      " \u001b[90m [944b1d66]\u001b[39m\u001b[92m + CodecZlib v0.6.0\u001b[39m\n",
      " \u001b[90m [34da2185]\u001b[39m\u001b[92m + Compat v2.2.1\u001b[39m\n",
      " \u001b[90m [f67ccb44]\u001b[39m\u001b[92m + HDF5 v0.12.5\u001b[39m\n",
      " \u001b[90m [23992714]\u001b[39m\u001b[92m + MAT v0.7.0\u001b[39m\n",
      " \u001b[90m [d96e819e]\u001b[39m\u001b[92m + Parameters v0.12.1\u001b[39m\n",
      " \u001b[90m [3bb67fe8]\u001b[39m\u001b[92m + TranscodingStreams v0.9.5\u001b[39m\n",
      " \u001b[90m [3a884ed6]\u001b[39m\u001b[92m + UnPack v1.0.2\u001b[39m\n",
      " \u001b[90m [1a1011a3]\u001b[39m\u001b[92m + SharedArrays \u001b[39m\n",
      "\u001b[32m\u001b[1m  Building\u001b[22m\u001b[39m CodecZlib → `~/.julia/packages/CodecZlib/5t9zO/deps/build.log`\n"
     ]
    }
   ],
   "source": [
    "Pkg.add(\"MAT\")"
   ]
  },
  {
   "cell_type": "code",
   "execution_count": 30,
   "metadata": {},
   "outputs": [],
   "source": [
    "using MAT\n",
    "using SparseArrays"
   ]
  },
  {
   "cell_type": "code",
   "execution_count": 15,
   "metadata": {},
   "outputs": [],
   "source": [
    "include(\"qst.jl\");"
   ]
  },
  {
   "cell_type": "markdown",
   "metadata": {},
   "source": [
    "### Definition of functions"
   ]
  },
  {
   "cell_type": "markdown",
   "metadata": {},
   "source": [
    "Compute expected sojourn time\n",
    "- $Q$: CTMC kernel (transient)\n",
    "- $x$: Initial vector"
   ]
  },
  {
   "cell_type": "code",
   "execution_count": 53,
   "metadata": {},
   "outputs": [],
   "source": [
    "ex(Q, x) = (-Q)'\\ x;#x/Qt"
   ]
  },
  {
   "cell_type": "markdown",
   "metadata": {},
   "source": [
    "Compute the initial vectors\n",
    "- q: quasi stationary (block)\n",
    "- Q0: CTMC kernel (block)\n",
    "- Q1: CTMC kernel (block)\n",
    "- A: Transition rate matrix (block)\n",
    "- B: Transition rate matrix (block)"
   ]
  },
  {
   "cell_type": "code",
   "execution_count": 17,
   "metadata": {},
   "outputs": [],
   "source": [
    "function comp_piv(q, Q0, Q1, A, B)\n",
    "    nn = size(Q0)[1] - 1\n",
    "    piv = []\n",
    "    x = q[1] / sum(q[1])#x=π0\n",
    "    x = ex(Q0[1] + B[1], x)#ココ\n",
    "    x = Q1[1]' * x#x=π1の分子?\n",
    "    p = 0\n",
    "    push!(piv, x / (sum(x) + p)) #piv=π1\n",
    "    for i = 2:nn\n",
    "        x = ex(Q0[i], x) #x=π1*Q_(1,1)\n",
    "        p += sum(A[i]' * x) #p=分母の左っかわ\n",
    "        x = Q1[i]' * x #ココ\n",
    "        push!(piv, x / (sum(x) + p)) #piv = πi\n",
    "    end\n",
    "    piv\n",
    "end;"
   ]
  },
  {
   "cell_type": "markdown",
   "metadata": {},
   "source": [
    "Compute the cancel probability for unconsensus block\n",
    "- piv: initial vectors (block)\n",
    "- n: the number of blocks in the chain\n",
    "- Q0: CTMC kernel (block)\n",
    "- Q1: CTMC kernel (block)\n",
    "- A: Transition rate matrix (block)\n",
    "- B: Transition rate matrix (block)"
   ]
  },
  {
   "cell_type": "code",
   "execution_count": 18,
   "metadata": {},
   "outputs": [],
   "source": [
    "function cancel_prob(piv, n, Q0, Q1, A, B) #破棄される確率の計算\n",
    "    nn = size(Q0)[1] - 1\n",
    "    prob = 0.0\n",
    "    x = piv[n]\n",
    "    for i = n:nn\n",
    "        x = ex(Q0[i+1], x)\n",
    "        prob += sum(B[i+1]' * x)\n",
    "        x = Q1[i+1]' * x\n",
    "    end\n",
    "    prob, sum(x)\n",
    "end;"
   ]
  },
  {
   "cell_type": "markdown",
   "metadata": {},
   "source": [
    "## Read matfile"
   ]
  },
  {
   "cell_type": "code",
   "execution_count": 141,
   "metadata": {},
   "outputs": [],
   "source": [
    "mat = matread(\"bc3.mat\");"
   ]
  },
  {
   "cell_type": "markdown",
   "metadata": {},
   "source": [
    "## Create CTMC kernel\n",
    "- Q: CTMC kernel without events win A and win B for transient states\n",
    "- QQ: CTMC kernel with the evnets for transient states\n",
    "- xi: Exit vector from transient states to absorbing state"
   ]
  },
  {
   "cell_type": "code",
   "execution_count": 142,
   "metadata": {},
   "outputs": [],
   "source": [
    "Q = mat[\"G0G0E\"] - spdiagm(0 => mat[\"sumG0E\"][:]); #ABともに勝ち負け決まらずに遷移する行列\n",
    "QQ = Q + mat[\"G0I0E\"] * mat[\"I0G0E\"]; #に何か足したもの（ココ）\n",
    "xi = Array(mat[\"G0A0E\"])[:];#G0→吸収状態の確率？"
   ]
  },
  {
   "cell_type": "markdown",
   "metadata": {},
   "source": [
    "## Make block matrices"
   ]
  },
  {
   "cell_type": "markdown",
   "metadata": {},
   "source": [
    "The number of blocks which depends on the maximum number of minings"
   ]
  },
  {
   "cell_type": "code",
   "execution_count": 143,
   "metadata": {},
   "outputs": [],
   "source": [
    "nn = 30; #ブロックは最大３０"
   ]
  },
  {
   "cell_type": "markdown",
   "metadata": {},
   "source": [
    "Indicies of Q and QQ matrices when the number of unconcensuss minings"
   ]
  },
  {
   "cell_type": "code",
   "execution_count": 144,
   "metadata": {},
   "outputs": [],
   "source": [
    "m = [findall(x -> x == i, mat[\"AG0\"][:]) for i = 0:nn];#x==iのインデックスを返す"
   ]
  },
  {
   "cell_type": "markdown",
   "metadata": {},
   "source": [
    "- $Q_0[i]$: CTMC kernel without the concensus events when the number of unconcensuss minings of A is $i$\n",
    "- $Q_1[i]$: CTMC kernel for the event A succeeds the mining when the number of unconcensuss minings of A is $i$\n",
    "- $A$: Transition matrix (vector) when A wins\n",
    "- $B$: Transition matrix when B wins"
   ]
  },
  {
   "cell_type": "code",
   "execution_count": 145,
   "metadata": {},
   "outputs": [],
   "source": [
    "function winA(i) #ココ。\n",
    "    s = zeros(size(m[i+1]))\n",
    "    for j = 0:i\n",
    "        s += mat[\"G0I0E\"][m[i+1],:] * spdiagm(0 => mat[\"winAI0\"][:]) * mat[\"I0G0E\"][:,m[j+1]] * ones(size(m[j+1]))\n",
    "    end\n",
    "    s\n",
    "end\n",
    "winB(i) = mat[\"G0I0E\"][m[i+1],:] * spdiagm(0 => mat[\"winBI0\"][:]) * mat[\"I0G0E\"][:,m[1]];#winBI0,Bが勝つと1さもなくば0\n",
    "\n",
    "A = [winA(i) for i = 0:nn];#多分Aij\n",
    "B = [winB(i) for i = 0:nn];#多分Bij\n",
    "\n",
    "Q0 = [Q[m[i+1],m[i+1]] for i = 0:nn];#Qの対角要素\n",
    "Q1 = [Q[m[i+1],m[i+2]] for i = 0:nn-1];#からひとつずらした対角要素\n",
    "push!(Q1, mat[\"G0A0E\"][m[nn+1],:]);#吸収状態への推移率を足す"
   ]
  },
  {
   "cell_type": "code",
   "execution_count": 146,
   "metadata": {
    "scrolled": true
   },
   "outputs": [
    {
     "data": {
      "text/plain": [
       "164175-element Array{Float64,1}:\n",
       "   0.0\n",
       "  10.0\n",
       "  20.0\n",
       "  30.0\n",
       "  40.0\n",
       "  50.0\n",
       "  60.0\n",
       "  70.0\n",
       "  80.0\n",
       "  90.0\n",
       " 100.0\n",
       " 110.0\n",
       " 120.0\n",
       "   ⋮  \n",
       "   0.0\n",
       "   0.0\n",
       "   0.0\n",
       "   0.0\n",
       "   0.0\n",
       "   0.0\n",
       "   0.0\n",
       "   0.0\n",
       "   0.0\n",
       "   0.0\n",
       "   0.0\n",
       "   0.0"
      ]
     },
     "execution_count": 146,
     "metadata": {},
     "output_type": "execute_result"
    }
   ],
   "source": [
    "a = mat[\"G0I0E\"] * mat[\"winAI0\"][:]"
   ]
  },
  {
   "cell_type": "code",
   "execution_count": 147,
   "metadata": {
    "scrolled": true
   },
   "outputs": [
    {
     "data": {
      "text/plain": [
       "164175-element Array{Float64,1}:\n",
       " 0.24633967030038847\n",
       " 0.9782532234356263 \n",
       " 0.9995233475016512 \n",
       " 0.9999915175961624 \n",
       " 0.9999998724201234 \n",
       " 0.9999999983339789 \n",
       " 0.9999999999807421 \n",
       " 0.9999999999997999 \n",
       " 0.999999999999998  \n",
       " 0.9999999999999999 \n",
       " 0.9999999999999999 \n",
       " 0.9999999999999999 \n",
       " 0.9999999999999999 \n",
       " ⋮                  \n",
       " 0.0                \n",
       " 0.0                \n",
       " 0.0                \n",
       " 0.0                \n",
       " 0.0                \n",
       " 0.0                \n",
       " 0.0                \n",
       " 0.0                \n",
       " 0.0                \n",
       " 0.0                \n",
       " 0.0                \n",
       " 0.0                "
      ]
     },
     "execution_count": 147,
     "metadata": {},
     "output_type": "execute_result"
    }
   ],
   "source": [
    "aq=-Q\\a"
   ]
  },
  {
   "cell_type": "markdown",
   "metadata": {},
   "source": [
    "## Compute quasi stationary"
   ]
  },
  {
   "cell_type": "code",
   "execution_count": 148,
   "metadata": {},
   "outputs": [
    {
     "name": "stdout",
     "output_type": "stream",
     "text": [
      "convergence   : true\n",
      "iteration     : 100 / 5000\n",
      "relative error: 2.960569e-16 < 1.000000e-06\n",
      "gam 6.187950e-56"
     ]
    }
   ],
   "source": [
    "gam, q = qstgs(QQ, xi)#ココ\n",
    "@printf \"gam %e\" gam\n",
    "q = [q[x] for x = m];"
   ]
  },
  {
   "cell_type": "markdown",
   "metadata": {},
   "source": [
    "## Compute cancel probability"
   ]
  },
  {
   "cell_type": "code",
   "execution_count": 149,
   "metadata": {
    "scrolled": true
   },
   "outputs": [],
   "source": [
    "piv = comp_piv(q, Q0, Q1, A, B);"
   ]
  },
  {
   "cell_type": "code",
   "execution_count": 150,
   "metadata": {},
   "outputs": [
    {
     "data": {
      "text/plain": [
       "30-element Array{Tuple{Float64,Float64},1}:\n",
       " (0.04348519771158851, 6.338643281554493e-55)   \n",
       " (0.0006771703036219948, 6.622324009418748e-55) \n",
       " (1.0108020017958493e-5, 6.626744505423853e-55) \n",
       " (1.50785185595398e-7, 6.626810490142047e-55)   \n",
       " (2.2492996495939647e-9, 6.626811474461354e-55) \n",
       " (3.355335126183631e-11, 6.626811489144693e-55) \n",
       " (5.005235205461524e-13, 6.626811489363729e-55) \n",
       " (7.46643137562966e-15, 6.626811489366996e-55)  \n",
       " (1.1137857702708048e-16, 6.626811489367042e-55)\n",
       " (1.6614613858325967e-18, 6.626811489367042e-55)\n",
       " (2.47844245302362e-20, 6.626811489367042e-55)  \n",
       " (3.6971530276471036e-22, 6.626811489367042e-55)\n",
       " (5.5151333020318774e-24, 6.626811489367042e-55)\n",
       " ⋮                                              \n",
       " (6.076976224016128e-35, 6.626811489367047e-55) \n",
       " (9.065173580347232e-37, 6.626811489367047e-55) \n",
       " (1.3522740424269156e-38, 6.626811489367047e-55)\n",
       " (2.0172201553713463e-40, 6.626811489367047e-55)\n",
       " (3.0091364823751426e-42, 6.626811489367047e-55)\n",
       " (4.488802248655092e-44, 6.626811489367047e-55) \n",
       " (6.696055739233582e-46, 6.626811489367047e-55) \n",
       " (9.988669093345769e-48, 6.626811489367047e-55) \n",
       " (1.49002920044119e-49, 6.626811489367047e-55)  \n",
       " (2.2222213694805558e-51, 6.626811489367047e-55)\n",
       " (3.265899680010841e-53, 6.626811489367048e-55) \n",
       " (0.0, 6.62681148936705e-55)                    "
      ]
     },
     "execution_count": 150,
     "metadata": {},
     "output_type": "execute_result"
    }
   ],
   "source": [
    "res = [cancel_prob(piv, i, Q0, Q1, A, B) for i = 1:nn]"
   ]
  },
  {
   "cell_type": "code",
   "execution_count": 341,
   "metadata": {},
   "outputs": [
    {
     "data": {
      "text/plain": [
       "0.5"
      ]
     },
     "execution_count": 341,
     "metadata": {},
     "output_type": "execute_result"
    }
   ],
   "source": [
    "sum(aq.*q)"
   ]
  },
  {
   "cell_type": "code",
   "execution_count": 64,
   "metadata": {},
   "outputs": [
    {
     "data": {
      "text/plain": [
       "31-element Array{Array{Int64,1},1}:\n",
       " [1, 7, 13, 19, 25, 31]                                                                      \n",
       " [2, 8, 14, 20, 26, 32, 37, 42, 47, 52  …  92, 97, 102, 107, 112, 117, 122, 127, 132, 137]   \n",
       " [3, 9, 15, 21, 27, 33, 38, 43, 48, 53  …  180, 184, 188, 192, 196, 200, 204, 208, 212, 216] \n",
       " [4, 10, 16, 22, 28, 34, 39, 44, 49, 54  …  240, 243, 246, 249, 252, 255, 258, 261, 264, 267]\n",
       " [5, 11, 17, 23, 29, 35, 40, 45, 50, 55  …  275, 277, 279, 281, 283, 285, 287, 289, 291, 293]\n",
       " [6, 12, 18, 24, 30, 36, 41, 46, 51, 56  …  288, 290, 292, 294, 295, 296, 297, 298, 299, 300]\n",
       " []                                                                                          \n",
       " []                                                                                          \n",
       " []                                                                                          \n",
       " []                                                                                          \n",
       " []                                                                                          \n",
       " []                                                                                          \n",
       " []                                                                                          \n",
       " ⋮                                                                                           \n",
       " []                                                                                          \n",
       " []                                                                                          \n",
       " []                                                                                          \n",
       " []                                                                                          \n",
       " []                                                                                          \n",
       " []                                                                                          \n",
       " []                                                                                          \n",
       " []                                                                                          \n",
       " []                                                                                          \n",
       " []                                                                                          \n",
       " []                                                                                          \n",
       " []                                                                                          "
      ]
     },
     "execution_count": 64,
     "metadata": {},
     "output_type": "execute_result"
    }
   ],
   "source": [
    "m"
   ]
  },
  {
   "cell_type": "code",
   "execution_count": null,
   "metadata": {},
   "outputs": [],
   "source": []
  }
 ],
 "metadata": {
  "kernelspec": {
   "display_name": "Julia 1.0.5",
   "language": "julia",
   "name": "julia-1.0"
  },
  "language_info": {
   "file_extension": ".jl",
   "mimetype": "application/julia",
   "name": "julia",
   "version": "1.0.5"
  }
 },
 "nbformat": 4,
 "nbformat_minor": 4
}
