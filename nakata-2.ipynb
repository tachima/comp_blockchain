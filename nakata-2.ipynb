{
 "cells": [
  {
   "cell_type": "code",
   "execution_count": 1,
   "metadata": {},
   "outputs": [
    {
     "name": "stderr",
     "output_type": "stream",
     "text": [
      "┌ Info: Recompiling stale cache file /home/tachima/.julia/compiled/v1.0/Distributions/xILW0.ji for Distributions [31c24e10-a181-5473-b8eb-7969acd0382f]\n",
      "└ @ Base loading.jl:1190\n"
     ]
    }
   ],
   "source": [
    "using Random\n",
    "using Distributions"
   ]
  },
  {
   "cell_type": "code",
   "execution_count": 2,
   "metadata": {},
   "outputs": [],
   "source": [
    "abstract type AbstractBlk end\n",
    "\n",
    "struct Minor\n",
    "    label::String\n",
    "end\n",
    "\n",
    "struct Genesis <: AbstractBlk end\n",
    "\n",
    "struct Blk <: AbstractBlk\n",
    "    index::Int\n",
    "    minor::Minor\n",
    "    prev::AbstractBlk\n",
    "end\n",
    "\n",
    "function Base.show(io::IO, b::Genesis)\n",
    "    Base.show(io, 0)\n",
    "end\n",
    "\n",
    "function Base.show(io::IO, b::Blk)\n",
    "    Base.show(io, (b.index, b.minor.label))\n",
    "end\n",
    "\n",
    "struct Queue\n",
    "    sender::Minor\n",
    "    receiver::Minor\n",
    "    elem::Vector{AbstractBlk}\n",
    "    \n",
    "    Queue(sender, receiver) = new(sender, receiver, Vector{AbstractBlk}())\n",
    "end"
   ]
  },
  {
   "cell_type": "code",
   "execution_count": 3,
   "metadata": {},
   "outputs": [
    {
     "data": {
      "text/plain": [
       "getid (generic function with 2 methods)"
      ]
     },
     "execution_count": 3,
     "metadata": {},
     "output_type": "execute_result"
    }
   ],
   "source": [
    "getid(b::Blk) = b.index\n",
    "getid(b::Genesis) = 0"
   ]
  },
  {
   "cell_type": "code",
   "execution_count": 4,
   "metadata": {},
   "outputs": [
    {
     "data": {
      "text/plain": [
       "getlength (generic function with 1 method)"
      ]
     },
     "execution_count": 4,
     "metadata": {},
     "output_type": "execute_result"
    }
   ],
   "source": [
    "getreceiver(q::Queue) = q.receiver\n",
    "\n",
    "function receiveblk!(q::Queue, i::Int)::AbstractBlk\n",
    "    b = q.elem[i]\n",
    "    deleteat!(q.elem, i)\n",
    "    b\n",
    "end\n",
    "\n",
    "getlength(q::Queue) = length(q.elem)"
   ]
  },
  {
   "cell_type": "code",
   "execution_count": 5,
   "metadata": {},
   "outputs": [
    {
     "data": {
      "text/plain": [
       "sendblk! (generic function with 1 method)"
      ]
     },
     "execution_count": 5,
     "metadata": {},
     "output_type": "execute_result"
    }
   ],
   "source": [
    "function sendblk!(q::Queue, b::AbstractBlk)\n",
    "    push!(q.elem, b)\n",
    "end"
   ]
  },
  {
   "cell_type": "code",
   "execution_count": 6,
   "metadata": {},
   "outputs": [
    {
     "data": {
      "text/plain": [
       "event_genBlk! (generic function with 1 method)"
      ]
     },
     "execution_count": 6,
     "metadata": {},
     "output_type": "execute_result"
    }
   ],
   "source": [
    "function event_genBlk!(x::Minor, workblk::Dict{Minor,AbstractBlk}, queue::Vector{Queue}, blocks::Vector{Blk})\n",
    "    prev = workblk[x]\n",
    "    id = getid(prev) + 1\n",
    "    b = Blk(id, x, prev)\n",
    "    push!(blocks, b)\n",
    "    workblk[x] = b\n",
    "    for q = queue\n",
    "        sendblk!(q, b)\n",
    "    end\n",
    "    b\n",
    "end"
   ]
  },
  {
   "cell_type": "code",
   "execution_count": 7,
   "metadata": {},
   "outputs": [
    {
     "data": {
      "text/plain": [
       "event_arrivalBlk! (generic function with 1 method)"
      ]
     },
     "execution_count": 7,
     "metadata": {},
     "output_type": "execute_result"
    }
   ],
   "source": [
    "function event_arrivalBlk!(q::Queue, i::Int, workblk::Dict{Minor,AbstractBlk})\n",
    "    x = getreceiver(q)\n",
    "    b = receiveblk!(q, i)\n",
    "    prev = workblk[x]\n",
    "    if getid(prev) < getid(b)\n",
    "        workblk[x] = b\n",
    "    end\n",
    "    b\n",
    "end"
   ]
  },
  {
   "cell_type": "code",
   "execution_count": 8,
   "metadata": {},
   "outputs": [
    {
     "data": {
      "text/plain": [
       "rates (generic function with 1 method)"
      ]
     },
     "execution_count": 8,
     "metadata": {},
     "output_type": "execute_result"
    }
   ],
   "source": [
    "function rates(u1, u2, queue, lambda, mu)\n",
    "#    u1 = sort(collect(keys(lambda)), by=x->x.label)\n",
    "    r1 = [lambda[x] for x = u1]\n",
    "#    u2 = sort(collect(keys(mu)), by=x->(x[1].label, x[2].label))\n",
    "    r2 = [mu[x] * getlength(queue[x]) for x = u2]\n",
    "    return r1, r2\n",
    "end"
   ]
  },
  {
   "cell_type": "code",
   "execution_count": 9,
   "metadata": {},
   "outputs": [
    {
     "data": {
      "text/plain": [
       "Minor(\"C\")"
      ]
     },
     "execution_count": 9,
     "metadata": {},
     "output_type": "execute_result"
    }
   ],
   "source": [
    "a = Minor(\"A\")\n",
    "b = Minor(\"B\")\n",
    "c = Minor(\"C\")"
   ]
  },
  {
   "cell_type": "code",
   "execution_count": 10,
   "metadata": {},
   "outputs": [
    {
     "data": {
      "text/plain": [
       "Dict{Tuple{Minor,Minor},Float64} with 6 entries:\n",
       "  (Minor(\"C\"), Minor(\"A\")) => 100.0\n",
       "  (Minor(\"C\"), Minor(\"B\")) => 100.0\n",
       "  (Minor(\"A\"), Minor(\"C\")) => 100.0\n",
       "  (Minor(\"B\"), Minor(\"C\")) => 100.0\n",
       "  (Minor(\"B\"), Minor(\"A\")) => 100.0\n",
       "  (Minor(\"A\"), Minor(\"B\")) => 100.0"
      ]
     },
     "execution_count": 10,
     "metadata": {},
     "output_type": "execute_result"
    }
   ],
   "source": [
    "lambda = Dict(\n",
    "    a => 1/10,\n",
    "    b => 1/10,\n",
    "    c => 1/10,\n",
    ")\n",
    "\n",
    "mu = Dict(\n",
    "    (a,b) => 1/0.01,\n",
    "    (a,c) => 1/0.01,\n",
    "    (b,a) => 1/0.01,\n",
    "    (b,c) => 1/0.01,\n",
    "    (c,a) => 1/0.01,\n",
    "    (c,b) => 1/0.01,\n",
    ")"
   ]
  },
  {
   "cell_type": "code",
   "execution_count": 11,
   "metadata": {},
   "outputs": [],
   "source": [
    "begin\n",
    "    blocks = Vector{Blk}()\n",
    "\n",
    "    events = 0\n",
    "    u1 = sort(collect(keys(lambda)), by=x->x.label)\n",
    "    u2 = sort(collect(keys(mu)), by=x->(x[1].label, x[2].label))\n",
    "    workblk = Dict{Minor,AbstractBlk}(a=>Genesis(), b=>Genesis(), c=>Genesis())\n",
    "    qAtoB = Queue(a, b)\n",
    "    qAtoC = Queue(a, c)\n",
    "    qBtoA = Queue(b, a)\n",
    "    qBtoC = Queue(b, c)\n",
    "    qCtoA = Queue(c, a)\n",
    "    qCtoB = Queue(c, b)\n",
    "    queue = Dict(\n",
    "        (a,b)=>qAtoB,\n",
    "        (a,c)=>qAtoC,\n",
    "        (b,a)=>qBtoA,\n",
    "        (b,c)=>qBtoC,\n",
    "        (c,a)=>qCtoA,\n",
    "        (c,b)=>qCtoB,\n",
    "    )\n",
    "    input = Dict(\n",
    "        a=>[qAtoB, qAtoC],\n",
    "        b=>[qBtoA, qBtoC],\n",
    "        c=>[qCtoA, qCtoB],\n",
    "    )\n",
    "\n",
    "    rng = MersenneTwister(1234)\n",
    "    ctime = 0.0\n",
    "    while ctime < 60*24 # 24 hours\n",
    "        r1, r2 = rates(u1, u2, queue, lambda, mu)\n",
    "        etime1 = [(r != 0) ? rand(rng, Exponential(1/r)) : Inf for r = r1]\n",
    "        etime2 = [(r != 0) ? rand(rng, Exponential(1/r)) : Inf for r = r2]\n",
    "        m1, i1 = findmin(etime1)\n",
    "        m2, i2 = findmin(etime2)\n",
    "        if m1 < m2\n",
    "            ctime += m1\n",
    "            event_genBlk!(u1[i1], workblk, input[u1[i1]], blocks)\n",
    "        else\n",
    "            ctime += m2\n",
    "            v = rand(rng, DiscreteUniform(1,getlength(queue[u2[i2]])))\n",
    "            event_arrivalBlk!(queue[u2[i2]], v, workblk)\n",
    "        end\n",
    "        events += 1\n",
    "    end\n",
    "end"
   ]
  },
  {
   "cell_type": "code",
   "execution_count": 12,
   "metadata": {},
   "outputs": [
    {
     "name": "stdout",
     "output_type": "stream",
     "text": [
      "  0.000001 seconds (4 allocations: 160 bytes)\n"
     ]
    },
    {
     "data": {
      "text/plain": [
       "Dict{Minor,AbstractBlk} with 3 entries:\n",
       "  Minor(\"A\") => (412, \"C\")\n",
       "  Minor(\"C\") => (412, \"C\")\n",
       "  Minor(\"B\") => (411, \"B\")"
      ]
     },
     "execution_count": 12,
     "metadata": {},
     "output_type": "execute_result"
    }
   ],
   "source": [
    "@time workblk"
   ]
  },
  {
   "cell_type": "code",
   "execution_count": 13,
   "metadata": {},
   "outputs": [],
   "source": [
    "blk = workblk[b]\n",
    "chains = []\n",
    "push!(chains, blk)\n",
    "while blk != Genesis()\n",
    "    blk = blk.prev\n",
    "    push!(chains, blk)\n",
    "end"
   ]
  },
  {
   "cell_type": "code",
   "execution_count": 14,
   "metadata": {},
   "outputs": [
    {
     "data": {
      "text/plain": [
       "412-element Array{Any,1}:\n",
       " (411, \"B\")\n",
       " (410, \"B\")\n",
       " (409, \"B\")\n",
       " (408, \"C\")\n",
       " (407, \"A\")\n",
       " (406, \"B\")\n",
       " (405, \"A\")\n",
       " (404, \"C\")\n",
       " (403, \"B\")\n",
       " (402, \"B\")\n",
       " (401, \"A\")\n",
       " (400, \"A\")\n",
       " (399, \"B\")\n",
       " ⋮         \n",
       " (11, \"C\") \n",
       " (10, \"C\") \n",
       " (9, \"C\")  \n",
       " (8, \"B\")  \n",
       " (7, \"A\")  \n",
       " (6, \"C\")  \n",
       " (5, \"C\")  \n",
       " (4, \"C\")  \n",
       " (3, \"A\")  \n",
       " (2, \"B\")  \n",
       " (1, \"C\")  \n",
       " 0         "
      ]
     },
     "execution_count": 14,
     "metadata": {},
     "output_type": "execute_result"
    }
   ],
   "source": [
    "chains"
   ]
  },
  {
   "cell_type": "code",
   "execution_count": 15,
   "metadata": {},
   "outputs": [
    {
     "data": {
      "text/plain": [
       "412-element Array{Blk,1}:\n",
       " (1, \"C\")  \n",
       " (2, \"B\")  \n",
       " (3, \"A\")  \n",
       " (4, \"C\")  \n",
       " (5, \"C\")  \n",
       " (6, \"C\")  \n",
       " (7, \"A\")  \n",
       " (8, \"B\")  \n",
       " (9, \"C\")  \n",
       " (10, \"C\") \n",
       " (11, \"C\") \n",
       " (12, \"B\") \n",
       " (13, \"C\") \n",
       " ⋮         \n",
       " (401, \"A\")\n",
       " (402, \"B\")\n",
       " (403, \"B\")\n",
       " (404, \"C\")\n",
       " (405, \"A\")\n",
       " (406, \"B\")\n",
       " (407, \"A\")\n",
       " (408, \"C\")\n",
       " (409, \"B\")\n",
       " (410, \"B\")\n",
       " (411, \"B\")\n",
       " (412, \"C\")"
      ]
     },
     "execution_count": 15,
     "metadata": {},
     "output_type": "execute_result"
    }
   ],
   "source": [
    "blocks"
   ]
  },
  {
   "cell_type": "code",
   "execution_count": 20,
   "metadata": {},
   "outputs": [
    {
     "data": {
      "text/plain": [
       "0"
      ]
     },
     "execution_count": 20,
     "metadata": {},
     "output_type": "execute_result"
    }
   ],
   "source": [
    "Genesis()"
   ]
  },
  {
   "cell_type": "code",
   "execution_count": 18,
   "metadata": {},
   "outputs": [],
   "source": [
    "open(\"chains.txt\",\"w\") do out #ファイルに書く\n",
    "    print(out,chains)\n",
    "end"
   ]
  },
  {
   "cell_type": "code",
   "execution_count": 19,
   "metadata": {},
   "outputs": [],
   "source": [
    "open(\"blocks.txt\",\"w\") do out #ファイルに書く\n",
    "    print(out,blocks)\n",
    "end"
   ]
  }
 ],
 "metadata": {
  "kernelspec": {
   "display_name": "Julia 1.0.5",
   "language": "julia",
   "name": "julia-1.0"
  },
  "language_info": {
   "file_extension": ".jl",
   "mimetype": "application/julia",
   "name": "julia",
   "version": "1.0.5"
  }
 },
 "nbformat": 4,
 "nbformat_minor": 4
}
