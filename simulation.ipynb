{
 "cells": [
  {
   "cell_type": "markdown",
   "metadata": {},
   "source": [
    "## キューを生成するためのパッケージ"
   ]
  },
  {
   "cell_type": "code",
   "execution_count": 4,
   "metadata": {},
   "outputs": [
    {
     "name": "stdout",
     "output_type": "stream",
     "text": [
      "\u001b[32m\u001b[1m  Updating\u001b[22m\u001b[39m registry at `~/.julia/registries/General`\n",
      "\u001b[32m\u001b[1m  Updating\u001b[22m\u001b[39m git-repo `https://github.com/JuliaRegistries/General.git`\n",
      "\u001b[2K\u001b[?25h[1mFetching:\u001b[22m\u001b[39m [========================================>]  100.0 %.0 %\u001b[36m\u001b[1mFetching:\u001b[22m\u001b[39m [=======>                                 ]  17.0 %                         ]  36.7 %=======================>                 ]  56.6 %76.2 %\u001b[36m\u001b[1mFetching:\u001b[22m\u001b[39m [===============================>         ]  76.7 %\u001b[36m\u001b[1mFetching:\u001b[22m\u001b[39m [======================================>  ]  94.4 %\u001b[32m\u001b[1m  Updating\u001b[22m\u001b[39m git-repo `https://github.com/JuliaCollections/DataStructures.jl`\n",
      "\u001b[?25l\u001b[2K\u001b[?25h\u001b[32m\u001b[1m Resolving\u001b[22m\u001b[39m package versions...\n",
      "\u001b[32m\u001b[1m  Updating\u001b[22m\u001b[39m `~/.julia/environments/v1.0/Project.toml`\n",
      "\u001b[90m [no changes]\u001b[39m\n",
      "\u001b[32m\u001b[1m  Updating\u001b[22m\u001b[39m `~/.julia/environments/v1.0/Manifest.toml`\n",
      "\u001b[90m [no changes]\u001b[39m\n"
     ]
    },
    {
     "name": "stderr",
     "output_type": "stream",
     "text": [
      "┌ Info: Recompiling stale cache file /home/tachima/.julia/compiled/v1.0/DataStructures/xKiwJ.ji for DataStructures [864edb3b-99cc-5e75-8d2d-829cb0a9cfe8]\n",
      "└ @ Base loading.jl:1190\n"
     ]
    }
   ],
   "source": [
    "using Pkg\n",
    "Pkg.add(PackageSpec(url=\"https://github.com/JuliaCollections/DataStructures.jl\"))\n",
    "using DataStructures"
   ]
  },
  {
   "cell_type": "code",
   "execution_count": 32,
   "metadata": {},
   "outputs": [
    {
     "data": {
      "text/plain": [
       "Queue{Int64}(Deque [[1]])"
      ]
     },
     "execution_count": 32,
     "metadata": {},
     "output_type": "execute_result"
    }
   ],
   "source": [
    "q = Queue{Int}()\n",
    "enqueue!(q, 1)"
   ]
  },
  {
   "cell_type": "markdown",
   "metadata": {},
   "source": [
    "## 空確認"
   ]
  },
  {
   "cell_type": "code",
   "execution_count": 33,
   "metadata": {},
   "outputs": [
    {
     "data": {
      "text/plain": [
       "false"
      ]
     },
     "execution_count": 33,
     "metadata": {},
     "output_type": "execute_result"
    }
   ],
   "source": [
    "isempty(q)"
   ]
  },
  {
   "cell_type": "markdown",
   "metadata": {},
   "source": [
    "## 指数乱数を生成する関数。t:指数分布の平均値、r:一様乱数"
   ]
  },
  {
   "cell_type": "code",
   "execution_count": 98,
   "metadata": {},
   "outputs": [
    {
     "data": {
      "text/plain": [
       "exran (generic function with 1 method)"
      ]
     },
     "execution_count": 98,
     "metadata": {},
     "output_type": "execute_result"
    }
   ],
   "source": [
    "exran(t,r)= 1 / t * -log(1.0-r)"
   ]
  },
  {
   "cell_type": "markdown",
   "metadata": {},
   "source": [
    "## パラメータ設定"
   ]
  },
  {
   "cell_type": "code",
   "execution_count": 99,
   "metadata": {},
   "outputs": [
    {
     "data": {
      "text/plain": [
       "10.0"
      ]
     },
     "execution_count": 99,
     "metadata": {},
     "output_type": "execute_result"
    }
   ],
   "source": [
    "mu1 = 1/10\n",
    "mu2 = 1/10\n",
    "mu3 = 1/10\n",
    "lambda1 = 1/0.1\n",
    "lambda2 = 1/0.1\n",
    "lambda3 = 1/0.1"
   ]
  },
  {
   "cell_type": "code",
   "execution_count": 100,
   "metadata": {},
   "outputs": [
    {
     "data": {
      "text/plain": [
       "1"
      ]
     },
     "execution_count": 100,
     "metadata": {},
     "output_type": "execute_result"
    }
   ],
   "source": [
    "# マイニングにかかる時間\n",
    "A = 1\n",
    "B = 1\n",
    "C = 1\n",
    "\n",
    "# 通知時間\n",
    "delayA_B = 1\n",
    "delayA_C = 1\n",
    "delayB_A = 1\n",
    "delayB_C = 1\n",
    "delayC_A = 1\n",
    "delayC_B = 1"
   ]
  },
  {
   "cell_type": "markdown",
   "metadata": {},
   "source": [
    "## 指数乱数を発生させて、一定の数値以下になったときにイベントが起きるとしてみる"
   ]
  },
  {
   "cell_type": "code",
   "execution_count": 106,
   "metadata": {},
   "outputs": [
    {
     "name": "stdout",
     "output_type": "stream",
     "text": [
      "A:2   B:2   C:2\n",
      "A:5   B:5   C:5\n",
      "A:7   B:7   C:7\n",
      "A:11   B:11   C:11\n",
      "A:17   B:17   C:17\n",
      "A:20   B:20   C:20\n",
      "A:22   B:22   C:22\n",
      "A:24   B:24   C:24\n",
      "A:26   B:26   C:26\n",
      "A:27   B:28   C:28\n"
     ]
    }
   ],
   "source": [
    "#ABCそれぞれのブロック数を管理する変数\n",
    "blkA = 0\n",
    "blkB = 0\n",
    "blkC = 0\n",
    "#通知としてたまっていくキュー\n",
    "queueAB = Queue{Int}()\n",
    "queueAC = Queue{Int}()\n",
    "queueBA = Queue{Int}()\n",
    "queueBC = Queue{Int}()\n",
    "queueCA = Queue{Int}()\n",
    "queueCB = Queue{Int}()\n",
    "\n",
    "count = 0\n",
    "\n",
    "while count < 10000\n",
    "    count += 1\n",
    "    delayA_B = 1\n",
    "    delayA_C = 1\n",
    "    delayB_A = 1\n",
    "    delayB_C = 1\n",
    "    delayC_A = 1\n",
    "    delayC_B = 1\n",
    "    A = exran(mu1, rand())\n",
    "    B = exran(mu2, rand())\n",
    "    C = exran(mu3, rand())\n",
    "    \n",
    "    if !isempty(queueAB)\n",
    "        delayA_B = exran(lambda2, rand())\n",
    "    end\n",
    "    \n",
    "    if !isempty(queueAC)\n",
    "        delayA_C = exran(lambda3, rand())\n",
    "    end\n",
    "    \n",
    "    if !isempty(queueBA)\n",
    "        delayB_A = exran(lambda1, rand())\n",
    "    end\n",
    "    \n",
    "    if !isempty(queueBC)\n",
    "        delayB_C = exran(lambda3, rand())\n",
    "    end\n",
    "    \n",
    "    if !isempty(queueCA)\n",
    "        delayC_A = exran(lambda1, rand())\n",
    "    end\n",
    "    \n",
    "    if !isempty(queueCB)\n",
    "        delayC_B = exran(lambda2, rand())\n",
    "    end\n",
    "    \n",
    "    if A < 0.01\n",
    "        blkA += 1\n",
    "        enqueue!(queueAB, blkA)\n",
    "        enqueue!(queueAC, blkA)\n",
    "    end\n",
    "    \n",
    "    if B < 0.01\n",
    "        blkB += 1\n",
    "        enqueue!(queueBA, blkB)\n",
    "        enqueue!(queueBC, blkB)\n",
    "    end\n",
    "    \n",
    "    if C < 0.01\n",
    "        blkC += 1\n",
    "        enqueue!(queueCA, blkC)\n",
    "        enqueue!(queueCB, blkC)\n",
    "    end\n",
    "    \n",
    "    if delayA_B < 0.1\n",
    "        x = dequeue!(queueAB)\n",
    "        if x > blkB\n",
    "            blkB = x\n",
    "        end\n",
    "    end\n",
    "    \n",
    "    if delayA_C < 0.1\n",
    "        x = dequeue!(queueAC)\n",
    "        if x > blkC\n",
    "            blkC = x\n",
    "        end\n",
    "    end\n",
    "    \n",
    "    if delayB_A < 0.1\n",
    "        x = dequeue!(queueBA)\n",
    "        if x > blkA\n",
    "            blkB = x\n",
    "        end\n",
    "    end\n",
    "    \n",
    "    if delayB_C < 0.1\n",
    "        x = dequeue!(queueBC)\n",
    "        if x > blkC\n",
    "            blkC = x\n",
    "        end\n",
    "    end\n",
    "    \n",
    "    if delayC_A < 0.1\n",
    "        x = dequeue!(queueCA)\n",
    "        if x > blkA\n",
    "            blkA = x\n",
    "        end\n",
    "    end\n",
    "    \n",
    "    if delayC_B < 0.1\n",
    "        x = dequeue!(queueCB)\n",
    "        if x > blkB\n",
    "            blkB = x\n",
    "        end\n",
    "    end\n",
    "    \n",
    "    if count % 1000 == 0\n",
    "        println(\"A:\",blkA,\"   B:\",blkB,\"   C:\",blkC)\n",
    "    end\n",
    "end"
   ]
  },
  {
   "cell_type": "code",
   "execution_count": null,
   "metadata": {},
   "outputs": [],
   "source": []
  }
 ],
 "metadata": {
  "kernelspec": {
   "display_name": "Julia 1.0.5",
   "language": "julia",
   "name": "julia-1.0"
  },
  "language_info": {
   "file_extension": ".jl",
   "mimetype": "application/julia",
   "name": "julia",
   "version": "1.0.5"
  }
 },
 "nbformat": 4,
 "nbformat_minor": 4
}
