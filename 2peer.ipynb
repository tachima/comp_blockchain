{
 "cells": [
  {
   "cell_type": "code",
   "execution_count": 129,
   "metadata": {},
   "outputs": [],
   "source": [
    "using Random\n",
    "using Distributions"
   ]
  },
  {
   "cell_type": "code",
   "execution_count": 205,
   "metadata": {},
   "outputs": [],
   "source": [
    "abstract type AbstractBlk end\n",
    "\n",
    "struct Minor\n",
    "    label::String\n",
    "end\n",
    "\n",
    "struct Genesis <: AbstractBlk end\n",
    "\n",
    "struct Blk <: AbstractBlk\n",
    "    index::Int\n",
    "    minor::Minor\n",
    "    prev::AbstractBlk\n",
    "end\n",
    "\n",
    "function Base.show(io::IO, b::Genesis)\n",
    "    Base.show(io, 0)\n",
    "end\n",
    "\n",
    "function Base.show(io::IO, b::Blk)\n",
    "    Base.show(io, (b.index, b.minor.label))\n",
    "end\n",
    "\n",
    "struct Queue\n",
    "    sender::Minor\n",
    "    receiver::Minor\n",
    "    elem::Vector{AbstractBlk}\n",
    "    \n",
    "    Queue(sender, receiver) = new(sender, receiver, Vector{AbstractBlk}())\n",
    "end"
   ]
  },
  {
   "cell_type": "code",
   "execution_count": 206,
   "metadata": {},
   "outputs": [
    {
     "data": {
      "text/plain": [
       "getid (generic function with 2 methods)"
      ]
     },
     "execution_count": 206,
     "metadata": {},
     "output_type": "execute_result"
    }
   ],
   "source": [
    "getid(b::Blk) = b.index\n",
    "getid(b::Genesis) = 0"
   ]
  },
  {
   "cell_type": "code",
   "execution_count": 207,
   "metadata": {},
   "outputs": [
    {
     "data": {
      "text/plain": [
       "getlength (generic function with 1 method)"
      ]
     },
     "execution_count": 207,
     "metadata": {},
     "output_type": "execute_result"
    }
   ],
   "source": [
    "getreceiver(q::Queue) = q.receiver\n",
    "\n",
    "function receiveblk!(q::Queue, i::Int)::AbstractBlk\n",
    "    b = q.elem[i]\n",
    "    deleteat!(q.elem, i)\n",
    "    b\n",
    "end\n",
    "\n",
    "getlength(q::Queue) = length(q.elem)"
   ]
  },
  {
   "cell_type": "code",
   "execution_count": 208,
   "metadata": {},
   "outputs": [
    {
     "data": {
      "text/plain": [
       "sendblk! (generic function with 1 method)"
      ]
     },
     "execution_count": 208,
     "metadata": {},
     "output_type": "execute_result"
    }
   ],
   "source": [
    "function sendblk!(q::Queue, b::AbstractBlk)\n",
    "    push!(q.elem, b)\n",
    "end"
   ]
  },
  {
   "cell_type": "code",
   "execution_count": 209,
   "metadata": {},
   "outputs": [
    {
     "data": {
      "text/plain": [
       "event_genBlk! (generic function with 1 method)"
      ]
     },
     "execution_count": 209,
     "metadata": {},
     "output_type": "execute_result"
    }
   ],
   "source": [
    "function event_genBlk!(x::Minor, workblk::Dict{Minor,AbstractBlk}, queue::Vector{Queue}, blocks::Vector{Blk})\n",
    "    prev = workblk[x]\n",
    "    id = getid(prev) + 1\n",
    "    b = Blk(id, x, prev)\n",
    "    push!(blocks, b)\n",
    "    workblk[x] = b\n",
    "    for q = queue\n",
    "        sendblk!(q, b)\n",
    "    end\n",
    "    b\n",
    "end"
   ]
  },
  {
   "cell_type": "code",
   "execution_count": 210,
   "metadata": {},
   "outputs": [
    {
     "data": {
      "text/plain": [
       "event_arrivalBlk! (generic function with 1 method)"
      ]
     },
     "execution_count": 210,
     "metadata": {},
     "output_type": "execute_result"
    }
   ],
   "source": [
    "function event_arrivalBlk!(q::Queue, i::Int, workblk::Dict{Minor,AbstractBlk})\n",
    "    x = getreceiver(q)\n",
    "    b = receiveblk!(q, i)\n",
    "    prev = workblk[x]\n",
    "    if getid(prev) < getid(b)\n",
    "        workblk[x] = b\n",
    "    end\n",
    "    b\n",
    "end"
   ]
  },
  {
   "cell_type": "code",
   "execution_count": 211,
   "metadata": {},
   "outputs": [
    {
     "data": {
      "text/plain": [
       "rates (generic function with 1 method)"
      ]
     },
     "execution_count": 211,
     "metadata": {},
     "output_type": "execute_result"
    }
   ],
   "source": [
    "function rates(u1, u2, queue, lambda, mu)\n",
    "#    u1 = sort(collect(keys(lambda)), by=x->x.label)\n",
    "    r1 = [lambda[x] for x = u1]\n",
    "#    u2 = sort(collect(keys(mu)), by=x->(x[1].label, x[2].label))\n",
    "    r2 = [mu[x] * getlength(queue[x]) for x = u2]\n",
    "    return r1, r2\n",
    "end"
   ]
  },
  {
   "cell_type": "code",
   "execution_count": 212,
   "metadata": {},
   "outputs": [
    {
     "data": {
      "text/plain": [
       "Minor(\"B\")"
      ]
     },
     "execution_count": 212,
     "metadata": {},
     "output_type": "execute_result"
    }
   ],
   "source": [
    "a = Minor(\"A\")\n",
    "b = Minor(\"B\")"
   ]
  },
  {
   "cell_type": "code",
   "execution_count": 424,
   "metadata": {},
   "outputs": [
    {
     "data": {
      "text/plain": [
       "Dict{Tuple{Minor,Minor},Float64} with 2 entries:\n",
       "  (Minor(\"B\"), Minor(\"A\")) => 1.0\n",
       "  (Minor(\"A\"), Minor(\"B\")) => 1.0"
      ]
     },
     "execution_count": 424,
     "metadata": {},
     "output_type": "execute_result"
    }
   ],
   "source": [
    "lambda = Dict(\n",
    "    a => 1/5,\n",
    "    b => 1/10,\n",
    ")\n",
    "\n",
    "mu = Dict(\n",
    "    (a,b) => 1/1,\n",
    "    (b,a) => 1/1\n",
    ")"
   ]
  },
  {
   "cell_type": "code",
   "execution_count": 425,
   "metadata": {},
   "outputs": [],
   "source": [
    "begin\n",
    "    blocks = Vector{Blk}()\n",
    "\n",
    "    events = 0\n",
    "    u1 = sort(collect(keys(lambda)), by=x->x.label)\n",
    "    u2 = sort(collect(keys(mu)), by=x->(x[1].label, x[2].label))\n",
    "    workblk = Dict{Minor,AbstractBlk}(a=>Genesis(), b=>Genesis())\n",
    "    qAtoB = Queue(a, b)\n",
    "    qBtoA = Queue(b, a)\n",
    "    queue = Dict(\n",
    "        (a,b)=>qAtoB,\n",
    "        (b,a)=>qBtoA,\n",
    "    )\n",
    "    input = Dict(\n",
    "        a=>[qAtoB],\n",
    "        b=>[qBtoA],\n",
    "    )\n",
    "\n",
    "    rng = MersenneTwister(9999)\n",
    "    ctime = 0.0\n",
    "    while ctime < 60*24*30 # 24 hours\n",
    "        r1, r2 = rates(u1, u2, queue, lambda, mu)\n",
    "        etime1 = [(r != 0) ? rand(rng, Exponential(1/r)) : Inf for r = r1]\n",
    "        etime2 = [(r != 0) ? rand(rng, Exponential(1/r)) : Inf for r = r2]\n",
    "        m1, i1 = findmin(etime1)\n",
    "        m2, i2 = findmin(etime2)\n",
    "        if m1 < m2\n",
    "            ctime += m1\n",
    "            event_genBlk!(u1[i1], workblk, input[u1[i1]], blocks)\n",
    "        else\n",
    "            ctime += m2\n",
    "            v = rand(rng, DiscreteUniform(1,getlength(queue[u2[i2]])))\n",
    "            event_arrivalBlk!(queue[u2[i2]], v, workblk)\n",
    "        end\n",
    "        events += 1\n",
    "    end\n",
    "end"
   ]
  },
  {
   "cell_type": "code",
   "execution_count": 426,
   "metadata": {},
   "outputs": [
    {
     "name": "stdout",
     "output_type": "stream",
     "text": [
      "  0.000000 seconds (3 allocations: 144 bytes)\n"
     ]
    },
    {
     "data": {
      "text/plain": [
       "Dict{Minor,AbstractBlk} with 2 entries:\n",
       "  Minor(\"A\") => (11818, \"A\")\n",
       "  Minor(\"B\") => (11818, \"A\")"
      ]
     },
     "execution_count": 426,
     "metadata": {},
     "output_type": "execute_result"
    }
   ],
   "source": [
    "@time workblk"
   ]
  },
  {
   "cell_type": "code",
   "execution_count": 427,
   "metadata": {},
   "outputs": [
    {
     "data": {
      "text/plain": [
       "(11817, \"A\")"
      ]
     },
     "execution_count": 427,
     "metadata": {},
     "output_type": "execute_result"
    }
   ],
   "source": [
    "workblk[b].prev"
   ]
  },
  {
   "cell_type": "code",
   "execution_count": 428,
   "metadata": {},
   "outputs": [
    {
     "data": {
      "text/plain": [
       "(11817, \"A\")"
      ]
     },
     "execution_count": 428,
     "metadata": {},
     "output_type": "execute_result"
    }
   ],
   "source": [
    "workblk[a].prev"
   ]
  },
  {
   "cell_type": "code",
   "execution_count": 429,
   "metadata": {},
   "outputs": [],
   "source": [
    "blk = workblk[a]\n",
    "chains = []\n",
    "push!(chains, blk)\n",
    "while blk != Genesis()\n",
    "    blk = blk.prev\n",
    "    push!(chains, blk)\n",
    "end"
   ]
  },
  {
   "cell_type": "code",
   "execution_count": 430,
   "metadata": {},
   "outputs": [
    {
     "data": {
      "text/plain": [
       "11819-element Array{Any,1}:\n",
       " (11818, \"A\")\n",
       " (11817, \"A\")\n",
       " (11816, \"A\")\n",
       " (11815, \"A\")\n",
       " (11814, \"A\")\n",
       " (11813, \"A\")\n",
       " (11812, \"A\")\n",
       " (11811, \"B\")\n",
       " (11810, \"B\")\n",
       " (11809, \"B\")\n",
       " (11808, \"B\")\n",
       " (11807, \"A\")\n",
       " (11806, \"A\")\n",
       " ⋮           \n",
       " (11, \"A\")   \n",
       " (10, \"A\")   \n",
       " (9, \"A\")    \n",
       " (8, \"B\")    \n",
       " (7, \"B\")    \n",
       " (6, \"B\")    \n",
       " (5, \"A\")    \n",
       " (4, \"B\")    \n",
       " (3, \"A\")    \n",
       " (2, \"A\")    \n",
       " (1, \"A\")    \n",
       " 0           "
      ]
     },
     "execution_count": 430,
     "metadata": {},
     "output_type": "execute_result"
    }
   ],
   "source": [
    "chains"
   ]
  },
  {
   "cell_type": "code",
   "execution_count": 431,
   "metadata": {},
   "outputs": [
    {
     "data": {
      "text/plain": [
       "13038-element Array{Blk,1}:\n",
       " (1, \"A\")    \n",
       " (2, \"A\")    \n",
       " (3, \"A\")    \n",
       " (4, \"B\")    \n",
       " (5, \"A\")    \n",
       " (6, \"B\")    \n",
       " (6, \"A\")    \n",
       " (7, \"B\")    \n",
       " (8, \"B\")    \n",
       " (9, \"A\")    \n",
       " (10, \"A\")   \n",
       " (11, \"A\")   \n",
       " (12, \"A\")   \n",
       " ⋮           \n",
       " (11809, \"A\")\n",
       " (11809, \"B\")\n",
       " (11810, \"B\")\n",
       " (11811, \"B\")\n",
       " (11812, \"B\")\n",
       " (11812, \"A\")\n",
       " (11813, \"A\")\n",
       " (11814, \"A\")\n",
       " (11815, \"A\")\n",
       " (11816, \"A\")\n",
       " (11817, \"A\")\n",
       " (11818, \"A\")"
      ]
     },
     "execution_count": 431,
     "metadata": {},
     "output_type": "execute_result"
    }
   ],
   "source": [
    "blocks"
   ]
  },
  {
   "cell_type": "code",
   "execution_count": 432,
   "metadata": {},
   "outputs": [
    {
     "data": {
      "text/plain": [
       "11819-element Array{Any,1}:\n",
       " 0           \n",
       " (1, \"A\")    \n",
       " (2, \"A\")    \n",
       " (3, \"A\")    \n",
       " (4, \"B\")    \n",
       " (5, \"A\")    \n",
       " (6, \"B\")    \n",
       " (7, \"B\")    \n",
       " (8, \"B\")    \n",
       " (9, \"A\")    \n",
       " (10, \"A\")   \n",
       " (11, \"A\")   \n",
       " (12, \"A\")   \n",
       " ⋮           \n",
       " (11807, \"A\")\n",
       " (11808, \"B\")\n",
       " (11809, \"B\")\n",
       " (11810, \"B\")\n",
       " (11811, \"B\")\n",
       " (11812, \"A\")\n",
       " (11813, \"A\")\n",
       " (11814, \"A\")\n",
       " (11815, \"A\")\n",
       " (11816, \"A\")\n",
       " (11817, \"A\")\n",
       " (11818, \"A\")"
      ]
     },
     "execution_count": 432,
     "metadata": {},
     "output_type": "execute_result"
    }
   ],
   "source": [
    "invchains = reverse(chains)"
   ]
  },
  {
   "cell_type": "code",
   "execution_count": 433,
   "metadata": {},
   "outputs": [],
   "source": [
    "open(\"chains.txt\",\"w\") do out #ファイルに書く\n",
    "    print(out,invchains)\n",
    "end"
   ]
  },
  {
   "cell_type": "code",
   "execution_count": 434,
   "metadata": {},
   "outputs": [],
   "source": [
    "open(\"blocks.txt\",\"w\") do out #ファイルに書く\n",
    "    print(out,blocks)\n",
    "end"
   ]
  },
  {
   "cell_type": "code",
   "execution_count": 435,
   "metadata": {},
   "outputs": [
    {
     "data": {
      "text/plain": [
       "366"
      ]
     },
     "execution_count": 435,
     "metadata": {},
     "output_type": "execute_result"
    }
   ],
   "source": [
    "haki = 0\n",
    "for i in 2:length(invchains)\n",
    "    if invchains[i].minor == Minor(\"B\")\n",
    "        for j in 1:length(blocks)\n",
    "            if (blocks[j].minor == Minor(\"A\")) && (blocks[j].index == invchains[i].index)\n",
    "                haki += 1\n",
    "            end\n",
    "        end\n",
    "    end\n",
    "end\n",
    "haki"
   ]
  },
  {
   "cell_type": "code",
   "execution_count": 436,
   "metadata": {},
   "outputs": [
    {
     "name": "stdout",
     "output_type": "stream",
     "text": [
      "chains:11819   blocks:13038   haki:366"
     ]
    }
   ],
   "source": [
    "print(\"chains:\",length(chains),\"   blocks:\",length(blocks),\"   haki:\",haki)"
   ]
  },
  {
   "cell_type": "markdown",
   "metadata": {},
   "source": []
  }
 ],
 "metadata": {
  "kernelspec": {
   "display_name": "Julia 1.0.5",
   "language": "julia",
   "name": "julia-1.0"
  },
  "language_info": {
   "file_extension": ".jl",
   "mimetype": "application/julia",
   "name": "julia",
   "version": "1.0.5"
  }
 },
 "nbformat": 4,
 "nbformat_minor": 4
}
