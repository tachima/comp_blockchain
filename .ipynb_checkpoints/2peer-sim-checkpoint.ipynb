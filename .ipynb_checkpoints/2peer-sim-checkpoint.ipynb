{
 "cells": [
  {
   "cell_type": "code",
   "execution_count": 31,
   "metadata": {},
   "outputs": [
    {
     "name": "stdout",
     "output_type": "stream",
     "text": [
      "\u001b[32m\u001b[1m Resolving\u001b[22m\u001b[39m package versions...\n"
     ]
    },
    {
     "ename": "Pkg.Types.ResolverError",
     "evalue": "Unsatisfiable requirements detected for package DataStructures [864edb3b]:\n DataStructures [864edb3b] log:\n ├─possible versions are: 0.18.0 or uninstalled\n ├─DataStructures [864edb3b] is fixed to version 0.18.0-DEV\n └─found to have no compatible versions left with StatsBase [2913bbd2] \n   └─StatsBase [2913bbd2] log:\n     ├─possible versions are: [0.24.0, 0.25.0, 0.26.0, 0.27.0, 0.28.0-0.28.1, 0.29.0, 0.30.0, 0.31.0, 0.32.0-0.32.2, 0.33.0-0.33.1] or uninstalled\n     ├─restricted to versions [0.32.0-0.32, 0.33.0-0.33] by Distributions [31c24e10], leaving only versions [0.32.0-0.32.2, 0.33.0-0.33.1]\n     │ └─Distributions [31c24e10] log:\n     │   ├─possible versions are: 0.23.8 or uninstalled\n     │   └─Distributions [31c24e10] is fixed to version 0.23.8\n     └─restricted to versions 0.32.0 by an explicit requirement, leaving only versions 0.32.0",
     "output_type": "error",
     "traceback": [
      "Unsatisfiable requirements detected for package DataStructures [864edb3b]:\n DataStructures [864edb3b] log:\n ├─possible versions are: 0.18.0 or uninstalled\n ├─DataStructures [864edb3b] is fixed to version 0.18.0-DEV\n └─found to have no compatible versions left with StatsBase [2913bbd2] \n   └─StatsBase [2913bbd2] log:\n     ├─possible versions are: [0.24.0, 0.25.0, 0.26.0, 0.27.0, 0.28.0-0.28.1, 0.29.0, 0.30.0, 0.31.0, 0.32.0-0.32.2, 0.33.0-0.33.1] or uninstalled\n     ├─restricted to versions [0.32.0-0.32, 0.33.0-0.33] by Distributions [31c24e10], leaving only versions [0.32.0-0.32.2, 0.33.0-0.33.1]\n     │ └─Distributions [31c24e10] log:\n     │   ├─possible versions are: 0.23.8 or uninstalled\n     │   └─Distributions [31c24e10] is fixed to version 0.23.8\n     └─restricted to versions 0.32.0 by an explicit requirement, leaving only versions 0.32.0",
      "",
      "Stacktrace:",
      " [1] #propagate_constraints!#61(::Bool, ::Function, ::Pkg.GraphType.Graph, ::Set{Int64}) at /buildworker/worker/package_linux64/build/usr/share/julia/stdlib/v1.0/Pkg/src/GraphType.jl:1007",
      " [2] propagate_constraints! at /buildworker/worker/package_linux64/build/usr/share/julia/stdlib/v1.0/Pkg/src/GraphType.jl:948 [inlined]",
      " [3] #simplify_graph!#121(::Bool, ::Function, ::Pkg.GraphType.Graph, ::Set{Int64}) at /buildworker/worker/package_linux64/build/usr/share/julia/stdlib/v1.0/Pkg/src/GraphType.jl:1462",
      " [4] simplify_graph! at /buildworker/worker/package_linux64/build/usr/share/julia/stdlib/v1.0/Pkg/src/GraphType.jl:1462 [inlined] (repeats 2 times)",
      " [5] resolve_versions!(::Pkg.Types.Context, ::Array{Pkg.Types.PackageSpec,1}, ::Nothing) at /buildworker/worker/package_linux64/build/usr/share/julia/stdlib/v1.0/Pkg/src/Operations.jl:373",
      " [6] resolve_versions! at /buildworker/worker/package_linux64/build/usr/share/julia/stdlib/v1.0/Pkg/src/Operations.jl:316 [inlined]",
      " [7] #add_or_develop#62(::Array{Base.UUID,1}, ::Symbol, ::Function, ::Pkg.Types.Context, ::Array{Pkg.Types.PackageSpec,1}) at /buildworker/worker/package_linux64/build/usr/share/julia/stdlib/v1.0/Pkg/src/Operations.jl:1201",
      " [8] #add_or_develop at ./none:0 [inlined]",
      " [9] #add_or_develop#15(::Symbol, ::Bool, ::Base.Iterators.Pairs{Union{},Union{},Tuple{},NamedTuple{(),Tuple{}}}, ::Function, ::Pkg.Types.Context, ::Array{Pkg.Types.PackageSpec,1}) at /buildworker/worker/package_linux64/build/usr/share/julia/stdlib/v1.0/Pkg/src/API.jl:69",
      " [10] #add_or_develop at ./none:0 [inlined]",
      " [11] #add_or_develop#14 at /buildworker/worker/package_linux64/build/usr/share/julia/stdlib/v1.0/Pkg/src/API.jl:34 [inlined]",
      " [12] #add_or_develop at ./none:0 [inlined]",
      " [13] #add_or_develop#11 at /buildworker/worker/package_linux64/build/usr/share/julia/stdlib/v1.0/Pkg/src/API.jl:33 [inlined]",
      " [14] #add_or_develop at ./none:0 [inlined]",
      " [15] #add_or_develop#10 at /buildworker/worker/package_linux64/build/usr/share/julia/stdlib/v1.0/Pkg/src/API.jl:32 [inlined]",
      " [16] #add_or_develop at ./none:0 [inlined]",
      " [17] #add#20 at /buildworker/worker/package_linux64/build/usr/share/julia/stdlib/v1.0/Pkg/src/API.jl:74 [inlined]",
      " [18] add(::String) at /buildworker/worker/package_linux64/build/usr/share/julia/stdlib/v1.0/Pkg/src/API.jl:74",
      " [19] top-level scope at In[31]:2"
     ]
    }
   ],
   "source": [
    "using Pkg\n",
    "#Pkg.add(\"Plots\")\n",
    "#Pkg.add(\"StatsBase\")\n",
    "#Pkg.add(PackageSpec(url=\"https://github.com/timholy/ProgressMeter.jl\"))\n",
    "Pkg.add(\"ProgressMeter\")"
   ]
  },
  {
   "cell_type": "code",
   "execution_count": 32,
   "metadata": {},
   "outputs": [
    {
     "ename": "ArgumentError",
     "evalue": "ArgumentError: Package ProgressMeter not found in current path:\n- Run `import Pkg; Pkg.add(\"ProgressMeter\")` to install the ProgressMeter package.\n",
     "output_type": "error",
     "traceback": [
      "ArgumentError: Package ProgressMeter not found in current path:\n- Run `import Pkg; Pkg.add(\"ProgressMeter\")` to install the ProgressMeter package.\n",
      "",
      "Stacktrace:",
      " [1] require(::Module, ::Symbol) at ./loading.jl:823",
      " [2] top-level scope at In[32]:1"
     ]
    }
   ],
   "source": []
  },
  {
   "cell_type": "code",
   "execution_count": 1,
   "metadata": {},
   "outputs": [],
   "source": [
    "using Random\n",
    "using Distributions"
   ]
  },
  {
   "cell_type": "code",
   "execution_count": 2,
   "metadata": {},
   "outputs": [],
   "source": [
    "abstract type AbstractBlk end\n",
    "\n",
    "struct Minor\n",
    "    label::String\n",
    "end\n",
    "\n",
    "struct Genesis <: AbstractBlk end\n",
    "\n",
    "struct Blk <: AbstractBlk\n",
    "    index::Int\n",
    "    minor::Minor\n",
    "    prev::AbstractBlk\n",
    "end\n",
    "\n",
    "function Base.show(io::IO, b::Genesis)\n",
    "    Base.show(io, 0)\n",
    "end\n",
    "\n",
    "function Base.show(io::IO, b::Blk)\n",
    "    Base.show(io, (b.index, b.minor.label))\n",
    "end\n",
    "\n",
    "struct Queue\n",
    "    sender::Minor\n",
    "    receiver::Minor\n",
    "    elem::Vector{AbstractBlk}\n",
    "    \n",
    "    Queue(sender, receiver) = new(sender, receiver, Vector{AbstractBlk}())\n",
    "end"
   ]
  },
  {
   "cell_type": "code",
   "execution_count": 3,
   "metadata": {},
   "outputs": [
    {
     "data": {
      "text/plain": [
       "getid (generic function with 2 methods)"
      ]
     },
     "execution_count": 3,
     "metadata": {},
     "output_type": "execute_result"
    }
   ],
   "source": [
    "getid(b::Blk) = b.index\n",
    "getid(b::Genesis) = 0"
   ]
  },
  {
   "cell_type": "code",
   "execution_count": 4,
   "metadata": {},
   "outputs": [
    {
     "data": {
      "text/plain": [
       "getlength (generic function with 1 method)"
      ]
     },
     "execution_count": 4,
     "metadata": {},
     "output_type": "execute_result"
    }
   ],
   "source": [
    "getreceiver(q::Queue) = q.receiver\n",
    "\n",
    "function receiveblk!(q::Queue, i::Int)::AbstractBlk\n",
    "    b = q.elem[i]\n",
    "    deleteat!(q.elem, i)\n",
    "    b\n",
    "end\n",
    "\n",
    "getlength(q::Queue) = length(q.elem)"
   ]
  },
  {
   "cell_type": "code",
   "execution_count": 5,
   "metadata": {},
   "outputs": [
    {
     "data": {
      "text/plain": [
       "sendblk! (generic function with 1 method)"
      ]
     },
     "execution_count": 5,
     "metadata": {},
     "output_type": "execute_result"
    }
   ],
   "source": [
    "function sendblk!(q::Queue, b::AbstractBlk)\n",
    "    push!(q.elem, b)\n",
    "end"
   ]
  },
  {
   "cell_type": "code",
   "execution_count": 6,
   "metadata": {},
   "outputs": [
    {
     "data": {
      "text/plain": [
       "event_genBlk! (generic function with 1 method)"
      ]
     },
     "execution_count": 6,
     "metadata": {},
     "output_type": "execute_result"
    }
   ],
   "source": [
    "function event_genBlk!(x::Minor, workblk::Dict{Minor,AbstractBlk}, queue::Vector{Queue}, blocks::Vector{Blk})\n",
    "    prev = workblk[x]\n",
    "    id = getid(prev) + 1\n",
    "    b = Blk(id, x, prev)\n",
    "    push!(blocks, b)\n",
    "    workblk[x] = b\n",
    "    for q = queue\n",
    "        sendblk!(q, b)\n",
    "    end\n",
    "    b\n",
    "end"
   ]
  },
  {
   "cell_type": "code",
   "execution_count": 7,
   "metadata": {},
   "outputs": [
    {
     "data": {
      "text/plain": [
       "event_arrivalBlk! (generic function with 1 method)"
      ]
     },
     "execution_count": 7,
     "metadata": {},
     "output_type": "execute_result"
    }
   ],
   "source": [
    "function event_arrivalBlk!(q::Queue, i::Int, workblk::Dict{Minor,AbstractBlk})\n",
    "    x = getreceiver(q)\n",
    "    b = receiveblk!(q, i)\n",
    "    prev = workblk[x]\n",
    "    if getid(prev) < getid(b)\n",
    "        workblk[x] = b\n",
    "    end\n",
    "    b\n",
    "end"
   ]
  },
  {
   "cell_type": "code",
   "execution_count": 8,
   "metadata": {},
   "outputs": [
    {
     "data": {
      "text/plain": [
       "rates (generic function with 1 method)"
      ]
     },
     "execution_count": 8,
     "metadata": {},
     "output_type": "execute_result"
    }
   ],
   "source": [
    "function rates(u1, u2, queue, lambda, mu)\n",
    "#    u1 = sort(collect(keys(lambda)), by=x->x.label)\n",
    "    r1 = [lambda[x] for x = u1]\n",
    "#    u2 = sort(collect(keys(mu)), by=x->(x[1].label, x[2].label))\n",
    "    r2 = [mu[x] * getlength(queue[x]) for x = u2]\n",
    "    return r1, r2\n",
    "end"
   ]
  },
  {
   "cell_type": "code",
   "execution_count": 9,
   "metadata": {},
   "outputs": [
    {
     "data": {
      "text/plain": [
       "Minor(\"B\")"
      ]
     },
     "execution_count": 9,
     "metadata": {},
     "output_type": "execute_result"
    }
   ],
   "source": [
    "a = Minor(\"A\")\n",
    "b = Minor(\"B\")"
   ]
  },
  {
   "cell_type": "code",
   "execution_count": 39,
   "metadata": {},
   "outputs": [
    {
     "data": {
      "text/plain": [
       "1"
      ]
     },
     "execution_count": 39,
     "metadata": {},
     "output_type": "execute_result"
    }
   ],
   "source": [
    "lambda = Dict(\n",
    "    a => 1/10,\n",
    "    b => 1/10,\n",
    ")\n",
    "\n",
    "mu = Dict(\n",
    "    (a,b) => 1/0.1,\n",
    "    (b,a) => 1/0.1\n",
    ")\n",
    "\n",
    "N = 1"
   ]
  },
  {
   "cell_type": "code",
   "execution_count": 40,
   "metadata": {},
   "outputs": [
    {
     "name": "stdout",
     "output_type": "stream",
     "text": [
      "  3.192282 seconds (11.87 M allocations: 371.910 MiB, 5.24% gc time)\n"
     ]
    }
   ],
   "source": [
    "rng = MersenneTwister(1234)\n",
    "Aworkblk = []\n",
    "Ablocks = []\n",
    "@time for k in 1:N\n",
    "    blocks = Vector{Blk}()\n",
    "\n",
    "    events = 0\n",
    "    u1 = sort(collect(keys(lambda)), by=x->x.label)\n",
    "    u2 = sort(collect(keys(mu)), by=x->(x[1].label, x[2].label))\n",
    "    workblk = Dict{Minor,AbstractBlk}(a=>Genesis(), b=>Genesis())\n",
    "    qAtoB = Queue(a, b)\n",
    "    qBtoA = Queue(b, a)\n",
    "    queue = Dict(\n",
    "        (a,b)=>qAtoB,\n",
    "        (b,a)=>qBtoA,\n",
    "    )\n",
    "    input = Dict(\n",
    "        a=>[qAtoB],\n",
    "        b=>[qBtoA],\n",
    "    )\n",
    "\n",
    "    ctime = 0.0\n",
    "    while ctime < 60*24*30*12 # 24 hours\n",
    "        r1, r2 = rates(u1, u2, queue, lambda, mu)\n",
    "        etime1 = [(r != 0) ? rand(rng, Exponential(1/r)) : Inf for r = r1]\n",
    "        etime2 = [(r != 0) ? rand(rng, Exponential(1/r)) : Inf for r = r2]\n",
    "        m1, i1 = findmin(etime1)\n",
    "        m2, i2 = findmin(etime2)\n",
    "        if m1 < m2\n",
    "            ctime += m1\n",
    "            event_genBlk!(u1[i1], workblk, input[u1[i1]], blocks)\n",
    "        else\n",
    "            ctime += m2\n",
    "            v = rand(rng, DiscreteUniform(1,getlength(queue[u2[i2]])))\n",
    "            event_arrivalBlk!(queue[u2[i2]], v, workblk)\n",
    "        end\n",
    "        events += 1\n",
    "    end\n",
    "    push!(Aworkblk,workblk)\n",
    "    push!(Ablocks,blocks)\n",
    "end"
   ]
  },
  {
   "cell_type": "code",
   "execution_count": 41,
   "metadata": {},
   "outputs": [
    {
     "data": {
      "text/plain": [
       "Dict{Minor,AbstractBlk} with 2 entries:\n",
       "  Minor(\"A\") => (153764, \"B\")\n",
       "  Minor(\"B\") => (153765, \"B\")"
      ]
     },
     "execution_count": 41,
     "metadata": {},
     "output_type": "execute_result"
    }
   ],
   "source": [
    "Aworkblk[1]"
   ]
  },
  {
   "cell_type": "code",
   "execution_count": 42,
   "metadata": {},
   "outputs": [],
   "source": [
    "Achains = []\n",
    "for i in 1:N\n",
    "    workblk = Aworkblk[i]\n",
    "    blk = workblk[a]\n",
    "    chains = []\n",
    "    push!(chains, blk)\n",
    "    while blk != Genesis()\n",
    "        blk = blk.prev\n",
    "        push!(chains, blk)\n",
    "    end\n",
    "    push!(Achains,chains)\n",
    "end"
   ]
  },
  {
   "cell_type": "code",
   "execution_count": 43,
   "metadata": {},
   "outputs": [],
   "source": [
    "Ainvchains = []\n",
    "for i in 1:N\n",
    "    chains = Achains[i]\n",
    "    invchains = reverse(chains)\n",
    "    push!(Ainvchains,invchains)\n",
    "end"
   ]
  },
  {
   "cell_type": "markdown",
   "metadata": {},
   "source": [
    "## 後続にブロックが付かない場合"
   ]
  },
  {
   "cell_type": "code",
   "execution_count": 60,
   "metadata": {},
   "outputs": [
    {
     "ename": "BoundsError",
     "evalue": "BoundsError: attempt to access 0-element Array{Any,1} at index [1]",
     "output_type": "error",
     "traceback": [
      "BoundsError: attempt to access 0-element Array{Any,1} at index [1]",
      "",
      "Stacktrace:",
      " [1] getindex(::Array{Any,1}, ::Int64) at ./array.jl:731",
      " [2] macro expansion at ./In[60]:5 [inlined]",
      " [3] macro expansion at ./util.jl:156 [inlined]",
      " [4] top-level scope at ./In[60]:3 [inlined]",
      " [5] top-level scope at ./none:0"
     ]
    }
   ],
   "source": [
    "#blocksにはあるがchainsにないものをカウントする\n",
    "Ahaki = []\n",
    "@time for h in 1:N\n",
    "    haki = 0\n",
    "    for i in 2:length(Ainvchains[h])\n",
    "        if Ainvchains[h][i].minor == Minor(\"B\")\n",
    "            for j in 1:length(Ablocks[h])\n",
    "                if (Ablocks[h][j].minor == Minor(\"A\")) && (Ablocks[h][j].index == Ainvchains[h][i].index)\n",
    "                    haki += 1\n",
    "                end\n",
    "            end\n",
    "        end\n",
    "    end\n",
    "   push!(Ahaki,haki)\n",
    "    if h%20 == 0\n",
    "        print(h,\"ok\")\n",
    "    end\n",
    "end"
   ]
  },
  {
   "cell_type": "markdown",
   "metadata": {},
   "source": [
    "## 後続にブロックが1つ付いた場合"
   ]
  },
  {
   "cell_type": "code",
   "execution_count": 44,
   "metadata": {},
   "outputs": [
    {
     "name": "stdout",
     "output_type": "stream",
     "text": [
      "3191.206306 seconds (51.96 G allocations: 940.211 GiB, 6.12% gc time)\n"
     ]
    }
   ],
   "source": [
    "#blocksで連番かつchainsにない場合は二つ以上同時に破棄されていると考える\n",
    "Ahaki = []\n",
    "@time for h in 1:N\n",
    "    haki = 0\n",
    "    for i in 3:length(Ainvchains[h])-1\n",
    "#        if Ainvchains[h][i].minor == Minor(\"B\") && Ainvchains[h][i-1].minor == Minor(\"B\")\n",
    "#            for j in 1:length(Ablocks[h])\n",
    "#                if (Ablocks[h][j].minor == Minor(\"A\")) && (Ablocks[h][j].index == Ainvchains[h][i-1].index)\n",
    "#                    for k in 1:length(Ablocks[h])\n",
    "#                        if (Ablocks[h][k].minor == Minor(\"A\")) && (Ablocks[h][k].index == Ainvchains[h][i].index)\n",
    "#                            haki += 1\n",
    "#                            if h == 1\n",
    "#                                println(Ablocks[h][j].index,\",\",Ablocks[h][k].index,\"-\",\"(i,j,k)\",i,\",\",j,\",\",k)\n",
    "#                            end\n",
    "#                        end\n",
    "#                    end\n",
    "#                end\n",
    "#            end\n",
    "#        end\n",
    "        if Ainvchains[h][i].minor == Minor(\"B\") && Ainvchains[h][i+1].minor == Minor(\"B\")\n",
    "            for j in 1:length(Ablocks[h])\n",
    "                if (Ablocks[h][j].minor == Minor(\"A\")) && (Ablocks[h][j].index == Ainvchains[h][i].index)\n",
    "                    for k in 1:length(Ablocks[h])\n",
    "                        if (Ablocks[h][k].minor == Minor(\"A\")) && (Ablocks[h][k].index == Ainvchains[h][i+1].index)\n",
    "                            haki += 1\n",
    "#                            if h == 1\n",
    "#                                println(Ablocks[h][j].index,\",\",Ablocks[h][k].index,\"+\",\"(i,j,k)\",i,\",\",j,\",\",k)\n",
    "#                            end\n",
    "                        end\n",
    "                    end\n",
    "                end\n",
    "            end\n",
    "        end\n",
    "    end\n",
    "    push!(Ahaki,haki)\n",
    "    if h%20 == 0\n",
    "        print(h,\"ok \")\n",
    "    end\n",
    "end"
   ]
  },
  {
   "cell_type": "code",
   "execution_count": 45,
   "metadata": {},
   "outputs": [],
   "source": [
    "AblkA = []\n",
    "for i in 1:N\n",
    "    blkA = 0\n",
    "    for j in 1:length(Ablocks[i])\n",
    "        if Ablocks[i][j].minor == Minor(\"A\")\n",
    "            blkA += 1\n",
    "        end\n",
    "    end\n",
    "    push!(AblkA,blkA)\n",
    "end"
   ]
  },
  {
   "cell_type": "code",
   "execution_count": 46,
   "metadata": {},
   "outputs": [],
   "source": [
    "Aresult = []\n",
    "for i in 1:N\n",
    "    result = Ahaki[i] / AblkA[i]\n",
    "    push!(Aresult,result)\n",
    "end"
   ]
  },
  {
   "cell_type": "markdown",
   "metadata": {},
   "source": [
    "## 平均"
   ]
  },
  {
   "cell_type": "code",
   "execution_count": 47,
   "metadata": {},
   "outputs": [
    {
     "data": {
      "text/plain": [
       "0.00028881700554528653"
      ]
     },
     "execution_count": 47,
     "metadata": {},
     "output_type": "execute_result"
    }
   ],
   "source": [
    "sum = 0\n",
    "for i in 1:N\n",
    "    sum += Aresult[i]\n",
    "end\n",
    "ave = sum / N"
   ]
  },
  {
   "cell_type": "markdown",
   "metadata": {},
   "source": [
    "## 分散"
   ]
  },
  {
   "cell_type": "code",
   "execution_count": 48,
   "metadata": {},
   "outputs": [
    {
     "data": {
      "text/plain": [
       "0.0"
      ]
     },
     "execution_count": 48,
     "metadata": {},
     "output_type": "execute_result"
    }
   ],
   "source": [
    "sq = 0\n",
    "for i in 1:N\n",
    "    sq += (Aresult[i]-ave)^2\n",
    "end\n",
    "var = sq / N"
   ]
  },
  {
   "cell_type": "code",
   "execution_count": 49,
   "metadata": {},
   "outputs": [
    {
     "data": {
      "text/plain": [
       "0.0"
      ]
     },
     "execution_count": 49,
     "metadata": {},
     "output_type": "execute_result"
    }
   ],
   "source": [
    "sta = sqrt(var)"
   ]
  },
  {
   "cell_type": "markdown",
   "metadata": {},
   "source": [
    "## 信頼区間(95%)"
   ]
  },
  {
   "cell_type": "code",
   "execution_count": 50,
   "metadata": {},
   "outputs": [
    {
     "name": "stdout",
     "output_type": "stream",
     "text": [
      "[0.00028881700554528653,0.00028881700554528653]"
     ]
    }
   ],
   "source": [
    "sita = ave - 1.9842 * (1/10) * sta\n",
    "ue = ave + 1.9842 * (1/10) * sta\n",
    "print(\"[\",sita,\",\",ue,\"]\")"
   ]
  },
  {
   "cell_type": "code",
   "execution_count": 51,
   "metadata": {},
   "outputs": [
    {
     "data": {
      "text/plain": [
       "0"
      ]
     },
     "execution_count": 51,
     "metadata": {},
     "output_type": "execute_result"
    }
   ],
   "source": [
    "e = 0\n",
    "for i in 1:N\n",
    "    if Aresult[i] < sita && Aresult[i] > ue\n",
    "        e += 1\n",
    "    end\n",
    "end\n",
    "e"
   ]
  },
  {
   "cell_type": "code",
   "execution_count": 52,
   "metadata": {},
   "outputs": [
    {
     "data": {
      "text/plain": [
       "1-element Array{Any,1}:\n",
       " 15"
      ]
     },
     "execution_count": 52,
     "metadata": {},
     "output_type": "execute_result"
    }
   ],
   "source": [
    "Ahaki"
   ]
  },
  {
   "cell_type": "code",
   "execution_count": 316,
   "metadata": {},
   "outputs": [
    {
     "data": {
      "text/plain": [
       "100-element Array{Any,1}:\n",
       " 4270\n",
       " 4343\n",
       " 4446\n",
       " 4318\n",
       " 4420\n",
       " 4368\n",
       " 4363\n",
       " 4306\n",
       " 4344\n",
       " 4345\n",
       " 4280\n",
       " 4307\n",
       " 4358\n",
       "    ⋮\n",
       " 4190\n",
       " 4287\n",
       " 4307\n",
       " 4336\n",
       " 4229\n",
       " 4330\n",
       " 4243\n",
       " 4395\n",
       " 4341\n",
       " 4229\n",
       " 4245\n",
       " 4214"
      ]
     },
     "execution_count": 316,
     "metadata": {},
     "output_type": "execute_result"
    }
   ],
   "source": [
    "AblkA"
   ]
  },
  {
   "cell_type": "code",
   "execution_count": 243,
   "metadata": {},
   "outputs": [],
   "source": [
    "open(\"chains.txt\",\"w\") do out #ファイルに書く\n",
    "    print(out,Ainvchains[1])\n",
    "end"
   ]
  },
  {
   "cell_type": "code",
   "execution_count": 244,
   "metadata": {},
   "outputs": [],
   "source": [
    "open(\"blocks.txt\",\"w\") do out #ファイルに書く\n",
    "    print(out,Ablocks[1])\n",
    "end"
   ]
  },
  {
   "cell_type": "code",
   "execution_count": 301,
   "metadata": {},
   "outputs": [
    {
     "data": {
      "text/plain": [
       "100-element Array{Any,1}:\n",
       " 0\n",
       " 0\n",
       " 0\n",
       " 1\n",
       " 0\n",
       " 1\n",
       " 0\n",
       " 0\n",
       " 1\n",
       " 0\n",
       " 2\n",
       " 1\n",
       " 3\n",
       " ⋮\n",
       " 1\n",
       " 1\n",
       " 0\n",
       " 0\n",
       " 1\n",
       " 1\n",
       " 0\n",
       " 0\n",
       " 0\n",
       " 0\n",
       " 1\n",
       " 1"
      ]
     },
     "execution_count": 301,
     "metadata": {},
     "output_type": "execute_result"
    }
   ],
   "source": [
    "Ahaki"
   ]
  },
  {
   "cell_type": "code",
   "execution_count": 370,
   "metadata": {},
   "outputs": [
    {
     "name": "stderr",
     "output_type": "stream",
     "text": [
      "┌ Info: Recompiling stale cache file /home/tachima/.julia/compiled/v1.0/Plots/ld3vC.ji for Plots [91a5bcdd-55d7-5caf-9e0b-520d859cae80]\n",
      "└ @ Base loading.jl:1190\n"
     ]
    },
    {
     "data": {
      "image/svg+xml": [
       "<?xml version=\"1.0\" encoding=\"utf-8\"?>\n",
       "<svg xmlns=\"http://www.w3.org/2000/svg\" xmlns:xlink=\"http://www.w3.org/1999/xlink\" width=\"600\" height=\"400\" viewBox=\"0 0 2400 1600\">\n",
       "<defs>\n",
       "  <clipPath id=\"clip320\">\n",
       "    <rect x=\"0\" y=\"0\" width=\"2400\" height=\"1600\"/>\n",
       "  </clipPath>\n",
       "</defs>\n",
       "<path clip-path=\"url(#clip320)\" d=\"\n",
       "M0 1600 L2400 1600 L2400 0 L0 0  Z\n",
       "  \" fill=\"#ffffff\" fill-rule=\"evenodd\" fill-opacity=\"1\"/>\n",
       "<defs>\n",
       "  <clipPath id=\"clip321\">\n",
       "    <rect x=\"480\" y=\"0\" width=\"1681\" height=\"1600\"/>\n",
       "  </clipPath>\n",
       "</defs>\n",
       "<path clip-path=\"url(#clip320)\" d=\"\n",
       "M174.862 1486.45 L2352.76 1486.45 L2352.76 123.472 L174.862 123.472  Z\n",
       "  \" fill=\"#ffffff\" fill-rule=\"evenodd\" fill-opacity=\"1\"/>\n",
       "<defs>\n",
       "  <clipPath id=\"clip322\">\n",
       "    <rect x=\"174\" y=\"123\" width=\"2179\" height=\"1364\"/>\n",
       "  </clipPath>\n",
       "</defs>\n",
       "<polyline clip-path=\"url(#clip322)\" style=\"stroke:#000000; stroke-width:2; stroke-opacity:0.1; fill:none\" points=\"\n",
       "  236.501,1486.45 236.501,123.472 \n",
       "  \"/>\n",
       "<polyline clip-path=\"url(#clip322)\" style=\"stroke:#000000; stroke-width:2; stroke-opacity:0.1; fill:none\" points=\"\n",
       "  750.155,1486.45 750.155,123.472 \n",
       "  \"/>\n",
       "<polyline clip-path=\"url(#clip322)\" style=\"stroke:#000000; stroke-width:2; stroke-opacity:0.1; fill:none\" points=\"\n",
       "  1263.81,1486.45 1263.81,123.472 \n",
       "  \"/>\n",
       "<polyline clip-path=\"url(#clip322)\" style=\"stroke:#000000; stroke-width:2; stroke-opacity:0.1; fill:none\" points=\"\n",
       "  1777.46,1486.45 1777.46,123.472 \n",
       "  \"/>\n",
       "<polyline clip-path=\"url(#clip322)\" style=\"stroke:#000000; stroke-width:2; stroke-opacity:0.1; fill:none\" points=\"\n",
       "  2291.12,1486.45 2291.12,123.472 \n",
       "  \"/>\n",
       "<polyline clip-path=\"url(#clip322)\" style=\"stroke:#000000; stroke-width:2; stroke-opacity:0.1; fill:none\" points=\"\n",
       "  174.862,1447.87 2352.76,1447.87 \n",
       "  \"/>\n",
       "<polyline clip-path=\"url(#clip322)\" style=\"stroke:#000000; stroke-width:2; stroke-opacity:0.1; fill:none\" points=\"\n",
       "  174.862,1126.42 2352.76,1126.42 \n",
       "  \"/>\n",
       "<polyline clip-path=\"url(#clip322)\" style=\"stroke:#000000; stroke-width:2; stroke-opacity:0.1; fill:none\" points=\"\n",
       "  174.862,804.96 2352.76,804.96 \n",
       "  \"/>\n",
       "<polyline clip-path=\"url(#clip322)\" style=\"stroke:#000000; stroke-width:2; stroke-opacity:0.1; fill:none\" points=\"\n",
       "  174.862,483.503 2352.76,483.503 \n",
       "  \"/>\n",
       "<polyline clip-path=\"url(#clip322)\" style=\"stroke:#000000; stroke-width:2; stroke-opacity:0.1; fill:none\" points=\"\n",
       "  174.862,162.047 2352.76,162.047 \n",
       "  \"/>\n",
       "<polyline clip-path=\"url(#clip320)\" style=\"stroke:#000000; stroke-width:4; stroke-opacity:1; fill:none\" points=\"\n",
       "  174.862,1486.45 2352.76,1486.45 \n",
       "  \"/>\n",
       "<polyline clip-path=\"url(#clip320)\" style=\"stroke:#000000; stroke-width:4; stroke-opacity:1; fill:none\" points=\"\n",
       "  174.862,1486.45 174.862,123.472 \n",
       "  \"/>\n",
       "<polyline clip-path=\"url(#clip320)\" style=\"stroke:#000000; stroke-width:4; stroke-opacity:1; fill:none\" points=\"\n",
       "  236.501,1486.45 236.501,1470.09 \n",
       "  \"/>\n",
       "<polyline clip-path=\"url(#clip320)\" style=\"stroke:#000000; stroke-width:4; stroke-opacity:1; fill:none\" points=\"\n",
       "  750.155,1486.45 750.155,1470.09 \n",
       "  \"/>\n",
       "<polyline clip-path=\"url(#clip320)\" style=\"stroke:#000000; stroke-width:4; stroke-opacity:1; fill:none\" points=\"\n",
       "  1263.81,1486.45 1263.81,1470.09 \n",
       "  \"/>\n",
       "<polyline clip-path=\"url(#clip320)\" style=\"stroke:#000000; stroke-width:4; stroke-opacity:1; fill:none\" points=\"\n",
       "  1777.46,1486.45 1777.46,1470.09 \n",
       "  \"/>\n",
       "<polyline clip-path=\"url(#clip320)\" style=\"stroke:#000000; stroke-width:4; stroke-opacity:1; fill:none\" points=\"\n",
       "  2291.12,1486.45 2291.12,1470.09 \n",
       "  \"/>\n",
       "<polyline clip-path=\"url(#clip320)\" style=\"stroke:#000000; stroke-width:4; stroke-opacity:1; fill:none\" points=\"\n",
       "  174.862,1447.87 200.997,1447.87 \n",
       "  \"/>\n",
       "<polyline clip-path=\"url(#clip320)\" style=\"stroke:#000000; stroke-width:4; stroke-opacity:1; fill:none\" points=\"\n",
       "  174.862,1126.42 200.997,1126.42 \n",
       "  \"/>\n",
       "<polyline clip-path=\"url(#clip320)\" style=\"stroke:#000000; stroke-width:4; stroke-opacity:1; fill:none\" points=\"\n",
       "  174.862,804.96 200.997,804.96 \n",
       "  \"/>\n",
       "<polyline clip-path=\"url(#clip320)\" style=\"stroke:#000000; stroke-width:4; stroke-opacity:1; fill:none\" points=\"\n",
       "  174.862,483.503 200.997,483.503 \n",
       "  \"/>\n",
       "<polyline clip-path=\"url(#clip320)\" style=\"stroke:#000000; stroke-width:4; stroke-opacity:1; fill:none\" points=\"\n",
       "  174.862,162.047 200.997,162.047 \n",
       "  \"/>\n",
       "<path clip-path=\"url(#clip320)\" d=\"M 0 0 M204.51 1508.44 Q200.899 1508.44 199.07 1512 Q197.265 1515.55 197.265 1522.67 Q197.265 1529.78 199.07 1533.35 Q200.899 1536.89 204.51 1536.89 Q208.144 1536.89 209.95 1533.35 Q211.778 1529.78 211.778 1522.67 Q211.778 1515.55 209.95 1512 Q208.144 1508.44 204.51 1508.44 M204.51 1504.73 Q210.32 1504.73 213.376 1509.34 Q216.454 1513.92 216.454 1522.67 Q216.454 1531.4 213.376 1536.01 Q210.32 1540.59 204.51 1540.59 Q198.7 1540.59 195.621 1536.01 Q192.566 1531.4 192.566 1522.67 Q192.566 1513.92 195.621 1509.34 Q198.7 1504.73 204.51 1504.73 Z\" fill=\"#000000\" fill-rule=\"evenodd\" fill-opacity=\"1\" /><path clip-path=\"url(#clip320)\" d=\"M 0 0 M221.524 1534.04 L226.408 1534.04 L226.408 1539.92 L221.524 1539.92 L221.524 1534.04 Z\" fill=\"#000000\" fill-rule=\"evenodd\" fill-opacity=\"1\" /><path clip-path=\"url(#clip320)\" d=\"M 0 0 M241.477 1508.44 Q237.866 1508.44 236.038 1512 Q234.232 1515.55 234.232 1522.67 Q234.232 1529.78 236.038 1533.35 Q237.866 1536.89 241.477 1536.89 Q245.112 1536.89 246.917 1533.35 Q248.746 1529.78 248.746 1522.67 Q248.746 1515.55 246.917 1512 Q245.112 1508.44 241.477 1508.44 M241.477 1504.73 Q247.288 1504.73 250.343 1509.34 Q253.422 1513.92 253.422 1522.67 Q253.422 1531.4 250.343 1536.01 Q247.288 1540.59 241.477 1540.59 Q235.667 1540.59 232.589 1536.01 Q229.533 1531.4 229.533 1522.67 Q229.533 1513.92 232.589 1509.34 Q235.667 1504.73 241.477 1504.73 Z\" fill=\"#000000\" fill-rule=\"evenodd\" fill-opacity=\"1\" /><path clip-path=\"url(#clip320)\" d=\"M 0 0 M268.491 1508.44 Q264.88 1508.44 263.051 1512 Q261.246 1515.55 261.246 1522.67 Q261.246 1529.78 263.051 1533.35 Q264.88 1536.89 268.491 1536.89 Q272.125 1536.89 273.931 1533.35 Q275.76 1529.78 275.76 1522.67 Q275.76 1515.55 273.931 1512 Q272.125 1508.44 268.491 1508.44 M268.491 1504.73 Q274.301 1504.73 277.357 1509.34 Q280.435 1513.92 280.435 1522.67 Q280.435 1531.4 277.357 1536.01 Q274.301 1540.59 268.491 1540.59 Q262.681 1540.59 259.602 1536.01 Q256.547 1531.4 256.547 1522.67 Q256.547 1513.92 259.602 1509.34 Q262.681 1504.73 268.491 1504.73 Z\" fill=\"#000000\" fill-rule=\"evenodd\" fill-opacity=\"1\" /><path clip-path=\"url(#clip320)\" d=\"M 0 0 M719.46 1508.44 Q715.849 1508.44 714.021 1512 Q712.215 1515.55 712.215 1522.67 Q712.215 1529.78 714.021 1533.35 Q715.849 1536.89 719.46 1536.89 Q723.095 1536.89 724.9 1533.35 Q726.729 1529.78 726.729 1522.67 Q726.729 1515.55 724.9 1512 Q723.095 1508.44 719.46 1508.44 M719.46 1504.73 Q725.271 1504.73 728.326 1509.34 Q731.405 1513.92 731.405 1522.67 Q731.405 1531.4 728.326 1536.01 Q725.271 1540.59 719.46 1540.59 Q713.65 1540.59 710.572 1536.01 Q707.516 1531.4 707.516 1522.67 Q707.516 1513.92 710.572 1509.34 Q713.65 1504.73 719.46 1504.73 Z\" fill=\"#000000\" fill-rule=\"evenodd\" fill-opacity=\"1\" /><path clip-path=\"url(#clip320)\" d=\"M 0 0 M736.474 1534.04 L741.358 1534.04 L741.358 1539.92 L736.474 1539.92 L736.474 1534.04 Z\" fill=\"#000000\" fill-rule=\"evenodd\" fill-opacity=\"1\" /><path clip-path=\"url(#clip320)\" d=\"M 0 0 M750.456 1535.98 L766.775 1535.98 L766.775 1539.92 L744.831 1539.92 L744.831 1535.98 Q747.493 1533.23 752.076 1528.6 Q756.682 1523.95 757.863 1522.61 Q760.108 1520.08 760.988 1518.35 Q761.891 1516.59 761.891 1514.9 Q761.891 1512.14 759.946 1510.41 Q758.025 1508.67 754.923 1508.67 Q752.724 1508.67 750.27 1509.43 Q747.84 1510.2 745.062 1511.75 L745.062 1507.03 Q747.886 1505.89 750.34 1505.31 Q752.794 1504.73 754.831 1504.73 Q760.201 1504.73 763.395 1507.42 Q766.59 1510.11 766.59 1514.6 Q766.59 1516.73 765.78 1518.65 Q764.993 1520.54 762.886 1523.14 Q762.307 1523.81 759.206 1527.03 Q756.104 1530.22 750.456 1535.98 Z\" fill=\"#000000\" fill-rule=\"evenodd\" fill-opacity=\"1\" /><path clip-path=\"url(#clip320)\" d=\"M 0 0 M771.891 1505.36 L790.247 1505.36 L790.247 1509.3 L776.173 1509.3 L776.173 1517.77 Q777.192 1517.42 778.21 1517.26 Q779.229 1517.07 780.247 1517.07 Q786.034 1517.07 789.414 1520.24 Q792.793 1523.42 792.793 1528.83 Q792.793 1534.41 789.321 1537.51 Q785.849 1540.59 779.53 1540.59 Q777.354 1540.59 775.085 1540.22 Q772.84 1539.85 770.432 1539.11 L770.432 1534.41 Q772.516 1535.54 774.738 1536.1 Q776.96 1536.66 779.437 1536.66 Q783.442 1536.66 785.78 1534.55 Q788.118 1532.44 788.118 1528.83 Q788.118 1525.22 785.78 1523.11 Q783.442 1521.01 779.437 1521.01 Q777.562 1521.01 775.687 1521.42 Q773.835 1521.84 771.891 1522.72 L771.891 1505.36 Z\" fill=\"#000000\" fill-rule=\"evenodd\" fill-opacity=\"1\" /><path clip-path=\"url(#clip320)\" d=\"M 0 0 M1232.32 1508.44 Q1228.7 1508.44 1226.88 1512 Q1225.07 1515.55 1225.07 1522.67 Q1225.07 1529.78 1226.88 1533.35 Q1228.7 1536.89 1232.32 1536.89 Q1235.95 1536.89 1237.76 1533.35 Q1239.58 1529.78 1239.58 1522.67 Q1239.58 1515.55 1237.76 1512 Q1235.95 1508.44 1232.32 1508.44 M1232.32 1504.73 Q1238.13 1504.73 1241.18 1509.34 Q1244.26 1513.92 1244.26 1522.67 Q1244.26 1531.4 1241.18 1536.01 Q1238.13 1540.59 1232.32 1540.59 Q1226.51 1540.59 1223.43 1536.01 Q1220.37 1531.4 1220.37 1522.67 Q1220.37 1513.92 1223.43 1509.34 Q1226.51 1504.73 1232.32 1504.73 Z\" fill=\"#000000\" fill-rule=\"evenodd\" fill-opacity=\"1\" /><path clip-path=\"url(#clip320)\" d=\"M 0 0 M1249.33 1534.04 L1254.21 1534.04 L1254.21 1539.92 L1249.33 1539.92 L1249.33 1534.04 Z\" fill=\"#000000\" fill-rule=\"evenodd\" fill-opacity=\"1\" /><path clip-path=\"url(#clip320)\" d=\"M 0 0 M1259.33 1505.36 L1277.69 1505.36 L1277.69 1509.3 L1263.61 1509.3 L1263.61 1517.77 Q1264.63 1517.42 1265.65 1517.26 Q1266.67 1517.07 1267.69 1517.07 Q1273.47 1517.07 1276.85 1520.24 Q1280.23 1523.42 1280.23 1528.83 Q1280.23 1534.41 1276.76 1537.51 Q1273.29 1540.59 1266.97 1540.59 Q1264.79 1540.59 1262.52 1540.22 Q1260.28 1539.85 1257.87 1539.11 L1257.87 1534.41 Q1259.95 1535.54 1262.18 1536.1 Q1264.4 1536.66 1266.88 1536.66 Q1270.88 1536.66 1273.22 1534.55 Q1275.56 1532.44 1275.56 1528.83 Q1275.56 1525.22 1273.22 1523.11 Q1270.88 1521.01 1266.88 1521.01 Q1265 1521.01 1263.13 1521.42 Q1261.27 1521.84 1259.33 1522.72 L1259.33 1505.36 Z\" fill=\"#000000\" fill-rule=\"evenodd\" fill-opacity=\"1\" /><path clip-path=\"url(#clip320)\" d=\"M 0 0 M1295.3 1508.44 Q1291.69 1508.44 1289.86 1512 Q1288.06 1515.55 1288.06 1522.67 Q1288.06 1529.78 1289.86 1533.35 Q1291.69 1536.89 1295.3 1536.89 Q1298.94 1536.89 1300.74 1533.35 Q1302.57 1529.78 1302.57 1522.67 Q1302.57 1515.55 1300.74 1512 Q1298.94 1508.44 1295.3 1508.44 M1295.3 1504.73 Q1301.11 1504.73 1304.17 1509.34 Q1307.25 1513.92 1307.25 1522.67 Q1307.25 1531.4 1304.17 1536.01 Q1301.11 1540.59 1295.3 1540.59 Q1289.49 1540.59 1286.41 1536.01 Q1283.36 1531.4 1283.36 1522.67 Q1283.36 1513.92 1286.41 1509.34 Q1289.49 1504.73 1295.3 1504.73 Z\" fill=\"#000000\" fill-rule=\"evenodd\" fill-opacity=\"1\" /><path clip-path=\"url(#clip320)\" d=\"M 0 0 M1746.42 1508.44 Q1742.81 1508.44 1740.98 1512 Q1739.18 1515.55 1739.18 1522.67 Q1739.18 1529.78 1740.98 1533.35 Q1742.81 1536.89 1746.42 1536.89 Q1750.06 1536.89 1751.86 1533.35 Q1753.69 1529.78 1753.69 1522.67 Q1753.69 1515.55 1751.86 1512 Q1750.06 1508.44 1746.42 1508.44 M1746.42 1504.73 Q1752.23 1504.73 1755.29 1509.34 Q1758.37 1513.92 1758.37 1522.67 Q1758.37 1531.4 1755.29 1536.01 Q1752.23 1540.59 1746.42 1540.59 Q1740.61 1540.59 1737.53 1536.01 Q1734.48 1531.4 1734.48 1522.67 Q1734.48 1513.92 1737.53 1509.34 Q1740.61 1504.73 1746.42 1504.73 Z\" fill=\"#000000\" fill-rule=\"evenodd\" fill-opacity=\"1\" /><path clip-path=\"url(#clip320)\" d=\"M 0 0 M1763.44 1534.04 L1768.32 1534.04 L1768.32 1539.92 L1763.44 1539.92 L1763.44 1534.04 Z\" fill=\"#000000\" fill-rule=\"evenodd\" fill-opacity=\"1\" /><path clip-path=\"url(#clip320)\" d=\"M 0 0 M1772.21 1505.36 L1794.43 1505.36 L1794.43 1507.35 L1781.88 1539.92 L1777 1539.92 L1788.81 1509.3 L1772.21 1509.3 L1772.21 1505.36 Z\" fill=\"#000000\" fill-rule=\"evenodd\" fill-opacity=\"1\" /><path clip-path=\"url(#clip320)\" d=\"M 0 0 M1799.55 1505.36 L1817.9 1505.36 L1817.9 1509.3 L1803.83 1509.3 L1803.83 1517.77 Q1804.85 1517.42 1805.87 1517.26 Q1806.88 1517.07 1807.9 1517.07 Q1813.69 1517.07 1817.07 1520.24 Q1820.45 1523.42 1820.45 1528.83 Q1820.45 1534.41 1816.98 1537.51 Q1813.5 1540.59 1807.19 1540.59 Q1805.01 1540.59 1802.74 1540.22 Q1800.5 1539.85 1798.09 1539.11 L1798.09 1534.41 Q1800.17 1535.54 1802.39 1536.1 Q1804.62 1536.66 1807.09 1536.66 Q1811.1 1536.66 1813.44 1534.55 Q1815.77 1532.44 1815.77 1528.83 Q1815.77 1525.22 1813.44 1523.11 Q1811.1 1521.01 1807.09 1521.01 Q1805.22 1521.01 1803.34 1521.42 Q1801.49 1521.84 1799.55 1522.72 L1799.55 1505.36 Z\" fill=\"#000000\" fill-rule=\"evenodd\" fill-opacity=\"1\" /><path clip-path=\"url(#clip320)\" d=\"M 0 0 M2249.51 1535.98 L2257.15 1535.98 L2257.15 1509.62 L2248.84 1511.29 L2248.84 1507.03 L2257.1 1505.36 L2261.78 1505.36 L2261.78 1535.98 L2269.42 1535.98 L2269.42 1539.92 L2249.51 1539.92 L2249.51 1535.98 Z\" fill=\"#000000\" fill-rule=\"evenodd\" fill-opacity=\"1\" /><path clip-path=\"url(#clip320)\" d=\"M 0 0 M2274.49 1534.04 L2279.37 1534.04 L2279.37 1539.92 L2274.49 1539.92 L2274.49 1534.04 Z\" fill=\"#000000\" fill-rule=\"evenodd\" fill-opacity=\"1\" /><path clip-path=\"url(#clip320)\" d=\"M 0 0 M2294.44 1508.44 Q2290.83 1508.44 2289 1512 Q2287.19 1515.55 2287.19 1522.67 Q2287.19 1529.78 2289 1533.35 Q2290.83 1536.89 2294.44 1536.89 Q2298.07 1536.89 2299.88 1533.35 Q2301.71 1529.78 2301.71 1522.67 Q2301.71 1515.55 2299.88 1512 Q2298.07 1508.44 2294.44 1508.44 M2294.44 1504.73 Q2300.25 1504.73 2303.3 1509.34 Q2306.38 1513.92 2306.38 1522.67 Q2306.38 1531.4 2303.3 1536.01 Q2300.25 1540.59 2294.44 1540.59 Q2288.63 1540.59 2285.55 1536.01 Q2282.49 1531.4 2282.49 1522.67 Q2282.49 1513.92 2285.55 1509.34 Q2288.63 1504.73 2294.44 1504.73 Z\" fill=\"#000000\" fill-rule=\"evenodd\" fill-opacity=\"1\" /><path clip-path=\"url(#clip320)\" d=\"M 0 0 M2321.45 1508.44 Q2317.84 1508.44 2316.01 1512 Q2314.21 1515.55 2314.21 1522.67 Q2314.21 1529.78 2316.01 1533.35 Q2317.84 1536.89 2321.45 1536.89 Q2325.09 1536.89 2326.89 1533.35 Q2328.72 1529.78 2328.72 1522.67 Q2328.72 1515.55 2326.89 1512 Q2325.09 1508.44 2321.45 1508.44 M2321.45 1504.73 Q2327.26 1504.73 2330.32 1509.34 Q2333.4 1513.92 2333.4 1522.67 Q2333.4 1531.4 2330.32 1536.01 Q2327.26 1540.59 2321.45 1540.59 Q2315.64 1540.59 2312.56 1536.01 Q2309.51 1531.4 2309.51 1522.67 Q2309.51 1513.92 2312.56 1509.34 Q2315.64 1504.73 2321.45 1504.73 Z\" fill=\"#000000\" fill-rule=\"evenodd\" fill-opacity=\"1\" /><path clip-path=\"url(#clip320)\" d=\"M 0 0 M74.9365 1433.67 Q71.3254 1433.67 69.4967 1437.24 Q67.6912 1440.78 67.6912 1447.91 Q67.6912 1455.01 69.4967 1458.58 Q71.3254 1462.12 74.9365 1462.12 Q78.5707 1462.12 80.3763 1458.58 Q82.205 1455.01 82.205 1447.91 Q82.205 1440.78 80.3763 1437.24 Q78.5707 1433.67 74.9365 1433.67 M74.9365 1429.97 Q80.7467 1429.97 83.8022 1434.57 Q86.8809 1439.16 86.8809 1447.91 Q86.8809 1456.63 83.8022 1461.24 Q80.7467 1465.82 74.9365 1465.82 Q69.1264 1465.82 66.0477 1461.24 Q62.9921 1456.63 62.9921 1447.91 Q62.9921 1439.16 66.0477 1434.57 Q69.1264 1429.97 74.9365 1429.97 Z\" fill=\"#000000\" fill-rule=\"evenodd\" fill-opacity=\"1\" /><path clip-path=\"url(#clip320)\" d=\"M 0 0 M91.9503 1459.27 L96.8345 1459.27 L96.8345 1465.15 L91.9503 1465.15 L91.9503 1459.27 Z\" fill=\"#000000\" fill-rule=\"evenodd\" fill-opacity=\"1\" /><path clip-path=\"url(#clip320)\" d=\"M 0 0 M111.904 1433.67 Q108.293 1433.67 106.464 1437.24 Q104.659 1440.78 104.659 1447.91 Q104.659 1455.01 106.464 1458.58 Q108.293 1462.12 111.904 1462.12 Q115.538 1462.12 117.344 1458.58 Q119.172 1455.01 119.172 1447.91 Q119.172 1440.78 117.344 1437.24 Q115.538 1433.67 111.904 1433.67 M111.904 1429.97 Q117.714 1429.97 120.77 1434.57 Q123.848 1439.16 123.848 1447.91 Q123.848 1456.63 120.77 1461.24 Q117.714 1465.82 111.904 1465.82 Q106.094 1465.82 103.015 1461.24 Q99.9595 1456.63 99.9595 1447.91 Q99.9595 1439.16 103.015 1434.57 Q106.094 1429.97 111.904 1429.97 Z\" fill=\"#000000\" fill-rule=\"evenodd\" fill-opacity=\"1\" /><path clip-path=\"url(#clip320)\" d=\"M 0 0 M138.918 1433.67 Q135.307 1433.67 133.478 1437.24 Q131.672 1440.78 131.672 1447.91 Q131.672 1455.01 133.478 1458.58 Q135.307 1462.12 138.918 1462.12 Q142.552 1462.12 144.357 1458.58 Q146.186 1455.01 146.186 1447.91 Q146.186 1440.78 144.357 1437.24 Q142.552 1433.67 138.918 1433.67 M138.918 1429.97 Q144.728 1429.97 147.783 1434.57 Q150.862 1439.16 150.862 1447.91 Q150.862 1456.63 147.783 1461.24 Q144.728 1465.82 138.918 1465.82 Q133.107 1465.82 130.029 1461.24 Q126.973 1456.63 126.973 1447.91 Q126.973 1439.16 130.029 1434.57 Q133.107 1429.97 138.918 1429.97 Z\" fill=\"#000000\" fill-rule=\"evenodd\" fill-opacity=\"1\" /><path clip-path=\"url(#clip320)\" d=\"M 0 0 M77.5291 1112.22 Q73.918 1112.22 72.0893 1115.78 Q70.2838 1119.32 70.2838 1126.45 Q70.2838 1133.56 72.0893 1137.12 Q73.918 1140.66 77.5291 1140.66 Q81.1633 1140.66 82.9689 1137.12 Q84.7976 1133.56 84.7976 1126.45 Q84.7976 1119.32 82.9689 1115.78 Q81.1633 1112.22 77.5291 1112.22 M77.5291 1108.51 Q83.3392 1108.51 86.3948 1113.12 Q89.4735 1117.7 89.4735 1126.45 Q89.4735 1135.18 86.3948 1139.78 Q83.3392 1144.37 77.5291 1144.37 Q71.7189 1144.37 68.6402 1139.78 Q65.5847 1135.18 65.5847 1126.45 Q65.5847 1117.7 68.6402 1113.12 Q71.7189 1108.51 77.5291 1108.51 Z\" fill=\"#000000\" fill-rule=\"evenodd\" fill-opacity=\"1\" /><path clip-path=\"url(#clip320)\" d=\"M 0 0 M94.5429 1137.82 L99.4271 1137.82 L99.4271 1143.7 L94.5429 1143.7 L94.5429 1137.82 Z\" fill=\"#000000\" fill-rule=\"evenodd\" fill-opacity=\"1\" /><path clip-path=\"url(#clip320)\" d=\"M 0 0 M108.524 1139.76 L124.844 1139.76 L124.844 1143.7 L102.899 1143.7 L102.899 1139.76 Q105.561 1137.01 110.145 1132.38 Q114.751 1127.72 115.932 1126.38 Q118.177 1123.86 119.057 1122.12 Q119.959 1120.36 119.959 1118.67 Q119.959 1115.92 118.015 1114.18 Q116.094 1112.45 112.992 1112.45 Q110.793 1112.45 108.339 1113.21 Q105.909 1113.97 103.131 1115.53 L103.131 1110.8 Q105.955 1109.67 108.409 1109.09 Q110.862 1108.51 112.899 1108.51 Q118.27 1108.51 121.464 1111.2 Q124.658 1113.88 124.658 1118.37 Q124.658 1120.5 123.848 1122.42 Q123.061 1124.32 120.955 1126.91 Q120.376 1127.59 117.274 1130.8 Q114.172 1134 108.524 1139.76 Z\" fill=\"#000000\" fill-rule=\"evenodd\" fill-opacity=\"1\" /><path clip-path=\"url(#clip320)\" d=\"M 0 0 M129.959 1109.14 L148.316 1109.14 L148.316 1113.07 L134.242 1113.07 L134.242 1121.54 Q135.26 1121.2 136.279 1121.03 Q137.297 1120.85 138.316 1120.85 Q144.103 1120.85 147.482 1124.02 Q150.862 1127.19 150.862 1132.61 Q150.862 1138.19 147.39 1141.29 Q143.918 1144.37 137.598 1144.37 Q135.422 1144.37 133.154 1144 Q130.908 1143.63 128.501 1142.89 L128.501 1138.19 Q130.584 1139.32 132.807 1139.88 Q135.029 1140.43 137.506 1140.43 Q141.51 1140.43 143.848 1138.33 Q146.186 1136.22 146.186 1132.61 Q146.186 1129 143.848 1126.89 Q141.51 1124.78 137.506 1124.78 Q135.631 1124.78 133.756 1125.2 Q131.904 1125.62 129.959 1126.5 L129.959 1109.14 Z\" fill=\"#000000\" fill-rule=\"evenodd\" fill-opacity=\"1\" /><path clip-path=\"url(#clip320)\" d=\"M 0 0 M75.9319 790.759 Q72.3208 790.759 70.4921 794.323 Q68.6865 797.865 68.6865 804.995 Q68.6865 812.101 70.4921 815.666 Q72.3208 819.208 75.9319 819.208 Q79.5661 819.208 81.3717 815.666 Q83.2004 812.101 83.2004 804.995 Q83.2004 797.865 81.3717 794.323 Q79.5661 790.759 75.9319 790.759 M75.9319 787.055 Q81.742 787.055 84.7976 791.661 Q87.8763 796.245 87.8763 804.995 Q87.8763 813.722 84.7976 818.328 Q81.742 822.911 75.9319 822.911 Q70.1217 822.911 67.043 818.328 Q63.9875 813.722 63.9875 804.995 Q63.9875 796.245 67.043 791.661 Q70.1217 787.055 75.9319 787.055 Z\" fill=\"#000000\" fill-rule=\"evenodd\" fill-opacity=\"1\" /><path clip-path=\"url(#clip320)\" d=\"M 0 0 M92.9457 816.36 L97.8299 816.36 L97.8299 822.24 L92.9457 822.24 L92.9457 816.36 Z\" fill=\"#000000\" fill-rule=\"evenodd\" fill-opacity=\"1\" /><path clip-path=\"url(#clip320)\" d=\"M 0 0 M102.946 787.68 L121.302 787.68 L121.302 791.615 L107.228 791.615 L107.228 800.087 Q108.247 799.74 109.265 799.578 Q110.284 799.393 111.302 799.393 Q117.089 799.393 120.469 802.564 Q123.848 805.735 123.848 811.152 Q123.848 816.731 120.376 819.833 Q116.904 822.911 110.584 822.911 Q108.409 822.911 106.14 822.541 Q103.895 822.171 101.487 821.43 L101.487 816.731 Q103.571 817.865 105.793 818.421 Q108.015 818.976 110.492 818.976 Q114.496 818.976 116.834 816.87 Q119.172 814.763 119.172 811.152 Q119.172 807.541 116.834 805.435 Q114.496 803.328 110.492 803.328 Q108.617 803.328 106.742 803.745 Q104.89 804.161 102.946 805.041 L102.946 787.68 Z\" fill=\"#000000\" fill-rule=\"evenodd\" fill-opacity=\"1\" /><path clip-path=\"url(#clip320)\" d=\"M 0 0 M138.918 790.759 Q135.307 790.759 133.478 794.323 Q131.672 797.865 131.672 804.995 Q131.672 812.101 133.478 815.666 Q135.307 819.208 138.918 819.208 Q142.552 819.208 144.357 815.666 Q146.186 812.101 146.186 804.995 Q146.186 797.865 144.357 794.323 Q142.552 790.759 138.918 790.759 M138.918 787.055 Q144.728 787.055 147.783 791.661 Q150.862 796.245 150.862 804.995 Q150.862 813.722 147.783 818.328 Q144.728 822.911 138.918 822.911 Q133.107 822.911 130.029 818.328 Q126.973 813.722 126.973 804.995 Q126.973 796.245 130.029 791.661 Q133.107 787.055 138.918 787.055 Z\" fill=\"#000000\" fill-rule=\"evenodd\" fill-opacity=\"1\" /><path clip-path=\"url(#clip320)\" d=\"M 0 0 M76.8346 469.302 Q73.2236 469.302 71.3949 472.867 Q69.5893 476.409 69.5893 483.538 Q69.5893 490.645 71.3949 494.209 Q73.2236 497.751 76.8346 497.751 Q80.4689 497.751 82.2744 494.209 Q84.1031 490.645 84.1031 483.538 Q84.1031 476.409 82.2744 472.867 Q80.4689 469.302 76.8346 469.302 M76.8346 465.598 Q82.6448 465.598 85.7003 470.205 Q88.779 474.788 88.779 483.538 Q88.779 492.265 85.7003 496.871 Q82.6448 501.455 76.8346 501.455 Q71.0245 501.455 67.9458 496.871 Q64.8903 492.265 64.8903 483.538 Q64.8903 474.788 67.9458 470.205 Q71.0245 465.598 76.8346 465.598 Z\" fill=\"#000000\" fill-rule=\"evenodd\" fill-opacity=\"1\" /><path clip-path=\"url(#clip320)\" d=\"M 0 0 M93.8484 494.904 L98.7327 494.904 L98.7327 500.783 L93.8484 500.783 L93.8484 494.904 Z\" fill=\"#000000\" fill-rule=\"evenodd\" fill-opacity=\"1\" /><path clip-path=\"url(#clip320)\" d=\"M 0 0 M102.622 466.223 L124.844 466.223 L124.844 468.214 L112.297 500.783 L107.413 500.783 L119.219 470.159 L102.622 470.159 L102.622 466.223 Z\" fill=\"#000000\" fill-rule=\"evenodd\" fill-opacity=\"1\" /><path clip-path=\"url(#clip320)\" d=\"M 0 0 M129.959 466.223 L148.316 466.223 L148.316 470.159 L134.242 470.159 L134.242 478.631 Q135.26 478.284 136.279 478.122 Q137.297 477.936 138.316 477.936 Q144.103 477.936 147.482 481.108 Q150.862 484.279 150.862 489.696 Q150.862 495.274 147.39 498.376 Q143.918 501.455 137.598 501.455 Q135.422 501.455 133.154 501.084 Q130.908 500.714 128.501 499.973 L128.501 495.274 Q130.584 496.408 132.807 496.964 Q135.029 497.52 137.506 497.52 Q141.51 497.52 143.848 495.413 Q146.186 493.307 146.186 489.696 Q146.186 486.084 143.848 483.978 Q141.51 481.872 137.506 481.872 Q135.631 481.872 133.756 482.288 Q131.904 482.705 129.959 483.584 L129.959 466.223 Z\" fill=\"#000000\" fill-rule=\"evenodd\" fill-opacity=\"1\" /><path clip-path=\"url(#clip320)\" d=\"M 0 0 M66.9736 175.392 L74.6124 175.392 L74.6124 149.026 L66.3023 150.693 L66.3023 146.434 L74.5661 144.767 L79.242 144.767 L79.242 175.392 L86.8809 175.392 L86.8809 179.327 L66.9736 179.327 L66.9736 175.392 Z\" fill=\"#000000\" fill-rule=\"evenodd\" fill-opacity=\"1\" /><path clip-path=\"url(#clip320)\" d=\"M 0 0 M91.9503 173.447 L96.8345 173.447 L96.8345 179.327 L91.9503 179.327 L91.9503 173.447 Z\" fill=\"#000000\" fill-rule=\"evenodd\" fill-opacity=\"1\" /><path clip-path=\"url(#clip320)\" d=\"M 0 0 M111.904 147.846 Q108.293 147.846 106.464 151.41 Q104.659 154.952 104.659 162.082 Q104.659 169.188 106.464 172.753 Q108.293 176.295 111.904 176.295 Q115.538 176.295 117.344 172.753 Q119.172 169.188 119.172 162.082 Q119.172 154.952 117.344 151.41 Q115.538 147.846 111.904 147.846 M111.904 144.142 Q117.714 144.142 120.77 148.748 Q123.848 153.332 123.848 162.082 Q123.848 170.808 120.77 175.415 Q117.714 179.998 111.904 179.998 Q106.094 179.998 103.015 175.415 Q99.9595 170.808 99.9595 162.082 Q99.9595 153.332 103.015 148.748 Q106.094 144.142 111.904 144.142 Z\" fill=\"#000000\" fill-rule=\"evenodd\" fill-opacity=\"1\" /><path clip-path=\"url(#clip320)\" d=\"M 0 0 M138.918 147.846 Q135.307 147.846 133.478 151.41 Q131.672 154.952 131.672 162.082 Q131.672 169.188 133.478 172.753 Q135.307 176.295 138.918 176.295 Q142.552 176.295 144.357 172.753 Q146.186 169.188 146.186 162.082 Q146.186 154.952 144.357 151.41 Q142.552 147.846 138.918 147.846 M138.918 144.142 Q144.728 144.142 147.783 148.748 Q150.862 153.332 150.862 162.082 Q150.862 170.808 147.783 175.415 Q144.728 179.998 138.918 179.998 Q133.107 179.998 130.029 175.415 Q126.973 170.808 126.973 162.082 Q126.973 153.332 130.029 148.748 Q133.107 144.142 138.918 144.142 Z\" fill=\"#000000\" fill-rule=\"evenodd\" fill-opacity=\"1\" /><path clip-path=\"url(#clip320)\" d=\"M 0 0 M1043.28 35.9153 Q1046.07 30.8922 1049.96 28.5022 Q1053.85 26.1121 1059.12 26.1121 Q1066.21 26.1121 1070.05 31.0947 Q1073.9 36.0368 1073.9 45.1919 L1073.9 72.576 L1066.41 72.576 L1066.41 45.4349 Q1066.41 38.913 1064.1 35.7533 Q1061.79 32.5936 1057.05 32.5936 Q1051.26 32.5936 1047.9 36.4419 Q1044.53 40.2903 1044.53 46.9338 L1044.53 72.576 L1037.04 72.576 L1037.04 45.4349 Q1037.04 38.8725 1034.73 35.7533 Q1032.42 32.5936 1027.6 32.5936 Q1021.89 32.5936 1018.53 36.4824 Q1015.16 40.3308 1015.16 46.9338 L1015.16 72.576 L1007.67 72.576 L1007.67 27.2059 L1015.16 27.2059 L1015.16 34.2544 Q1017.72 30.082 1021.28 28.0971 Q1024.85 26.1121 1029.75 26.1121 Q1034.69 26.1121 1038.13 28.6237 Q1041.62 31.1352 1043.28 35.9153 Z\" fill=\"#000000\" fill-rule=\"evenodd\" fill-opacity=\"1\" /><path clip-path=\"url(#clip320)\" d=\"M 0 0 M1100.6 76.7889 Q1097.44 84.8907 1094.44 87.3618 Q1091.44 89.8329 1086.42 89.8329 L1080.47 89.8329 L1080.47 83.5945 L1084.84 83.5945 Q1087.92 83.5945 1089.62 82.1361 Q1091.32 80.6778 1093.39 75.2496 L1094.72 71.8468 L1076.37 27.2059 L1084.27 27.2059 L1098.45 62.6918 L1112.63 27.2059 L1120.53 27.2059 L1100.6 76.7889 Z\" fill=\"#000000\" fill-rule=\"evenodd\" fill-opacity=\"1\" /><path clip-path=\"url(#clip320)\" d=\"M 0 0 M1192.43 45.1919 L1192.43 72.576 L1184.98 72.576 L1184.98 45.4349 Q1184.98 38.994 1182.47 35.7938 Q1179.96 32.5936 1174.93 32.5936 Q1168.9 32.5936 1165.41 36.4419 Q1161.93 40.2903 1161.93 46.9338 L1161.93 72.576 L1154.43 72.576 L1154.43 9.54393 L1161.93 9.54393 L1161.93 34.2544 Q1164.6 30.163 1168.21 28.1376 Q1171.85 26.1121 1176.59 26.1121 Q1184.41 26.1121 1188.42 30.9732 Q1192.43 35.7938 1192.43 45.1919 Z\" fill=\"#000000\" fill-rule=\"evenodd\" fill-opacity=\"1\" /><path clip-path=\"url(#clip320)\" d=\"M 0 0 M1200.25 27.2059 L1207.7 27.2059 L1207.7 72.576 L1200.25 72.576 L1200.25 27.2059 M1200.25 9.54393 L1207.7 9.54393 L1207.7 18.9825 L1200.25 18.9825 L1200.25 9.54393 Z\" fill=\"#000000\" fill-rule=\"evenodd\" fill-opacity=\"1\" /><path clip-path=\"url(#clip320)\" d=\"M 0 0 M1244.45 28.5427 L1244.45 35.5912 Q1241.29 33.9709 1237.88 33.1607 Q1234.48 32.3505 1230.83 32.3505 Q1225.28 32.3505 1222.49 34.0519 Q1219.74 35.7533 1219.74 39.156 Q1219.74 41.7486 1221.72 43.2475 Q1223.71 44.7058 1229.7 46.0426 L1232.25 46.6097 Q1240.19 48.3111 1243.51 51.4303 Q1246.88 54.509 1246.88 60.0587 Q1246.88 66.3781 1241.85 70.0644 Q1236.87 73.7508 1228.12 73.7508 Q1224.47 73.7508 1220.5 73.0216 Q1216.58 72.3329 1212.2 70.9151 L1212.2 63.2184 Q1216.33 65.3654 1220.34 66.4591 Q1224.35 67.5124 1228.28 67.5124 Q1233.55 67.5124 1236.38 65.73 Q1239.22 63.9071 1239.22 60.6258 Q1239.22 57.5877 1237.15 55.9673 Q1235.13 54.3469 1228.2 52.8481 L1225.61 52.2405 Q1218.68 50.7821 1215.6 47.7845 Q1212.52 44.7463 1212.52 39.4801 Q1212.52 33.0797 1217.06 29.5959 Q1221.6 26.1121 1229.94 26.1121 Q1234.08 26.1121 1237.72 26.7198 Q1241.37 27.3274 1244.45 28.5427 Z\" fill=\"#000000\" fill-rule=\"evenodd\" fill-opacity=\"1\" /><path clip-path=\"url(#clip320)\" d=\"M 0 0 M1262.07 14.324 L1262.07 27.2059 L1277.42 27.2059 L1277.42 32.9987 L1262.07 32.9987 L1262.07 57.6282 Q1262.07 63.1779 1263.57 64.7578 Q1265.11 66.3376 1269.76 66.3376 L1277.42 66.3376 L1277.42 72.576 L1269.76 72.576 Q1261.14 72.576 1257.85 69.3758 Q1254.57 66.1351 1254.57 57.6282 L1254.57 32.9987 L1249.1 32.9987 L1249.1 27.2059 L1254.57 27.2059 L1254.57 14.324 L1262.07 14.324 Z\" fill=\"#000000\" fill-rule=\"evenodd\" fill-opacity=\"1\" /><path clip-path=\"url(#clip320)\" d=\"M 0 0 M1302.82 32.4315 Q1296.82 32.4315 1293.34 37.1306 Q1289.86 41.7891 1289.86 49.9314 Q1289.86 58.0738 1293.3 62.7728 Q1296.78 67.4314 1302.82 67.4314 Q1308.77 67.4314 1312.26 62.7323 Q1315.74 58.0333 1315.74 49.9314 Q1315.74 41.8701 1312.26 37.1711 Q1308.77 32.4315 1302.82 32.4315 M1302.82 26.1121 Q1312.54 26.1121 1318.09 32.4315 Q1323.64 38.7509 1323.64 49.9314 Q1323.64 61.0714 1318.09 67.4314 Q1312.54 73.7508 1302.82 73.7508 Q1293.06 73.7508 1287.51 67.4314 Q1282 61.0714 1282 49.9314 Q1282 38.7509 1287.51 32.4315 Q1293.06 26.1121 1302.82 26.1121 Z\" fill=\"#000000\" fill-rule=\"evenodd\" fill-opacity=\"1\" /><path clip-path=\"url(#clip320)\" d=\"M 0 0 M1361.31 49.3643 Q1361.31 41.2625 1357.95 36.8065 Q1354.63 32.3505 1348.59 32.3505 Q1342.6 32.3505 1339.24 36.8065 Q1335.92 41.2625 1335.92 49.3643 Q1335.92 57.4256 1339.24 61.8816 Q1342.6 66.3376 1348.59 66.3376 Q1354.63 66.3376 1357.95 61.8816 Q1361.31 57.4256 1361.31 49.3643 M1368.77 66.9452 Q1368.77 78.5308 1363.62 84.1616 Q1358.48 89.8329 1347.87 89.8329 Q1343.94 89.8329 1340.45 89.2252 Q1336.97 88.6581 1333.69 87.4428 L1333.69 80.1917 Q1336.97 81.9741 1340.17 82.8248 Q1343.37 83.6755 1346.69 83.6755 Q1354.02 83.6755 1357.67 79.8271 Q1361.31 76.0193 1361.31 68.282 L1361.31 64.5957 Q1359.01 68.6061 1355.4 70.5911 Q1351.79 72.576 1346.77 72.576 Q1338.43 72.576 1333.32 66.2161 Q1328.22 59.8562 1328.22 49.3643 Q1328.22 38.832 1333.32 32.472 Q1338.43 26.1121 1346.77 26.1121 Q1351.79 26.1121 1355.4 28.0971 Q1359.01 30.082 1361.31 34.0924 L1361.31 27.2059 L1368.77 27.2059 L1368.77 66.9452 Z\" fill=\"#000000\" fill-rule=\"evenodd\" fill-opacity=\"1\" /><path clip-path=\"url(#clip320)\" d=\"M 0 0 M1402.88 34.1734 Q1401.62 33.4443 1400.12 33.1202 Q1398.66 32.7556 1396.88 32.7556 Q1390.56 32.7556 1387.16 36.8875 Q1383.8 40.9789 1383.8 48.6757 L1383.8 72.576 L1376.3 72.576 L1376.3 27.2059 L1383.8 27.2059 L1383.8 34.2544 Q1386.15 30.1225 1389.91 28.1376 Q1393.68 26.1121 1399.07 26.1121 Q1399.84 26.1121 1400.77 26.2337 Q1401.7 26.3147 1402.84 26.5172 L1402.88 34.1734 Z\" fill=\"#000000\" fill-rule=\"evenodd\" fill-opacity=\"1\" /><path clip-path=\"url(#clip320)\" d=\"M 0 0 M1431.31 49.7694 Q1422.28 49.7694 1418.8 51.8354 Q1415.31 53.9013 1415.31 58.8839 Q1415.31 62.8538 1417.91 65.2034 Q1420.54 67.5124 1425.03 67.5124 Q1431.23 67.5124 1434.96 63.1374 Q1438.73 58.7219 1438.73 51.4303 L1438.73 49.7694 L1431.31 49.7694 M1446.18 46.6907 L1446.18 72.576 L1438.73 72.576 L1438.73 65.6895 Q1436.17 69.8214 1432.37 71.8063 Q1428.56 73.7508 1423.05 73.7508 Q1416.08 73.7508 1411.95 69.8619 Q1407.86 65.9325 1407.86 59.3701 Q1407.86 51.7138 1412.96 47.825 Q1418.11 43.9361 1428.28 43.9361 L1438.73 43.9361 L1438.73 43.2069 Q1438.73 38.0623 1435.32 35.2672 Q1431.96 32.4315 1425.85 32.4315 Q1421.96 32.4315 1418.27 33.3632 Q1414.58 34.295 1411.18 36.1584 L1411.18 29.2718 Q1415.27 27.692 1419.12 26.9223 Q1422.97 26.1121 1426.61 26.1121 Q1436.46 26.1121 1441.32 31.2163 Q1446.18 36.3204 1446.18 46.6907 Z\" fill=\"#000000\" fill-rule=\"evenodd\" fill-opacity=\"1\" /><path clip-path=\"url(#clip320)\" d=\"M 0 0 M1489.32 35.9153 Q1492.12 30.8922 1496.01 28.5022 Q1499.9 26.1121 1505.16 26.1121 Q1512.25 26.1121 1516.1 31.0947 Q1519.95 36.0368 1519.95 45.1919 L1519.95 72.576 L1512.45 72.576 L1512.45 45.4349 Q1512.45 38.913 1510.14 35.7533 Q1507.84 32.5936 1503.1 32.5936 Q1497.3 32.5936 1493.94 36.4419 Q1490.58 40.2903 1490.58 46.9338 L1490.58 72.576 L1483.08 72.576 L1483.08 45.4349 Q1483.08 38.8725 1480.78 35.7533 Q1478.47 32.5936 1473.65 32.5936 Q1467.93 32.5936 1464.57 36.4824 Q1461.21 40.3308 1461.21 46.9338 L1461.21 72.576 L1453.72 72.576 L1453.72 27.2059 L1461.21 27.2059 L1461.21 34.2544 Q1463.76 30.082 1467.33 28.0971 Q1470.89 26.1121 1475.79 26.1121 Q1480.73 26.1121 1484.18 28.6237 Q1487.66 31.1352 1489.32 35.9153 Z\" fill=\"#000000\" fill-rule=\"evenodd\" fill-opacity=\"1\" /><path clip-path=\"url(#clip320)\" d=\"\n",
       "M1668.49 327.952 L2280.76 327.952 L2280.76 206.992 L1668.49 206.992  Z\n",
       "  \" fill=\"#ffffff\" fill-rule=\"evenodd\" fill-opacity=\"1\"/>\n",
       "<polyline clip-path=\"url(#clip320)\" style=\"stroke:#000000; stroke-width:4; stroke-opacity:1; fill:none\" points=\"\n",
       "  1668.49,327.952 2280.76,327.952 2280.76,206.992 1668.49,206.992 1668.49,327.952 \n",
       "  \"/>\n",
       "<path clip-path=\"url(#clip320)\" d=\"\n",
       "M1692.49 291.664 L1836.49 291.664 L1836.49 243.28 L1692.49 243.28 L1692.49 291.664  Z\n",
       "  \" fill=\"#009af9\" fill-rule=\"evenodd\" fill-opacity=\"1\"/>\n",
       "<polyline clip-path=\"url(#clip320)\" style=\"stroke:#000000; stroke-width:4; stroke-opacity:1; fill:none\" points=\"\n",
       "  1692.49,291.664 1836.49,291.664 1836.49,243.28 1692.49,243.28 1692.49,291.664 \n",
       "  \"/>\n",
       "<path clip-path=\"url(#clip320)\" d=\"M 0 0 M1882.2 269.104 L1882.2 284.752 L1877.94 284.752 L1877.94 269.243 Q1877.94 265.562 1876.51 263.734 Q1875.07 261.905 1872.2 261.905 Q1868.75 261.905 1866.76 264.104 Q1864.77 266.303 1864.77 270.099 L1864.77 284.752 L1860.49 284.752 L1860.49 258.826 L1864.77 258.826 L1864.77 262.854 Q1866.3 260.516 1868.36 259.359 Q1870.44 258.201 1873.15 258.201 Q1877.62 258.201 1879.91 260.979 Q1882.2 263.734 1882.2 269.104 Z\" fill=\"#000000\" fill-rule=\"evenodd\" fill-opacity=\"1\" /><path clip-path=\"url(#clip320)\" d=\"M 0 0 M1886.23 274.521 L1886.23 258.826 L1890.49 258.826 L1890.49 274.359 Q1890.49 278.039 1891.92 279.891 Q1893.36 281.72 1896.23 281.72 Q1899.68 281.72 1901.67 279.521 Q1903.68 277.322 1903.68 273.525 L1903.68 258.826 L1907.94 258.826 L1907.94 284.752 L1903.68 284.752 L1903.68 280.771 Q1902.13 283.132 1900.07 284.289 Q1898.04 285.423 1895.33 285.423 Q1890.86 285.423 1888.54 282.646 Q1886.23 279.868 1886.23 274.521 M1896.95 258.201 L1896.95 258.201 Z\" fill=\"#000000\" fill-rule=\"evenodd\" fill-opacity=\"1\" /><path clip-path=\"url(#clip320)\" d=\"M 0 0 M1932.6 263.803 Q1934.19 260.933 1936.41 259.567 Q1938.64 258.201 1941.65 258.201 Q1945.7 258.201 1947.9 261.049 Q1950.1 263.873 1950.1 269.104 L1950.1 284.752 L1945.81 284.752 L1945.81 269.243 Q1945.81 265.516 1944.49 263.711 Q1943.17 261.905 1940.47 261.905 Q1937.16 261.905 1935.23 264.104 Q1933.31 266.303 1933.31 270.099 L1933.31 284.752 L1929.03 284.752 L1929.03 269.243 Q1929.03 265.493 1927.71 263.711 Q1926.39 261.905 1923.64 261.905 Q1920.37 261.905 1918.45 264.127 Q1916.53 266.326 1916.53 270.099 L1916.53 284.752 L1912.25 284.752 L1912.25 258.826 L1916.53 258.826 L1916.53 262.854 Q1917.99 260.47 1920.03 259.336 Q1922.06 258.201 1924.86 258.201 Q1927.69 258.201 1929.66 259.637 Q1931.65 261.072 1932.6 263.803 Z\" fill=\"#000000\" fill-rule=\"evenodd\" fill-opacity=\"1\" /><path clip-path=\"url(#clip320)\" d=\"M 0 0 M1973.17 271.812 Q1973.17 267.113 1971.23 264.451 Q1969.31 261.766 1965.93 261.766 Q1962.55 261.766 1960.6 264.451 Q1958.68 267.113 1958.68 271.812 Q1958.68 276.511 1960.6 279.197 Q1962.55 281.859 1965.93 281.859 Q1969.31 281.859 1971.23 279.197 Q1973.17 276.511 1973.17 271.812 M1958.68 262.762 Q1960.03 260.447 1962.06 259.336 Q1964.12 258.201 1966.97 258.201 Q1971.69 258.201 1974.63 261.951 Q1977.6 265.701 1977.6 271.812 Q1977.6 277.923 1974.63 281.673 Q1971.69 285.423 1966.97 285.423 Q1964.12 285.423 1962.06 284.312 Q1960.03 283.178 1958.68 280.863 L1958.68 284.752 L1954.4 284.752 L1954.4 248.734 L1958.68 248.734 L1958.68 262.762 Z\" fill=\"#000000\" fill-rule=\"evenodd\" fill-opacity=\"1\" /><path clip-path=\"url(#clip320)\" d=\"M 0 0 M2004.24 270.724 L2004.24 272.808 L1984.66 272.808 Q1984.93 277.206 1987.29 279.521 Q1989.68 281.812 1993.91 281.812 Q1996.37 281.812 1998.66 281.21 Q2000.97 280.609 2003.24 279.405 L2003.24 283.433 Q2000.95 284.405 1998.54 284.914 Q1996.14 285.423 1993.66 285.423 Q1987.46 285.423 1983.82 281.812 Q1980.21 278.201 1980.21 272.044 Q1980.21 265.678 1983.64 261.951 Q1987.09 258.201 1992.92 258.201 Q1998.15 258.201 2001.18 261.581 Q2004.24 264.937 2004.24 270.724 M1999.98 269.474 Q1999.93 265.979 1998.01 263.896 Q1996.11 261.812 1992.97 261.812 Q1989.4 261.812 1987.25 263.826 Q1985.12 265.84 1984.79 269.498 L1999.98 269.474 Z\" fill=\"#000000\" fill-rule=\"evenodd\" fill-opacity=\"1\" /><path clip-path=\"url(#clip320)\" d=\"M 0 0 M2023.73 262.808 Q2023.01 262.391 2022.16 262.206 Q2021.32 261.998 2020.3 261.998 Q2016.69 261.998 2014.75 264.359 Q2012.83 266.697 2012.83 271.095 L2012.83 284.752 L2008.54 284.752 L2008.54 258.826 L2012.83 258.826 L2012.83 262.854 Q2014.17 260.493 2016.32 259.359 Q2018.47 258.201 2021.55 258.201 Q2021.99 258.201 2022.53 258.271 Q2023.06 258.317 2023.71 258.433 L2023.73 262.808 Z\" fill=\"#000000\" fill-rule=\"evenodd\" fill-opacity=\"1\" /><path clip-path=\"url(#clip320)\" d=\"M 0 0 M2053.31 261.812 Q2049.89 261.812 2047.9 264.498 Q2045.91 267.16 2045.91 271.812 Q2045.91 276.465 2047.87 279.15 Q2049.86 281.812 2053.31 281.812 Q2056.72 281.812 2058.71 279.127 Q2060.7 276.442 2060.7 271.812 Q2060.7 267.206 2058.71 264.521 Q2056.72 261.812 2053.31 261.812 M2053.31 258.201 Q2058.87 258.201 2062.04 261.812 Q2065.21 265.424 2065.21 271.812 Q2065.21 278.178 2062.04 281.812 Q2058.87 285.423 2053.31 285.423 Q2047.73 285.423 2044.56 281.812 Q2041.41 278.178 2041.41 271.812 Q2041.41 265.424 2044.56 261.812 Q2047.73 258.201 2053.31 258.201 Z\" fill=\"#000000\" fill-rule=\"evenodd\" fill-opacity=\"1\" /><path clip-path=\"url(#clip320)\" d=\"M 0 0 M2082.8 248.734 L2082.8 252.275 L2078.73 252.275 Q2076.44 252.275 2075.53 253.201 Q2074.65 254.127 2074.65 256.535 L2074.65 258.826 L2081.67 258.826 L2081.67 262.137 L2074.65 262.137 L2074.65 284.752 L2070.37 284.752 L2070.37 262.137 L2066.3 262.137 L2066.3 258.826 L2070.37 258.826 L2070.37 257.021 Q2070.37 252.692 2072.39 250.725 Q2074.4 248.734 2078.78 248.734 L2082.8 248.734 Z\" fill=\"#000000\" fill-rule=\"evenodd\" fill-opacity=\"1\" /><path clip-path=\"url(#clip320)\" d=\"M 0 0 M2099.28 258.826 L2103.8 258.826 L2111.9 280.585 L2120 258.826 L2124.52 258.826 L2114.79 284.752 L2109.01 284.752 L2099.28 258.826 Z\" fill=\"#000000\" fill-rule=\"evenodd\" fill-opacity=\"1\" /><path clip-path=\"url(#clip320)\" d=\"M 0 0 M2140.77 271.72 Q2135.6 271.72 2133.61 272.9 Q2131.62 274.081 2131.62 276.928 Q2131.62 279.197 2133.1 280.539 Q2134.61 281.859 2137.18 281.859 Q2140.72 281.859 2142.85 279.359 Q2145 276.836 2145 272.669 L2145 271.72 L2140.77 271.72 M2149.26 269.961 L2149.26 284.752 L2145 284.752 L2145 280.817 Q2143.54 283.178 2141.37 284.312 Q2139.19 285.423 2136.04 285.423 Q2132.06 285.423 2129.7 283.201 Q2127.36 280.956 2127.36 277.206 Q2127.36 272.831 2130.28 270.609 Q2133.22 268.386 2139.03 268.386 L2145 268.386 L2145 267.97 Q2145 265.03 2143.06 263.433 Q2141.14 261.812 2137.64 261.812 Q2135.42 261.812 2133.31 262.345 Q2131.21 262.877 2129.26 263.942 L2129.26 260.007 Q2131.6 259.104 2133.8 258.664 Q2136 258.201 2138.08 258.201 Q2143.71 258.201 2146.48 261.118 Q2149.26 264.035 2149.26 269.961 Z\" fill=\"#000000\" fill-rule=\"evenodd\" fill-opacity=\"1\" /><path clip-path=\"url(#clip320)\" d=\"M 0 0 M2153.73 248.734 L2157.99 248.734 L2157.99 284.752 L2153.73 284.752 L2153.73 248.734 Z\" fill=\"#000000\" fill-rule=\"evenodd\" fill-opacity=\"1\" /><path clip-path=\"url(#clip320)\" d=\"M 0 0 M2162.02 274.521 L2162.02 258.826 L2166.27 258.826 L2166.27 274.359 Q2166.27 278.039 2167.71 279.891 Q2169.15 281.72 2172.02 281.72 Q2175.46 281.72 2177.46 279.521 Q2179.47 277.322 2179.47 273.525 L2179.47 258.826 L2183.73 258.826 L2183.73 284.752 L2179.47 284.752 L2179.47 280.771 Q2177.92 283.132 2175.86 284.289 Q2173.82 285.423 2171.11 285.423 Q2166.65 285.423 2164.33 282.646 Q2162.02 279.868 2162.02 274.521 M2172.73 258.201 L2172.73 258.201 Z\" fill=\"#000000\" fill-rule=\"evenodd\" fill-opacity=\"1\" /><path clip-path=\"url(#clip320)\" d=\"M 0 0 M2210.37 270.724 L2210.37 272.808 L2190.79 272.808 Q2191.07 277.206 2193.43 279.521 Q2195.81 281.812 2200.05 281.812 Q2202.5 281.812 2204.79 281.21 Q2207.11 280.609 2209.38 279.405 L2209.38 283.433 Q2207.08 284.405 2204.68 284.914 Q2202.27 285.423 2199.79 285.423 Q2193.59 285.423 2189.96 281.812 Q2186.34 278.201 2186.34 272.044 Q2186.34 265.678 2189.77 261.951 Q2193.22 258.201 2199.05 258.201 Q2204.28 258.201 2207.32 261.581 Q2210.37 264.937 2210.37 270.724 M2206.11 269.474 Q2206.07 265.979 2204.14 263.896 Q2202.25 261.812 2199.1 261.812 Q2195.53 261.812 2193.38 263.826 Q2191.25 265.84 2190.93 269.498 L2206.11 269.474 Z\" fill=\"#000000\" fill-rule=\"evenodd\" fill-opacity=\"1\" /><path clip-path=\"url(#clip320)\" d=\"M 0 0 M2231.37 259.59 L2231.37 263.618 Q2229.56 262.692 2227.62 262.229 Q2225.67 261.766 2223.59 261.766 Q2220.42 261.766 2218.82 262.738 Q2217.25 263.711 2217.25 265.655 Q2217.25 267.136 2218.38 267.993 Q2219.52 268.826 2222.94 269.59 L2224.4 269.914 Q2228.94 270.886 2230.83 272.669 Q2232.76 274.428 2232.76 277.599 Q2232.76 281.21 2229.89 283.317 Q2227.04 285.423 2222.04 285.423 Q2219.96 285.423 2217.69 285.007 Q2215.44 284.613 2212.94 283.803 L2212.94 279.405 Q2215.3 280.632 2217.59 281.257 Q2219.89 281.859 2222.13 281.859 Q2225.14 281.859 2226.76 280.84 Q2228.38 279.798 2228.38 277.923 Q2228.38 276.187 2227.2 275.261 Q2226.04 274.336 2222.08 273.479 L2220.6 273.132 Q2216.64 272.298 2214.89 270.586 Q2213.13 268.849 2213.13 265.84 Q2213.13 262.183 2215.72 260.192 Q2218.31 258.201 2223.08 258.201 Q2225.44 258.201 2227.52 258.549 Q2229.61 258.896 2231.37 259.59 Z\" fill=\"#000000\" fill-rule=\"evenodd\" fill-opacity=\"1\" /></svg>\n"
      ]
     },
     "execution_count": 370,
     "metadata": {},
     "output_type": "execute_result"
    }
   ],
   "source": [
    "using Plots\n",
    "using StatsBase\n",
    "\n",
    "h = fit(Histogram,Ahaki,1:N:1)\n",
    "\n",
    "plot(h, title = \"my histogram\", label = \"number of values\")"
   ]
  },
  {
   "cell_type": "code",
   "execution_count": null,
   "metadata": {},
   "outputs": [],
   "source": []
  }
 ],
 "metadata": {
  "kernelspec": {
   "display_name": "Julia 1.0.5",
   "language": "julia",
   "name": "julia-1.0"
  },
  "language_info": {
   "file_extension": ".jl",
   "mimetype": "application/julia",
   "name": "julia",
   "version": "1.0.5"
  }
 },
 "nbformat": 4,
 "nbformat_minor": 4
}
