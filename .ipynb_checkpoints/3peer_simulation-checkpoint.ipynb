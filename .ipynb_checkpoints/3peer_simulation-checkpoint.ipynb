{
 "cells": [
  {
   "cell_type": "markdown",
   "metadata": {},
   "source": [
    "## キューを生成するためのパッケージ"
   ]
  },
  {
   "cell_type": "code",
   "execution_count": 4,
   "metadata": {},
   "outputs": [
    {
     "name": "stdout",
     "output_type": "stream",
     "text": [
      "\u001b[32m\u001b[1m  Updating\u001b[22m\u001b[39m registry at `~/.julia/registries/General`\n",
      "\u001b[32m\u001b[1m  Updating\u001b[22m\u001b[39m git-repo `https://github.com/JuliaRegistries/General.git`\n",
      "\u001b[2K\u001b[?25h[1mFetching:\u001b[22m\u001b[39m [========================================>]  100.0 %.0 %\u001b[36m\u001b[1mFetching:\u001b[22m\u001b[39m [=======>                                 ]  17.0 %                         ]  36.7 %=======================>                 ]  56.6 %76.2 %\u001b[36m\u001b[1mFetching:\u001b[22m\u001b[39m [===============================>         ]  76.7 %\u001b[36m\u001b[1mFetching:\u001b[22m\u001b[39m [======================================>  ]  94.4 %\u001b[32m\u001b[1m  Updating\u001b[22m\u001b[39m git-repo `https://github.com/JuliaCollections/DataStructures.jl`\n",
      "\u001b[?25l\u001b[2K\u001b[?25h\u001b[32m\u001b[1m Resolving\u001b[22m\u001b[39m package versions...\n",
      "\u001b[32m\u001b[1m  Updating\u001b[22m\u001b[39m `~/.julia/environments/v1.0/Project.toml`\n",
      "\u001b[90m [no changes]\u001b[39m\n",
      "\u001b[32m\u001b[1m  Updating\u001b[22m\u001b[39m `~/.julia/environments/v1.0/Manifest.toml`\n",
      "\u001b[90m [no changes]\u001b[39m\n"
     ]
    },
    {
     "name": "stderr",
     "output_type": "stream",
     "text": [
      "┌ Info: Recompiling stale cache file /home/tachima/.julia/compiled/v1.0/DataStructures/xKiwJ.ji for DataStructures [864edb3b-99cc-5e75-8d2d-829cb0a9cfe8]\n",
      "└ @ Base loading.jl:1190\n"
     ]
    }
   ],
   "source": [
    "using Pkg\n",
    "Pkg.add(PackageSpec(url=\"https://github.com/JuliaCollections/DataStructures.jl\"))\n",
    "using DataStructures"
   ]
  },
  {
   "cell_type": "code",
   "execution_count": 260,
   "metadata": {},
   "outputs": [
    {
     "data": {
      "text/plain": [
       "Queue{Int64}(Deque [[1]])"
      ]
     },
     "execution_count": 260,
     "metadata": {},
     "output_type": "execute_result"
    }
   ],
   "source": [
    "q = Queue{Int}()\n",
    "enqueue!(q, 1)"
   ]
  },
  {
   "cell_type": "markdown",
   "metadata": {},
   "source": [
    "## 空確認"
   ]
  },
  {
   "cell_type": "code",
   "execution_count": 33,
   "metadata": {},
   "outputs": [
    {
     "data": {
      "text/plain": [
       "false"
      ]
     },
     "execution_count": 33,
     "metadata": {},
     "output_type": "execute_result"
    }
   ],
   "source": [
    "isempty(q)"
   ]
  },
  {
   "cell_type": "markdown",
   "metadata": {},
   "source": [
    "## 指数乱数を生成する関数。t:指数分布の平均値、r:一様乱数"
   ]
  },
  {
   "cell_type": "code",
   "execution_count": 141,
   "metadata": {},
   "outputs": [
    {
     "data": {
      "text/plain": [
       "exran (generic function with 1 method)"
      ]
     },
     "execution_count": 141,
     "metadata": {},
     "output_type": "execute_result"
    }
   ],
   "source": [
    "exran(t,r)= 1 / t * -log(1.0-r)"
   ]
  },
  {
   "cell_type": "markdown",
   "metadata": {},
   "source": [
    "## パラメータ設定"
   ]
  },
  {
   "cell_type": "code",
   "execution_count": 427,
   "metadata": {},
   "outputs": [
    {
     "data": {
      "text/plain": [
       "100.0"
      ]
     },
     "execution_count": 427,
     "metadata": {},
     "output_type": "execute_result"
    }
   ],
   "source": [
    "mu1 = 1/10\n",
    "mu2 = 1/10\n",
    "mu3 = 1/10\n",
    "lambda1 = 1/0.01\n",
    "lambda2 = 1/0.01\n",
    "lambda3 = 1/0.01"
   ]
  },
  {
   "cell_type": "code",
   "execution_count": 428,
   "metadata": {},
   "outputs": [
    {
     "data": {
      "text/plain": [
       "1"
      ]
     },
     "execution_count": 428,
     "metadata": {},
     "output_type": "execute_result"
    }
   ],
   "source": [
    "# マイニングにかかる時間\n",
    "A = 1\n",
    "B = 1\n",
    "C = 1\n",
    "\n",
    "# 通知時間\n",
    "delayA_B = 1\n",
    "delayA_C = 1\n",
    "delayB_A = 1\n",
    "delayB_C = 1\n",
    "delayC_A = 1\n",
    "delayC_B = 1"
   ]
  },
  {
   "cell_type": "code",
   "execution_count": null,
   "metadata": {},
   "outputs": [],
   "source": []
  },
  {
   "cell_type": "markdown",
   "metadata": {},
   "source": [
    "## 最小のインデックスを探すやつ"
   ]
  },
  {
   "cell_type": "code",
   "execution_count": 144,
   "metadata": {},
   "outputs": [
    {
     "data": {
      "text/plain": [
       "1-element Array{Int64,1}:\n",
       " 4"
      ]
     },
     "execution_count": 144,
     "metadata": {},
     "output_type": "execute_result"
    }
   ],
   "source": [
    "a = [2,3,4,1,6]\n",
    "findall(isequal(minimum(a)),a)"
   ]
  },
  {
   "cell_type": "markdown",
   "metadata": {},
   "source": [
    "## 指数乱数を発生させて、最も小さい値のイベントが最初に起こるとする(queueを使用)"
   ]
  },
  {
   "cell_type": "code",
   "execution_count": 433,
   "metadata": {},
   "outputs": [],
   "source": [
    "#sum = 0\n",
    "#for i in 1:100\n",
    "\n",
    "#ABCそれぞれのブロック数を管理する変数\n",
    "    blkA = 0\n",
    "    blkB = 0\n",
    "    blkC = 0\n",
    "    generateA = 0\n",
    "    generateB = 0\n",
    "    generateC = 0\n",
    "#通知としてたまっていくキュー\n",
    "    queueAB = Queue{Int}()\n",
    "    queueAC = Queue{Int}()\n",
    "    queueBA = Queue{Int}()\n",
    "    queueBC = Queue{Int}()\n",
    "    queueCA = Queue{Int}()\n",
    "    queueCB = Queue{Int}()\n",
    "#共通して持っているブロックの数\n",
    "    AB = 0\n",
    "    BC = 0\n",
    "    CA = 0\n",
    "\n",
    "    count = 0\n",
    "    haki = 0\n",
    "    time = [0]\n",
    "\n",
    "    while time <[1440]\n",
    "        count += 1\n",
    "        delayA_B = Inf\n",
    "        delayA_C = Inf\n",
    "        delayB_A = Inf\n",
    "        delayB_C = Inf\n",
    "        delayC_A = Inf\n",
    "        delayC_B = Inf\n",
    "        A = exran(mu1, rand())\n",
    "        B = exran(mu2, rand())\n",
    "        C = exran(mu3, rand())\n",
    "    \n",
    "        if !isempty(queueAB)\n",
    "            delayA_B = exran(lambda2 * length(queueAB), rand())\n",
    "        end\n",
    "    \n",
    "        if !isempty(queueAC)\n",
    "            delayA_C = exran(lambda3 * length(queueAC), rand())\n",
    "        end\n",
    "    \n",
    "        if !isempty(queueBA)\n",
    "            delayB_A = exran(lambda1 * length(queueBA), rand())\n",
    "        end\n",
    "        \n",
    "        if !isempty(queueBC)\n",
    "            delayB_C = exran(lambda3 * length(queueBC), rand())\n",
    "        end\n",
    "    \n",
    "        if !isempty(queueCA)\n",
    "            delayC_A = exran(lambda1 * length(queueCA), rand())\n",
    "        end\n",
    "    \n",
    "        if !isempty(queueCB)\n",
    "            delayC_B = exran(lambda2 * length(queueCB), rand())\n",
    "        end\n",
    "    \n",
    "        events = [A, B, C, delayA_B, delayA_C, delayB_A, delayB_C, delayC_A, delayC_B]\n",
    "        mini = findall(isequal(minimum(events)),events)\n",
    "        time = time + events[mini]\n",
    "        #println(events[mini]+time)\n",
    "        \n",
    "        if mini == [1]\n",
    "            blkA += 1\n",
    "            generateA += 1\n",
    "            enqueue!(queueAB, blkA)\n",
    "            enqueue!(queueAC, blkA)\n",
    "        end\n",
    "    \n",
    "        if mini == [2]\n",
    "            blkB += 1\n",
    "            generateB += 1\n",
    "            enqueue!(queueBA, blkB)\n",
    "            enqueue!(queueBC, blkB)\n",
    "        end\n",
    "    \n",
    "        if mini == [3]\n",
    "            blkC += 1\n",
    "            generateC += 1\n",
    "            enqueue!(queueCA, blkC)\n",
    "            enqueue!(queueCB, blkC)\n",
    "        end\n",
    "    \n",
    "        if mini == [4]\n",
    "            x = dequeue!(queueAB)\n",
    "            if x > blkB\n",
    "                if blkB - AB > 0\n",
    "                    haki += blkB - AB\n",
    "                end\n",
    "                blkB = x\n",
    "                AB = x\n",
    "            end\n",
    "        end\n",
    "    \n",
    "        if mini == [5]\n",
    "            x = dequeue!(queueAC)\n",
    "            if x > blkC\n",
    "                if blkC - CA > 0\n",
    "                    haki += blkC - CA\n",
    "                end\n",
    "                blkC = x\n",
    "                CA = x\n",
    "            end\n",
    "        end\n",
    "    \n",
    "        if mini == [6]\n",
    "            x = dequeue!(queueBA)\n",
    "            if x > blkA\n",
    "                if blkA - AB > 0\n",
    "                    haki += blkA - AB\n",
    "                end\n",
    "                blkA = x\n",
    "                AB = x\n",
    "            end\n",
    "        end\n",
    "    \n",
    "        if mini == [7]\n",
    "            x = dequeue!(queueBC)\n",
    "            if x > blkC\n",
    "                if blkC - BC > 0\n",
    "                    haki += blkC - BC\n",
    "                end\n",
    "                blkC = x\n",
    "                BC = x\n",
    "            end\n",
    "        end\n",
    "    \n",
    "        if mini == [8]\n",
    "            x = dequeue!(queueCA)\n",
    "            if x > blkA\n",
    "                if blkA - CA > 0\n",
    "                    haki += blkA - CA\n",
    "                end\n",
    "                blkA = x\n",
    "                CA = x\n",
    "            end\n",
    "        end\n",
    "    \n",
    "        if mini == [9]\n",
    "            x = dequeue!(queueCB)\n",
    "            if x > blkB\n",
    "                if blkB - BC > 0\n",
    "                    haki += blkB - BC\n",
    "                end\n",
    "                blkB = x\n",
    "                BC = x\n",
    "            end\n",
    "        end\n",
    "    \n",
    "    #println(\"A:\",blkA,\"   B:\",blkB,\"   C:\",blkC,\"   破棄:\",haki,\"   (queueAB,queueAC,queueBA,queueBC,queueCA,queueCB):\",length(queueAB),length(queueAC),length(queueBA),length(queueBC),length(queueCA),length(queueCB))\n",
    "    end\n",
    "    #sum += haki\n",
    "#end\n",
    "#ave = sum / 100\n",
    "#println(ave)"
   ]
  },
  {
   "cell_type": "code",
   "execution_count": 434,
   "metadata": {},
   "outputs": [
    {
     "name": "stdout",
     "output_type": "stream",
     "text": [
      "439438437437"
     ]
    }
   ],
   "source": [
    "all = generateA + generateB + generateC\n",
    "print(all,blkA,blkB,blkC)"
   ]
  },
  {
   "cell_type": "code",
   "execution_count": 404,
   "metadata": {},
   "outputs": [
    {
     "ename": "MethodError",
     "evalue": "MethodError: no method matching Array{Int64,N} where N()\nClosest candidates are:\n  Array{Int64,N} where N(!Matched::UndefInitializer, !Matched::Int64) where T at boot.jl:408\n  Array{Int64,N} where N(!Matched::UndefInitializer, !Matched::Int64, !Matched::Int64) where T at boot.jl:409\n  Array{Int64,N} where N(!Matched::UndefInitializer, !Matched::Int64, !Matched::Int64, !Matched::Int64) where T at boot.jl:410\n  ...",
     "output_type": "error",
     "traceback": [
      "MethodError: no method matching Array{Int64,N} where N()\nClosest candidates are:\n  Array{Int64,N} where N(!Matched::UndefInitializer, !Matched::Int64) where T at boot.jl:408\n  Array{Int64,N} where N(!Matched::UndefInitializer, !Matched::Int64, !Matched::Int64) where T at boot.jl:409\n  Array{Int64,N} where N(!Matched::UndefInitializer, !Matched::Int64, !Matched::Int64, !Matched::Int64) where T at boot.jl:410\n  ...",
      "",
      "Stacktrace:",
      " [1] top-level scope at In[404]:1"
     ]
    }
   ],
   "source": [
    "Q = Array{Int}()\n",
    "\n",
    "enqueue!(Q,4)\n",
    "enqueue!(Q,5)"
   ]
  },
  {
   "cell_type": "code",
   "execution_count": 240,
   "metadata": {},
   "outputs": [
    {
     "data": {
      "text/plain": [
       "Set([10, 2, 3])"
      ]
     },
     "execution_count": 240,
     "metadata": {},
     "output_type": "execute_result"
    }
   ],
   "source": [
    "A = Set((3,2,1))\n",
    "C = Set((9,8,7))\n",
    "B = 10\n",
    "push!(A,B)\n",
    "push!(C,B)\n",
    "x = rand(1:length(A))\n",
    "delete!(A,x)"
   ]
  },
  {
   "cell_type": "markdown",
   "metadata": {},
   "source": [
    "## 指数乱数を発生させて、最も小さい値のイベントが最初に起こるとする(ハッシュテーブルを使用)"
   ]
  },
  {
   "cell_type": "code",
   "execution_count": 426,
   "metadata": {},
   "outputs": [
    {
     "name": "stdout",
     "output_type": "stream",
     "text": [
      "A:1 B:0 C:0 破棄:0 110000Set(Any[1])Set(Any[1])Set(Any[])Set(Any[])Set(Any[])Set(Any[])InfInfInfInfInfInf\n",
      "A:1 B:1 C:0 破棄:0 010000Set(Any[])Set(Any[1])Set(Any[])Set(Any[])Set(Any[])Set(Any[])0.0026398212771458010.010802604582414822InfInfInfInf\n",
      "A:1 B:1 C:1 破棄:0 000000Set(Any[])Set(Any[])Set(Any[])Set(Any[])Set(Any[])Set(Any[])Inf0.0020280215772361847InfInfInfInf\n",
      "A:2 B:1 C:1 破棄:0 110000Set(Any[2])Set(Any[2])Set(Any[])Set(Any[])Set(Any[])Set(Any[])InfInfInfInfInfInf\n",
      "A:2 B:2 C:1 破棄:0 010000Set(Any[])Set(Any[2])Set(Any[])Set(Any[])Set(Any[])Set(Any[])0.0026308538132110040.007846134501644206InfInfInfInf\n",
      "A:2 B:2 C:2 破棄:0 000000Set(Any[])Set(Any[])Set(Any[])Set(Any[])Set(Any[])Set(Any[])Inf0.010165953043196601InfInfInfInf\n",
      "A:2 B:3 C:2 破棄:0 001100Set(Any[])Set(Any[])Set(Any[3])Set(Any[3])Set(Any[])Set(Any[])InfInfInfInfInfInf\n",
      "A:3 B:3 C:2 破棄:0 000100Set(Any[])Set(Any[])Set(Any[])Set(Any[3])Set(Any[])Set(Any[])InfInf0.00054767305792876630.0046480410962296045InfInf\n",
      "A:3 B:3 C:3 破棄:0 000000Set(Any[])Set(Any[])Set(Any[])Set(Any[])Set(Any[])Set(Any[])InfInfInf0.0005469144812195667InfInf\n",
      "A:3 B:4 C:3 破棄:0 001100Set(Any[])Set(Any[])Set(Any[4])Set(Any[4])Set(Any[])Set(Any[])InfInfInfInfInfInf\n",
      "A:3 B:4 C:4 破棄:0 001000Set(Any[])Set(Any[])Set(Any[4])Set(Any[])Set(Any[])Set(Any[])InfInf0.0111876343772675020.008828661644317122InfInf\n",
      "A:4 B:4 C:4 破棄:0 000000Set(Any[])Set(Any[])Set(Any[])Set(Any[])Set(Any[])Set(Any[])InfInf0.005408052350618002InfInfInf\n",
      "A:4 B:4 C:5 破棄:0 000011Set(Any[])Set(Any[])Set(Any[])Set(Any[])Set(Any[5])Set(Any[5])InfInfInfInfInfInf\n",
      "A:4 B:5 C:5 破棄:0 000010Set(Any[])Set(Any[])Set(Any[])Set(Any[])Set(Any[5])Set(Any[])InfInfInfInf0.012086049055743680.008323763829431355\n",
      "A:5 B:5 C:5 破棄:0 000000Set(Any[])Set(Any[])Set(Any[])Set(Any[])Set(Any[])Set(Any[])InfInfInfInf0.012554355946277143Inf\n",
      "A:5 B:6 C:5 破棄:0 001100Set(Any[])Set(Any[])Set(Any[6])Set(Any[6])Set(Any[])Set(Any[])InfInfInfInfInfInf\n",
      "A:5 B:6 C:6 破棄:0 001000Set(Any[])Set(Any[])Set(Any[6])Set(Any[])Set(Any[])Set(Any[])InfInf0.0100121212586555180.003757300994873708InfInf\n",
      "A:6 B:6 C:6 破棄:0 000000Set(Any[])Set(Any[])Set(Any[])Set(Any[])Set(Any[])Set(Any[])InfInf0.011929490475527486InfInfInf\n",
      "A:7 B:6 C:6 破棄:0 110000Set(Any[7])Set(Any[7])Set(Any[])Set(Any[])Set(Any[])Set(Any[])InfInfInfInfInfInf\n",
      "A:7 B:6 C:7 破棄:0 100000Set(Any[7])Set(Any[])Set(Any[])Set(Any[])Set(Any[])Set(Any[])0.026890396493888170.006219381663008049InfInfInfInf\n",
      "A:7 B:7 C:7 破棄:0 000000Set(Any[])Set(Any[])Set(Any[])Set(Any[])Set(Any[])Set(Any[])0.030680281850706554InfInfInfInfInf\n",
      "A:7 B:7 C:8 破棄:0 000011Set(Any[])Set(Any[])Set(Any[])Set(Any[])Set(Any[8])Set(Any[8])InfInfInfInfInfInf\n",
      "A:7 B:8 C:8 破棄:0 000010Set(Any[])Set(Any[])Set(Any[])Set(Any[])Set(Any[8])Set(Any[])InfInfInfInf0.0040243602018879820.001046773290016146\n",
      "A:8 B:8 C:8 破棄:0 000000Set(Any[])Set(Any[])Set(Any[])Set(Any[])Set(Any[])Set(Any[])InfInfInfInf0.01757680963632124Inf\n",
      "A:9 B:8 C:8 破棄:0 110000Set(Any[9])Set(Any[9])Set(Any[])Set(Any[])Set(Any[])Set(Any[])InfInfInfInfInfInf\n",
      "A:9 B:9 C:8 破棄:0 010000Set(Any[])Set(Any[9])Set(Any[])Set(Any[])Set(Any[])Set(Any[])0.0020777159037477920.007651373274295732InfInfInfInf\n",
      "A:9 B:9 C:9 破棄:0 000000Set(Any[])Set(Any[])Set(Any[])Set(Any[])Set(Any[])Set(Any[])Inf0.0065292040045311596InfInfInfInf\n",
      "A:9 B:10 C:9 破棄:0 001100Set(Any[])Set(Any[])Set(Any[10])Set(Any[10])Set(Any[])Set(Any[])InfInfInfInfInfInf\n",
      "A:10 B:10 C:9 破棄:0 000100Set(Any[])Set(Any[])Set(Any[])Set(Any[10])Set(Any[])Set(Any[])InfInf0.0039153393179784490.007780118260905259InfInf\n",
      "A:10 B:10 C:10 破棄:0 000000Set(Any[])Set(Any[])Set(Any[])Set(Any[])Set(Any[])Set(Any[])InfInfInf0.0008407569661532738InfInf\n",
      "A:10 B:10 C:11 破棄:0 000011Set(Any[])Set(Any[])Set(Any[])Set(Any[])Set(Any[11])Set(Any[11])InfInfInfInfInfInf\n"
     ]
    },
    {
     "ename": "InterruptException",
     "evalue": "InterruptException:",
     "output_type": "error",
     "traceback": [
      "InterruptException:",
      "",
      "Stacktrace:",
      " [1] top-level scope at ./In[426]:146"
     ]
    }
   ],
   "source": [
    "#ABCそれぞれのブロック数を管理する変数\n",
    "blkA = 0\n",
    "blkB = 0\n",
    "blkC = 0\n",
    "generateA = 0\n",
    "generateB = 0\n",
    "generateC = 0\n",
    "#通知としてたまっていくキュー\n",
    "queueAB = Set()\n",
    "queueAC = Set()\n",
    "queueBA = Set()\n",
    "queueBC = Set()\n",
    "queueCA = Set()\n",
    "queueCB = Set()\n",
    "#共通して持っているブロックの数\n",
    "AB = 0\n",
    "BC = 0\n",
    "CA = 0\n",
    "\n",
    "count = 0\n",
    "haki = 0\n",
    "\n",
    "while count < 50\n",
    "    count += 1\n",
    "    delayA_B = Inf\n",
    "    delayA_C = Inf\n",
    "    delayB_A = Inf\n",
    "    delayB_C = Inf\n",
    "    delayC_A = Inf\n",
    "    delayC_B = Inf\n",
    "    A = exran(mu1, rand())\n",
    "    B = exran(mu2, rand())\n",
    "    C = exran(mu3, rand())\n",
    "    \n",
    "    if !isempty(queueAB)\n",
    "        delayA_B = exran(lambda2, rand()) / length(queueAB)\n",
    "    end\n",
    "    \n",
    "    if !isempty(queueAC)\n",
    "        delayA_C = exran(lambda3, rand()) / length(queueAC)\n",
    "    end\n",
    "    \n",
    "    if !isempty(queueBA)\n",
    "        delayB_A = exran(lambda1, rand()) / length(queueBA)\n",
    "    end\n",
    "    \n",
    "    if !isempty(queueBC)\n",
    "        delayB_C = exran(lambda3, rand()) / length(queueBC)\n",
    "    end\n",
    "    \n",
    "    if !isempty(queueCA)\n",
    "        delayC_A = exran(lambda1, rand()) / length(queueCA)\n",
    "    end\n",
    "    \n",
    "    if !isempty(queueCB)\n",
    "        delayC_B = exran(lambda2, rand()) / length(queueCB)\n",
    "    end\n",
    "    \n",
    "    events = [A, B, C, delayA_B, delayA_C, delayB_A, delayB_C, delayC_A, delayC_B]\n",
    "    min = findall(isequal(minimum(events)),events)\n",
    "    \n",
    "    if min == [1]\n",
    "        blkA += 1\n",
    "        generateA += 1\n",
    "        push!(queueAB, blkA)\n",
    "        push!(queueAC, blkA)\n",
    "    end\n",
    "    \n",
    "    if min == [2]\n",
    "        blkB += 1\n",
    "        generateB += 1\n",
    "        push!(queueBA, blkB)\n",
    "        push!(queueBC, blkB)\n",
    "    end\n",
    "    \n",
    "    if min == [3]\n",
    "        blkC += 1\n",
    "        generateC += 1\n",
    "        push!(queueCA, blkC)\n",
    "        push!(queueCB, blkC)\n",
    "    end\n",
    "    \n",
    "    if min == [4]\n",
    "        x = rand(1:10)\n",
    "        while !in(x,queueAB)\n",
    "            x = rand(1:10)\n",
    "        end\n",
    "        delete!(queueAB,x)\n",
    "        if x > blkB\n",
    "            blkB = x\n",
    "            AB = x\n",
    "            if blkB - AB > 0\n",
    "                haki += 1\n",
    "            end\n",
    "        end\n",
    "    end\n",
    "    \n",
    "    if min == [5]\n",
    "        x = rand(1:10)\n",
    "        while !in(x,queueAC)\n",
    "            x = rand(1:10)\n",
    "        end\n",
    "        delete!(queueAC,x)\n",
    "        if x > blkC\n",
    "            blkC = x\n",
    "            CA = x\n",
    "            if blkC - CA > 0\n",
    "                haki += 1\n",
    "            end\n",
    "        end\n",
    "    end\n",
    "    \n",
    "    if min == [6]\n",
    "        x = rand(1:10)\n",
    "        while !in(x,queueBA)\n",
    "            x = rand(1:10)\n",
    "        end\n",
    "        delete!(queueBA,x)\n",
    "        if x > blkA\n",
    "            blkA = x\n",
    "            AB = x\n",
    "            if blkA - AB > 0\n",
    "                haki += 1\n",
    "            end\n",
    "        end\n",
    "    end\n",
    "    \n",
    "    if min == [7]\n",
    "        x = rand(1:10)\n",
    "        while !in(x,queueBC)\n",
    "            x = rand(1:10)\n",
    "        end\n",
    "        delete!(queueBC,x)\n",
    "        if x > blkC\n",
    "            blkC = x\n",
    "            BC = x\n",
    "            if blkC - BC > 0\n",
    "                haki += 1\n",
    "            end\n",
    "        end\n",
    "    end\n",
    "    \n",
    "    if min == [8]\n",
    "        x = rand(1:10)\n",
    "        while !in(x,queueCA)\n",
    "            x = rand(1:10)\n",
    "        end\n",
    "        delete!(queueCA,x)\n",
    "        if x > blkA\n",
    "            blkA = x\n",
    "            CA = x\n",
    "            if blkA - CA > 0\n",
    "                haki += 1\n",
    "            end\n",
    "        end\n",
    "    end\n",
    "    \n",
    "    if min == [9]\n",
    "        x = rand(1:10)\n",
    "        while !in(x,queueCB)\n",
    "            x = rand(1:10)\n",
    "        end\n",
    "        delete!(queueCB,x)\n",
    "        if x > blkB\n",
    "            blkB = x\n",
    "            BC = x\n",
    "            if blkB - BC > 0\n",
    "                haki += 1\n",
    "            end\n",
    "        end\n",
    "    end\n",
    "    \n",
    "    println(\"A:\",blkA,\" B:\",blkB,\" C:\",blkC,\" 破棄:\",haki,\" \",length(queueAB),length(queueAC),length(queueBA),length(queueBC),length(queueCA),length(queueCB),queueAB,queueAC,queueBA,queueBC,queueCA,queueCB,delayA_B,delayA_C,delayB_A,delayB_C,delayC_A,delayC_B)\n",
    "end"
   ]
  },
  {
   "cell_type": "code",
   "execution_count": 425,
   "metadata": {},
   "outputs": [
    {
     "name": "stdout",
     "output_type": "stream",
     "text": [
      "[1, 2]\n"
     ]
    }
   ],
   "source": [
    "T = Vector([1,2])\n",
    "println(T)"
   ]
  },
  {
   "cell_type": "code",
   "execution_count": null,
   "metadata": {},
   "outputs": [],
   "source": []
  }
 ],
 "metadata": {
  "kernelspec": {
   "display_name": "Julia 1.0.5",
   "language": "julia",
   "name": "julia-1.0"
  },
  "language_info": {
   "file_extension": ".jl",
   "mimetype": "application/julia",
   "name": "julia",
   "version": "1.0.5"
  }
 },
 "nbformat": 4,
 "nbformat_minor": 4
}
