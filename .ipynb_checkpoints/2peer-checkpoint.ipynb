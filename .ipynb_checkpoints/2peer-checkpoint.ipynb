{
 "cells": [
  {
   "cell_type": "code",
   "execution_count": 129,
   "metadata": {},
   "outputs": [],
   "source": [
    "using Random\n",
    "using Distributions"
   ]
  },
  {
   "cell_type": "code",
   "execution_count": 205,
   "metadata": {},
   "outputs": [],
   "source": [
    "abstract type AbstractBlk end\n",
    "\n",
    "struct Minor\n",
    "    label::String\n",
    "end\n",
    "\n",
    "struct Genesis <: AbstractBlk end\n",
    "\n",
    "struct Blk <: AbstractBlk\n",
    "    index::Int\n",
    "    minor::Minor\n",
    "    prev::AbstractBlk\n",
    "end\n",
    "\n",
    "function Base.show(io::IO, b::Genesis)\n",
    "    Base.show(io, 0)\n",
    "end\n",
    "\n",
    "function Base.show(io::IO, b::Blk)\n",
    "    Base.show(io, (b.index, b.minor.label))\n",
    "end\n",
    "\n",
    "struct Queue\n",
    "    sender::Minor\n",
    "    receiver::Minor\n",
    "    elem::Vector{AbstractBlk}\n",
    "    \n",
    "    Queue(sender, receiver) = new(sender, receiver, Vector{AbstractBlk}())\n",
    "end"
   ]
  },
  {
   "cell_type": "code",
   "execution_count": 206,
   "metadata": {},
   "outputs": [
    {
     "data": {
      "text/plain": [
       "getid (generic function with 2 methods)"
      ]
     },
     "execution_count": 206,
     "metadata": {},
     "output_type": "execute_result"
    }
   ],
   "source": [
    "getid(b::Blk) = b.index\n",
    "getid(b::Genesis) = 0"
   ]
  },
  {
   "cell_type": "code",
   "execution_count": 207,
   "metadata": {},
   "outputs": [
    {
     "data": {
      "text/plain": [
       "getlength (generic function with 1 method)"
      ]
     },
     "execution_count": 207,
     "metadata": {},
     "output_type": "execute_result"
    }
   ],
   "source": [
    "getreceiver(q::Queue) = q.receiver\n",
    "\n",
    "function receiveblk!(q::Queue, i::Int)::AbstractBlk\n",
    "    b = q.elem[i]\n",
    "    deleteat!(q.elem, i)\n",
    "    b\n",
    "end\n",
    "\n",
    "getlength(q::Queue) = length(q.elem)"
   ]
  },
  {
   "cell_type": "code",
   "execution_count": 208,
   "metadata": {},
   "outputs": [
    {
     "data": {
      "text/plain": [
       "sendblk! (generic function with 1 method)"
      ]
     },
     "execution_count": 208,
     "metadata": {},
     "output_type": "execute_result"
    }
   ],
   "source": [
    "function sendblk!(q::Queue, b::AbstractBlk)\n",
    "    push!(q.elem, b)\n",
    "end"
   ]
  },
  {
   "cell_type": "code",
   "execution_count": 209,
   "metadata": {},
   "outputs": [
    {
     "data": {
      "text/plain": [
       "event_genBlk! (generic function with 1 method)"
      ]
     },
     "execution_count": 209,
     "metadata": {},
     "output_type": "execute_result"
    }
   ],
   "source": [
    "function event_genBlk!(x::Minor, workblk::Dict{Minor,AbstractBlk}, queue::Vector{Queue}, blocks::Vector{Blk})\n",
    "    prev = workblk[x]\n",
    "    id = getid(prev) + 1\n",
    "    b = Blk(id, x, prev)\n",
    "    push!(blocks, b)\n",
    "    workblk[x] = b\n",
    "    for q = queue\n",
    "        sendblk!(q, b)\n",
    "    end\n",
    "    b\n",
    "end"
   ]
  },
  {
   "cell_type": "code",
   "execution_count": 210,
   "metadata": {},
   "outputs": [
    {
     "data": {
      "text/plain": [
       "event_arrivalBlk! (generic function with 1 method)"
      ]
     },
     "execution_count": 210,
     "metadata": {},
     "output_type": "execute_result"
    }
   ],
   "source": [
    "function event_arrivalBlk!(q::Queue, i::Int, workblk::Dict{Minor,AbstractBlk})\n",
    "    x = getreceiver(q)\n",
    "    b = receiveblk!(q, i)\n",
    "    prev = workblk[x]\n",
    "    if getid(prev) < getid(b)\n",
    "        workblk[x] = b\n",
    "    end\n",
    "    b\n",
    "end"
   ]
  },
  {
   "cell_type": "code",
   "execution_count": 211,
   "metadata": {},
   "outputs": [
    {
     "data": {
      "text/plain": [
       "rates (generic function with 1 method)"
      ]
     },
     "execution_count": 211,
     "metadata": {},
     "output_type": "execute_result"
    }
   ],
   "source": [
    "function rates(u1, u2, queue, lambda, mu)\n",
    "#    u1 = sort(collect(keys(lambda)), by=x->x.label)\n",
    "    r1 = [lambda[x] for x = u1]\n",
    "#    u2 = sort(collect(keys(mu)), by=x->(x[1].label, x[2].label))\n",
    "    r2 = [mu[x] * getlength(queue[x]) for x = u2]\n",
    "    return r1, r2\n",
    "end"
   ]
  },
  {
   "cell_type": "code",
   "execution_count": 212,
   "metadata": {},
   "outputs": [
    {
     "data": {
      "text/plain": [
       "Minor(\"B\")"
      ]
     },
     "execution_count": 212,
     "metadata": {},
     "output_type": "execute_result"
    }
   ],
   "source": [
    "a = Minor(\"A\")\n",
    "b = Minor(\"B\")"
   ]
  },
  {
   "cell_type": "code",
   "execution_count": 372,
   "metadata": {},
   "outputs": [
    {
     "data": {
      "text/plain": [
       "Dict{Tuple{Minor,Minor},Float64} with 2 entries:\n",
       "  (Minor(\"B\"), Minor(\"A\")) => 10.0\n",
       "  (Minor(\"A\"), Minor(\"B\")) => 10.0"
      ]
     },
     "execution_count": 372,
     "metadata": {},
     "output_type": "execute_result"
    }
   ],
   "source": [
    "lambda = Dict(\n",
    "    a => 1/10,\n",
    "    b => 1/10,\n",
    ")\n",
    "\n",
    "mu = Dict(\n",
    "    (a,b) => 1/0.1,\n",
    "    (b,a) => 1/0.1\n",
    ")"
   ]
  },
  {
   "cell_type": "code",
   "execution_count": 373,
   "metadata": {},
   "outputs": [],
   "source": [
    "begin\n",
    "    blocks = Vector{Blk}()\n",
    "\n",
    "    events = 0\n",
    "    u1 = sort(collect(keys(lambda)), by=x->x.label)\n",
    "    u2 = sort(collect(keys(mu)), by=x->(x[1].label, x[2].label))\n",
    "    workblk = Dict{Minor,AbstractBlk}(a=>Genesis(), b=>Genesis())\n",
    "    qAtoB = Queue(a, b)\n",
    "    qBtoA = Queue(b, a)\n",
    "    queue = Dict(\n",
    "        (a,b)=>qAtoB,\n",
    "        (b,a)=>qBtoA,\n",
    "    )\n",
    "    input = Dict(\n",
    "        a=>[qAtoB],\n",
    "        b=>[qBtoA],\n",
    "    )\n",
    "\n",
    "    rng = MersenneTwister(9999)\n",
    "    ctime = 0.0\n",
    "    while ctime < 60*24*30 # 24 hours\n",
    "        r1, r2 = rates(u1, u2, queue, lambda, mu)\n",
    "        etime1 = [(r != 0) ? rand(rng, Exponential(1/r)) : Inf for r = r1]\n",
    "        etime2 = [(r != 0) ? rand(rng, Exponential(1/r)) : Inf for r = r2]\n",
    "        m1, i1 = findmin(etime1)\n",
    "        m2, i2 = findmin(etime2)\n",
    "        if m1 < m2\n",
    "            ctime += m1\n",
    "            event_genBlk!(u1[i1], workblk, input[u1[i1]], blocks)\n",
    "        else\n",
    "            ctime += m2\n",
    "            v = rand(rng, DiscreteUniform(1,getlength(queue[u2[i2]])))\n",
    "            event_arrivalBlk!(queue[u2[i2]], v, workblk)\n",
    "        end\n",
    "        events += 1\n",
    "    end\n",
    "end"
   ]
  },
  {
   "cell_type": "code",
   "execution_count": 374,
   "metadata": {},
   "outputs": [
    {
     "name": "stdout",
     "output_type": "stream",
     "text": [
      "  0.000001 seconds (3 allocations: 144 bytes)\n"
     ]
    },
    {
     "data": {
      "text/plain": [
       "Dict{Minor,AbstractBlk} with 2 entries:\n",
       "  Minor(\"A\") => (8454, \"B\")\n",
       "  Minor(\"B\") => (8455, \"B\")"
      ]
     },
     "execution_count": 374,
     "metadata": {},
     "output_type": "execute_result"
    }
   ],
   "source": [
    "@time workblk"
   ]
  },
  {
   "cell_type": "code",
   "execution_count": 375,
   "metadata": {},
   "outputs": [
    {
     "data": {
      "text/plain": [
       "(8454, \"B\")"
      ]
     },
     "execution_count": 375,
     "metadata": {},
     "output_type": "execute_result"
    }
   ],
   "source": [
    "workblk[b].prev"
   ]
  },
  {
   "cell_type": "code",
   "execution_count": 376,
   "metadata": {},
   "outputs": [
    {
     "data": {
      "text/plain": [
       "(8453, \"A\")"
      ]
     },
     "execution_count": 376,
     "metadata": {},
     "output_type": "execute_result"
    }
   ],
   "source": [
    "workblk[a].prev"
   ]
  },
  {
   "cell_type": "code",
   "execution_count": 377,
   "metadata": {},
   "outputs": [],
   "source": [
    "blk = workblk[a]\n",
    "chains = []\n",
    "push!(chains, blk)\n",
    "while blk != Genesis()\n",
    "    blk = blk.prev\n",
    "    push!(chains, blk)\n",
    "end"
   ]
  },
  {
   "cell_type": "code",
   "execution_count": 378,
   "metadata": {},
   "outputs": [
    {
     "data": {
      "text/plain": [
       "8455-element Array{Any,1}:\n",
       " (8454, \"B\")\n",
       " (8453, \"A\")\n",
       " (8452, \"B\")\n",
       " (8451, \"B\")\n",
       " (8450, \"A\")\n",
       " (8449, \"B\")\n",
       " (8448, \"A\")\n",
       " (8447, \"B\")\n",
       " (8446, \"B\")\n",
       " (8445, \"A\")\n",
       " (8444, \"A\")\n",
       " (8443, \"B\")\n",
       " (8442, \"B\")\n",
       " ⋮          \n",
       " (11, \"B\")  \n",
       " (10, \"A\")  \n",
       " (9, \"B\")   \n",
       " (8, \"A\")   \n",
       " (7, \"A\")   \n",
       " (6, \"B\")   \n",
       " (5, \"A\")   \n",
       " (4, \"B\")   \n",
       " (3, \"A\")   \n",
       " (2, \"A\")   \n",
       " (1, \"A\")   \n",
       " 0          "
      ]
     },
     "execution_count": 378,
     "metadata": {},
     "output_type": "execute_result"
    }
   ],
   "source": [
    "chains"
   ]
  },
  {
   "cell_type": "code",
   "execution_count": 379,
   "metadata": {},
   "outputs": [
    {
     "data": {
      "text/plain": [
       "8557-element Array{Blk,1}:\n",
       " (1, \"A\")   \n",
       " (2, \"A\")   \n",
       " (3, \"A\")   \n",
       " (4, \"B\")   \n",
       " (5, \"A\")   \n",
       " (6, \"B\")   \n",
       " (7, \"A\")   \n",
       " (8, \"A\")   \n",
       " (9, \"B\")   \n",
       " (10, \"A\")  \n",
       " (11, \"B\")  \n",
       " (12, \"B\")  \n",
       " (13, \"A\")  \n",
       " ⋮          \n",
       " (8444, \"A\")\n",
       " (8445, \"A\")\n",
       " (8446, \"B\")\n",
       " (8447, \"B\")\n",
       " (8448, \"A\")\n",
       " (8449, \"B\")\n",
       " (8450, \"A\")\n",
       " (8451, \"B\")\n",
       " (8452, \"B\")\n",
       " (8453, \"A\")\n",
       " (8454, \"B\")\n",
       " (8455, \"B\")"
      ]
     },
     "execution_count": 379,
     "metadata": {},
     "output_type": "execute_result"
    }
   ],
   "source": [
    "blocks"
   ]
  },
  {
   "cell_type": "code",
   "execution_count": 380,
   "metadata": {},
   "outputs": [
    {
     "data": {
      "text/plain": [
       "8455-element Array{Any,1}:\n",
       " 0          \n",
       " (1, \"A\")   \n",
       " (2, \"A\")   \n",
       " (3, \"A\")   \n",
       " (4, \"B\")   \n",
       " (5, \"A\")   \n",
       " (6, \"B\")   \n",
       " (7, \"A\")   \n",
       " (8, \"A\")   \n",
       " (9, \"B\")   \n",
       " (10, \"A\")  \n",
       " (11, \"B\")  \n",
       " (12, \"B\")  \n",
       " ⋮          \n",
       " (8443, \"B\")\n",
       " (8444, \"A\")\n",
       " (8445, \"A\")\n",
       " (8446, \"B\")\n",
       " (8447, \"B\")\n",
       " (8448, \"A\")\n",
       " (8449, \"B\")\n",
       " (8450, \"A\")\n",
       " (8451, \"B\")\n",
       " (8452, \"B\")\n",
       " (8453, \"A\")\n",
       " (8454, \"B\")"
      ]
     },
     "execution_count": 380,
     "metadata": {},
     "output_type": "execute_result"
    }
   ],
   "source": [
    "invchains = reverse(chains)"
   ]
  },
  {
   "cell_type": "code",
   "execution_count": 381,
   "metadata": {},
   "outputs": [],
   "source": [
    "open(\"chains.txt\",\"w\") do out #ファイルに書く\n",
    "    print(out,invchains)\n",
    "end"
   ]
  },
  {
   "cell_type": "code",
   "execution_count": 382,
   "metadata": {},
   "outputs": [],
   "source": [
    "open(\"blocks.txt\",\"w\") do out #ファイルに書く\n",
    "    print(out,blocks)\n",
    "end"
   ]
  },
  {
   "cell_type": "code",
   "execution_count": 383,
   "metadata": {},
   "outputs": [
    {
     "data": {
      "text/plain": [
       "49"
      ]
     },
     "execution_count": 383,
     "metadata": {},
     "output_type": "execute_result"
    }
   ],
   "source": [
    "haki = 0\n",
    "for i in 2:length(invchains)\n",
    "    if invchains[i].minor == Minor(\"B\")\n",
    "        for j in 1:length(blocks)\n",
    "            if (blocks[j].minor == Minor(\"A\")) && (blocks[j].index == invchains[i].index)\n",
    "                haki += 1\n",
    "            end\n",
    "        end\n",
    "    end\n",
    "end\n",
    "haki"
   ]
  },
  {
   "cell_type": "code",
   "execution_count": 384,
   "metadata": {},
   "outputs": [
    {
     "name": "stdout",
     "output_type": "stream",
     "text": [
      "chains:8455   blocks:8557   haki:49"
     ]
    }
   ],
   "source": [
    "print(\"chains:\",length(chains),\"   blocks:\",length(blocks),\"   haki:\",haki)"
   ]
  },
  {
   "cell_type": "markdown",
   "metadata": {},
   "source": []
  }
 ],
 "metadata": {
  "kernelspec": {
   "display_name": "Julia 1.0.5",
   "language": "julia",
   "name": "julia-1.0"
  },
  "language_info": {
   "file_extension": ".jl",
   "mimetype": "application/julia",
   "name": "julia",
   "version": "1.0.5"
  }
 },
 "nbformat": 4,
 "nbformat_minor": 4
}
