{
 "cells": [
  {
   "cell_type": "code",
   "execution_count": 1,
   "metadata": {},
   "outputs": [],
   "source": [
    "using Random\n",
    "using Distributions"
   ]
  },
  {
   "cell_type": "code",
   "execution_count": 2,
   "metadata": {},
   "outputs": [],
   "source": [
    "abstract type AbstractBlk end\n",
    "\n",
    "struct Minor\n",
    "    label::String\n",
    "end\n",
    "\n",
    "struct Genesis <: AbstractBlk end\n",
    "\n",
    "struct Blk <: AbstractBlk\n",
    "    index::Int\n",
    "    minor::Minor\n",
    "    prev::AbstractBlk\n",
    "end\n",
    "\n",
    "function Base.show(io::IO, b::Genesis)\n",
    "    Base.show(io, 0)\n",
    "end\n",
    "\n",
    "function Base.show(io::IO, b::Blk)\n",
    "    Base.show(io, (b.index, b.minor.label))\n",
    "end\n",
    "\n",
    "struct Queue\n",
    "    sender::Minor\n",
    "    receiver::Minor\n",
    "    elem::Vector{AbstractBlk}\n",
    "    \n",
    "    Queue(sender, receiver) = new(sender, receiver, Vector{AbstractBlk}())\n",
    "end"
   ]
  },
  {
   "cell_type": "code",
   "execution_count": 3,
   "metadata": {},
   "outputs": [
    {
     "data": {
      "text/plain": [
       "getid (generic function with 2 methods)"
      ]
     },
     "execution_count": 3,
     "metadata": {},
     "output_type": "execute_result"
    }
   ],
   "source": [
    "getid(b::Blk) = b.index\n",
    "getid(b::Genesis) = 0"
   ]
  },
  {
   "cell_type": "code",
   "execution_count": 4,
   "metadata": {},
   "outputs": [
    {
     "data": {
      "text/plain": [
       "getlength (generic function with 1 method)"
      ]
     },
     "execution_count": 4,
     "metadata": {},
     "output_type": "execute_result"
    }
   ],
   "source": [
    "getreceiver(q::Queue) = q.receiver\n",
    "\n",
    "function receiveblk!(q::Queue, i::Int)::AbstractBlk\n",
    "    b = q.elem[i]\n",
    "    deleteat!(q.elem, i)\n",
    "    b\n",
    "end\n",
    "\n",
    "getlength(q::Queue) = length(q.elem)"
   ]
  },
  {
   "cell_type": "code",
   "execution_count": 5,
   "metadata": {},
   "outputs": [
    {
     "data": {
      "text/plain": [
       "sendblk! (generic function with 1 method)"
      ]
     },
     "execution_count": 5,
     "metadata": {},
     "output_type": "execute_result"
    }
   ],
   "source": [
    "function sendblk!(q::Queue, b::AbstractBlk)\n",
    "    push!(q.elem, b)\n",
    "end"
   ]
  },
  {
   "cell_type": "code",
   "execution_count": 6,
   "metadata": {},
   "outputs": [
    {
     "data": {
      "text/plain": [
       "event_genBlk! (generic function with 1 method)"
      ]
     },
     "execution_count": 6,
     "metadata": {},
     "output_type": "execute_result"
    }
   ],
   "source": [
    "function event_genBlk!(x::Minor, workblk::Dict{Minor,AbstractBlk}, queue::Vector{Queue}, blocks::Vector{Blk})\n",
    "    prev = workblk[x]\n",
    "    id = getid(prev) + 1\n",
    "    b = Blk(id, x, prev)\n",
    "    push!(blocks, b)\n",
    "    workblk[x] = b\n",
    "    for q = queue\n",
    "        sendblk!(q, b)\n",
    "    end\n",
    "    b\n",
    "end"
   ]
  },
  {
   "cell_type": "code",
   "execution_count": 7,
   "metadata": {},
   "outputs": [
    {
     "data": {
      "text/plain": [
       "event_arrivalBlk! (generic function with 1 method)"
      ]
     },
     "execution_count": 7,
     "metadata": {},
     "output_type": "execute_result"
    }
   ],
   "source": [
    "function event_arrivalBlk!(q::Queue, i::Int, workblk::Dict{Minor,AbstractBlk})\n",
    "    x = getreceiver(q)\n",
    "    b = receiveblk!(q, i)\n",
    "    prev = workblk[x]\n",
    "    if getid(prev) < getid(b)\n",
    "        workblk[x] = b\n",
    "    end\n",
    "    b\n",
    "end"
   ]
  },
  {
   "cell_type": "code",
   "execution_count": 8,
   "metadata": {},
   "outputs": [
    {
     "data": {
      "text/plain": [
       "rates (generic function with 1 method)"
      ]
     },
     "execution_count": 8,
     "metadata": {},
     "output_type": "execute_result"
    }
   ],
   "source": [
    "function rates(u1, u2, queue, lambda, mu)\n",
    "#    u1 = sort(collect(keys(lambda)), by=x->x.label)\n",
    "    r1 = [lambda[x] for x = u1]\n",
    "#    u2 = sort(collect(keys(mu)), by=x->(x[1].label, x[2].label))\n",
    "    r2 = [mu[x] * getlength(queue[x]) for x = u2]\n",
    "    return r1, r2\n",
    "end"
   ]
  },
  {
   "cell_type": "code",
   "execution_count": 101,
   "metadata": {},
   "outputs": [
    {
     "data": {
      "text/plain": [
       "Minor(\"C\")"
      ]
     },
     "execution_count": 101,
     "metadata": {},
     "output_type": "execute_result"
    }
   ],
   "source": [
    "a = Minor(\"A\")\n",
    "b = Minor(\"B\")\n",
    "c = Minor(\"C\")"
   ]
  },
  {
   "cell_type": "code",
   "execution_count": 118,
   "metadata": {},
   "outputs": [
    {
     "data": {
      "text/plain": [
       "20"
      ]
     },
     "execution_count": 118,
     "metadata": {},
     "output_type": "execute_result"
    }
   ],
   "source": [
    "lambda = Dict(\n",
    "    a => 1/5,\n",
    "    b => 1/5,\n",
    "    c => 1/10,\n",
    ")\n",
    "\n",
    "mu = Dict(\n",
    "    (a,b) => 1/0.1,\n",
    "    (a,c) => 1/0.1,\n",
    "    (b,a) => 1/0.1,\n",
    "    (b,c) => 1/0.1,\n",
    "    (c,a) => 1/0.1,\n",
    "    (c,b) => 1/0.1,\n",
    ")\n",
    "\n",
    "N = 20"
   ]
  },
  {
   "cell_type": "code",
   "execution_count": 119,
   "metadata": {},
   "outputs": [
    {
     "name": "stdout",
     "output_type": "stream",
     "text": [
      "  8.493643 seconds (31.40 M allocations: 1005.777 MiB, 5.45% gc time)\n"
     ]
    }
   ],
   "source": [
    "rng = MersenneTwister(1234)\n",
    "Aworkblk = []\n",
    "Ablocks = []\n",
    "@time for k in 1:N\n",
    "    blocks = Vector{Blk}()\n",
    "\n",
    "    events = 0\n",
    "    u1 = sort(collect(keys(lambda)), by=x->x.label)\n",
    "    u2 = sort(collect(keys(mu)), by=x->(x[1].label, x[2].label))\n",
    "    workblk = Dict{Minor,AbstractBlk}(a=>Genesis(), b=>Genesis(), c=>Genesis())\n",
    "    qAtoB = Queue(a, b)\n",
    "    qAtoC = Queue(a, c)\n",
    "    qBtoA = Queue(b, a)\n",
    "    qBtoC = Queue(b, c)\n",
    "    qCtoA = Queue(c, a)\n",
    "    qCtoB = Queue(c, b)\n",
    "    queue = Dict(\n",
    "        (a,b)=>qAtoB,\n",
    "        (a,c)=>qAtoC,\n",
    "        (b,a)=>qBtoA,\n",
    "        (b,c)=>qBtoC,\n",
    "        (c,a)=>qCtoA,\n",
    "        (c,b)=>qCtoB,\n",
    "    )\n",
    "    input = Dict(\n",
    "        a=>[qAtoB, qAtoC],\n",
    "        b=>[qBtoA, qBtoC],\n",
    "        c=>[qCtoA, qCtoB],\n",
    "    )\n",
    "\n",
    "    ctime = 0.0\n",
    "    while ctime < 60*24*30 # 24 hours\n",
    "        r1, r2 = rates(u1, u2, queue, lambda, mu)\n",
    "        etime1 = [(r != 0) ? rand(rng, Exponential(1/r)) : Inf for r = r1]\n",
    "        etime2 = [(r != 0) ? rand(rng, Exponential(1/r)) : Inf for r = r2]\n",
    "        m1, i1 = findmin(etime1)\n",
    "        m2, i2 = findmin(etime2)\n",
    "        if m1 < m2\n",
    "            ctime += m1\n",
    "            event_genBlk!(u1[i1], workblk, input[u1[i1]], blocks)\n",
    "        else\n",
    "            ctime += m2\n",
    "            v = rand(rng, DiscreteUniform(1,getlength(queue[u2[i2]])))\n",
    "            event_arrivalBlk!(queue[u2[i2]], v, workblk)\n",
    "        end\n",
    "        events += 1\n",
    "    end\n",
    "    push!(Aworkblk,workblk)\n",
    "    push!(Ablocks,blocks)\n",
    "end"
   ]
  },
  {
   "cell_type": "code",
   "execution_count": 120,
   "metadata": {},
   "outputs": [
    {
     "data": {
      "text/plain": [
       "Dict{Minor,AbstractBlk} with 3 entries:\n",
       "  Minor(\"A\") => (13155, \"B\")\n",
       "  Minor(\"C\") => (13156, \"C\")\n",
       "  Minor(\"B\") => (13155, \"B\")"
      ]
     },
     "execution_count": 120,
     "metadata": {},
     "output_type": "execute_result"
    }
   ],
   "source": [
    "Aworkblk[1]"
   ]
  },
  {
   "cell_type": "code",
   "execution_count": 121,
   "metadata": {},
   "outputs": [],
   "source": [
    "Achains = []\n",
    "for i in 1:N\n",
    "    workblk = Aworkblk[i]\n",
    "    blk = workblk[a]\n",
    "    chains = []\n",
    "    push!(chains, blk)\n",
    "    while blk != Genesis()\n",
    "        blk = blk.prev\n",
    "        push!(chains, blk)\n",
    "    end\n",
    "    push!(Achains,chains)\n",
    "end"
   ]
  },
  {
   "cell_type": "code",
   "execution_count": 122,
   "metadata": {},
   "outputs": [],
   "source": [
    "Ainvchains = []\n",
    "for i in 1:N\n",
    "    chains = Achains[i]\n",
    "    invchains = reverse(chains)\n",
    "    push!(Ainvchains,invchains)\n",
    "end"
   ]
  },
  {
   "cell_type": "markdown",
   "metadata": {},
   "source": [
    "## 後続にブロックが付かない場合"
   ]
  },
  {
   "cell_type": "code",
   "execution_count": 123,
   "metadata": {},
   "outputs": [
    {
     "name": "stdout",
     "output_type": "stream",
     "text": [
      "20ok661.127105 seconds (10.15 G allocations: 184.351 GiB, 11.37% gc time)\n"
     ]
    }
   ],
   "source": [
    "#blocksにはあるがchainsにないものをカウントする\n",
    "Ahaki = []\n",
    "@time for h in 1:N\n",
    "    haki = 0\n",
    "    for i in 2:length(Ainvchains[h])\n",
    "        if (Ainvchains[h][i].minor == Minor(\"B\")) || (Ainvchains[h][i].minor == Minor(\"C\"))\n",
    "            for j in 1:length(Ablocks[h])\n",
    "                if (Ablocks[h][j].minor == Minor(\"A\")) && (Ablocks[h][j].index == Ainvchains[h][i].index)\n",
    "                    haki += 1\n",
    "                end\n",
    "            end\n",
    "        end\n",
    "    end\n",
    "   push!(Ahaki,haki)\n",
    "    if h%20 == 0\n",
    "        print(h,\"ok\")\n",
    "    end\n",
    "end"
   ]
  },
  {
   "cell_type": "markdown",
   "metadata": {},
   "source": [
    "## 後続にブロックが1つ付いた場合"
   ]
  },
  {
   "cell_type": "code",
   "execution_count": 76,
   "metadata": {},
   "outputs": [
    {
     "name": "stdout",
     "output_type": "stream",
     "text": [
      "1,2,3,4,5,6,7,8,9,10,11,12,13,14,15,16,17,18,19,20,21,22,23,24,25,26,27,28,29,30,31,32,33,34,35,36,37,38,39,40,41,42,43,44,45,46,47,48,49,50,51,52,53,54,55,56,57,58,59,60,61,62,63,64,65,66,67,68,69,70,71,72,73,74,75,76,77,78,79,80,81,82,83,84,85,86,87,88,89,90,91,92,93,94,95,96,97,98,99,100,101,102,103,104,105,106,107,108,109,110,111,112,113,114,115,116,117,118,119,120,121,122,123,124,125,126,127,128,129,130,131,132,133,134,135,136,137,138,139,140,141,142,143,144,145,146,147,148,149,150,151,152,153,154,155,156,157,158,159,160,161,162,163,164,165,166,167,168,169,170,171,172,173,174,175,176,177,178,179,180,181,182,183,184,185,186,187,188,189,190,191,192,193,194,195,196,197,198,199,200,201,202,3611.637880 seconds (54.56 G allocations: 975.352 GiB, 2.88% gc time)\n"
     ]
    }
   ],
   "source": [
    "#blocksで連番かつchainsにない場合は二つ以上同時に破棄されていると考える\n",
    "Ahaki = []\n",
    "@time for h in 1:N\n",
    "    haki = 0\n",
    "    count = 0\n",
    "    for i in 3:length(Ainvchains[h])-1\n",
    "        if i%1000 == 0\n",
    "            count += 1\n",
    "            print(count,\",\")\n",
    "        end\n",
    "#        if Ainvchains[h][i].minor == Minor(\"B\") && Ainvchains[h][i-1].minor == Minor(\"B\")\n",
    "#            for j in 1:length(Ablocks[h])\n",
    "#                if (Ablocks[h][j].minor == Minor(\"A\")) && (Ablocks[h][j].index == Ainvchains[h][i-1].index)\n",
    "#                    for k in 1:length(Ablocks[h])\n",
    "#                        if (Ablocks[h][k].minor == Minor(\"A\")) && (Ablocks[h][k].index == Ainvchains[h][i].index)\n",
    "#                            haki += 1\n",
    "#                        end\n",
    "#                    end\n",
    "#                end\n",
    "#            end\n",
    "        if (Ainvchains[h][i].minor == Minor(\"B\") && Ainvchains[h][i+1].minor == Minor(\"B\")) || (Ainvchains[h][i].minor == Minor(\"B\") && Ainvchains[h][i+1].minor == Minor(\"C\")) || (Ainvchains[h][i].minor == Minor(\"C\") && Ainvchains[h][i+1].minor == Minor(\"B\")) || (Ainvchains[h][i].minor == Minor(\"C\") && Ainvchains[h][i+1].minor == Minor(\"C\"))\n",
    "            for j in 1:length(Ablocks[h])\n",
    "                if (Ablocks[h][j].minor == Minor(\"A\")) && (Ablocks[h][j].index == Ainvchains[h][i].index)\n",
    "                    for k in 1:length(Ablocks[h])\n",
    "                        if (Ablocks[h][k].minor == Minor(\"A\")) && (Ablocks[h][k].index == Ainvchains[h][i+1].index)\n",
    "                            haki += 1\n",
    "                        end\n",
    "                    end\n",
    "                end\n",
    "            end\n",
    "        end\n",
    "    end\n",
    "    push!(Ahaki,haki)\n",
    "    if h%20 == 0\n",
    "        print(h,\"ok\")\n",
    "    end\n",
    "end"
   ]
  },
  {
   "cell_type": "markdown",
   "metadata": {},
   "source": [
    "## 後続にブロックが2つ付いた場合"
   ]
  },
  {
   "cell_type": "code",
   "execution_count": null,
   "metadata": {},
   "outputs": [],
   "source": [
    "Ahaki = []\n",
    "@time for h in 1:N\n",
    "    haki = 0\n",
    "    count = 0\n",
    "    for i in 3:length(Ainvchains[h])-1\n",
    "        if i%1000 == 0\n",
    "            count += 1\n",
    "            print(count,\",\")\n",
    "        end\n",
    "        \n",
    "        if (Ainvchains[h][i].minor == Minor(\"B\") && Ainvchains[h][i+1].minor == Minor(\"B\")) || (Ainvchains[h][i].minor == Minor(\"B\") && Ainvchains[h][i+1].minor == Minor(\"C\")) || (Ainvchains[h][i].minor == Minor(\"C\") && Ainvchains[h][i+1].minor == Minor(\"B\")) || (Ainvchains[h][i].minor == Minor(\"C\") && Ainvchains[h][i+1].minor == Minor(\"C\"))\n",
    "            if (Ainvchains[h][i].minor == Minor(\"B\") && Ainvchains[h][i+2].minor == Minor(\"B\")) || (Ainvchains[h][i].minor == Minor(\"B\") && Ainvchains[h][i+2].minor == Minor(\"C\")) || (Ainvchains[h][i].minor == Minor(\"C\") && Ainvchains[h][i+2].minor == Minor(\"B\")) || (Ainvchains[h][i].minor == Minor(\"C\") && Ainvchains[h][i+2].minor == Minor(\"C\"))\n",
    "                for j in 1:length(Ablocks[h])\n",
    "                    if (Ablocks[h][j].minor == Minor(\"A\")) && (Ablocks[h][j].index == Ainvchains[h][i].index)\n",
    "                        for k in 1:length(Ablocks[h])\n",
    "                            if (Ablocks[h][k].minor == Minor(\"A\")) && (Ablocks[h][k].index == Ainvchains[h][i+1].index)\n",
    "                                if (Ablocks[h][k].minor == Minor(\"A\")) && (Ablocks[h][k].index == Ainvchains[h][i+2].index)\n",
    "                                    haki += 1\n",
    "                                end\n",
    "                            end\n",
    "                        end\n",
    "                    end\n",
    "                end\n",
    "            end\n",
    "        end\n",
    "    end\n",
    "    push!(Ahaki,haki)\n",
    "    if h%20 == 0\n",
    "        print(h,\"ok\")\n",
    "    end\n",
    "end"
   ]
  },
  {
   "cell_type": "code",
   "execution_count": 124,
   "metadata": {},
   "outputs": [],
   "source": [
    "AblkA = []\n",
    "for i in 1:N\n",
    "    blkA = 0\n",
    "    for j in 1:length(Ablocks[i])\n",
    "        if Ablocks[i][j].minor == Minor(\"A\")\n",
    "            blkA += 1\n",
    "        end\n",
    "    end\n",
    "    push!(AblkA,blkA)\n",
    "end"
   ]
  },
  {
   "cell_type": "code",
   "execution_count": 125,
   "metadata": {},
   "outputs": [],
   "source": [
    "Aresult = []\n",
    "for i in 1:N\n",
    "    result = Ahaki[i] / AblkA[i]\n",
    "    push!(Aresult,result)\n",
    "end"
   ]
  },
  {
   "cell_type": "markdown",
   "metadata": {},
   "source": [
    "## 平均"
   ]
  },
  {
   "cell_type": "code",
   "execution_count": 126,
   "metadata": {},
   "outputs": [
    {
     "data": {
      "text/plain": [
       "0.009777368886539156"
      ]
     },
     "execution_count": 126,
     "metadata": {},
     "output_type": "execute_result"
    }
   ],
   "source": [
    "sum = 0\n",
    "for i in 1:N\n",
    "    sum += Aresult[i]\n",
    "end\n",
    "ave = sum / N"
   ]
  },
  {
   "cell_type": "markdown",
   "metadata": {},
   "source": [
    "## 分散"
   ]
  },
  {
   "cell_type": "code",
   "execution_count": 127,
   "metadata": {},
   "outputs": [
    {
     "data": {
      "text/plain": [
       "1.494934839999066e-6"
      ]
     },
     "execution_count": 127,
     "metadata": {},
     "output_type": "execute_result"
    }
   ],
   "source": [
    "sq = 0\n",
    "for i in 1:N\n",
    "    sq += (Aresult[i]-ave)^2\n",
    "end\n",
    "var = sq / N"
   ]
  },
  {
   "cell_type": "code",
   "execution_count": 128,
   "metadata": {},
   "outputs": [
    {
     "data": {
      "text/plain": [
       "0.0012226752798674986"
      ]
     },
     "execution_count": 128,
     "metadata": {},
     "output_type": "execute_result"
    }
   ],
   "source": [
    "sta = sqrt(var)"
   ]
  },
  {
   "cell_type": "markdown",
   "metadata": {},
   "source": [
    "## 信頼区間(95%)"
   ]
  },
  {
   "cell_type": "code",
   "execution_count": 129,
   "metadata": {},
   "outputs": [
    {
     "data": {
      "text/plain": [
       "2.086"
      ]
     },
     "execution_count": 129,
     "metadata": {},
     "output_type": "execute_result"
    }
   ],
   "source": [
    "t = 2.0860"
   ]
  },
  {
   "cell_type": "code",
   "execution_count": 130,
   "metadata": {},
   "outputs": [
    {
     "name": "stdout",
     "output_type": "stream",
     "text": [
      "[0.009522318823158796,0.010032418949919516]"
     ]
    }
   ],
   "source": [
    "sita = ave - t * (1/10) * sta\n",
    "ue = ave + t * (1/10) * sta\n",
    "print(\"[\",sita,\",\",ue,\"]\")"
   ]
  },
  {
   "cell_type": "code",
   "execution_count": 131,
   "metadata": {},
   "outputs": [
    {
     "data": {
      "text/plain": [
       "0"
      ]
     },
     "execution_count": 131,
     "metadata": {},
     "output_type": "execute_result"
    }
   ],
   "source": [
    "e = 0\n",
    "for i in 1:N\n",
    "    if Aresult[i] < sita && Aresult[i] > ue\n",
    "        e += 1\n",
    "    end\n",
    "end\n",
    "e"
   ]
  },
  {
   "cell_type": "code",
   "execution_count": 132,
   "metadata": {},
   "outputs": [
    {
     "data": {
      "text/plain": [
       "20-element Array{Any,1}:\n",
       " 39\n",
       " 39\n",
       " 38\n",
       " 40\n",
       " 48\n",
       " 50\n",
       " 37\n",
       " 48\n",
       " 56\n",
       " 43\n",
       " 39\n",
       " 41\n",
       " 43\n",
       " 39\n",
       " 46\n",
       " 41\n",
       " 36\n",
       " 40\n",
       " 42\n",
       " 35"
      ]
     },
     "execution_count": 132,
     "metadata": {},
     "output_type": "execute_result"
    }
   ],
   "source": [
    "Ahaki"
   ]
  },
  {
   "cell_type": "code",
   "execution_count": null,
   "metadata": {},
   "outputs": [],
   "source": []
  },
  {
   "cell_type": "code",
   "execution_count": 18,
   "metadata": {},
   "outputs": [],
   "source": [
    "open(\"chains.txt\",\"w\") do out #ファイルに書く\n",
    "    print(out,chains)\n",
    "end"
   ]
  },
  {
   "cell_type": "code",
   "execution_count": 19,
   "metadata": {},
   "outputs": [],
   "source": [
    "open(\"blocks.txt\",\"w\") do out #ファイルに書く\n",
    "    print(out,blocks)\n",
    "end"
   ]
  }
 ],
 "metadata": {
  "kernelspec": {
   "display_name": "Julia 1.0.5",
   "language": "julia",
   "name": "julia-1.0"
  },
  "language_info": {
   "file_extension": ".jl",
   "mimetype": "application/julia",
   "name": "julia",
   "version": "1.0.5"
  }
 },
 "nbformat": 4,
 "nbformat_minor": 4
}
