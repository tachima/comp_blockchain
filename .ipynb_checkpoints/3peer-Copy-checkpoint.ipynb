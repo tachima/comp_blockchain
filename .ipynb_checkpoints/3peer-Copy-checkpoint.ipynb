{
 "cells": [
  {
   "cell_type": "code",
   "execution_count": 1,
   "metadata": {},
   "outputs": [
    {
     "name": "stderr",
     "output_type": "stream",
     "text": [
      "┌ Info: Recompiling stale cache file /home/tachima/.julia/compiled/v1.0/Distributions/xILW0.ji for Distributions [31c24e10-a181-5473-b8eb-7969acd0382f]\n",
      "└ @ Base loading.jl:1190\n"
     ]
    }
   ],
   "source": [
    "using Random\n",
    "using Distributions"
   ]
  },
  {
   "cell_type": "code",
   "execution_count": 2,
   "metadata": {},
   "outputs": [],
   "source": [
    "abstract type AbstractBlk end\n",
    "\n",
    "struct Minor\n",
    "    label::String\n",
    "end\n",
    "\n",
    "struct Genesis <: AbstractBlk end\n",
    "\n",
    "struct Blk <: AbstractBlk\n",
    "    index::Int\n",
    "    minor::Minor\n",
    "    prev::AbstractBlk\n",
    "end\n",
    "\n",
    "function Base.show(io::IO, b::Genesis)\n",
    "    Base.show(io, 0)\n",
    "end\n",
    "\n",
    "function Base.show(io::IO, b::Blk)\n",
    "    Base.show(io, (b.index, b.minor.label))\n",
    "end\n",
    "\n",
    "struct Queue\n",
    "    sender::Minor\n",
    "    receiver::Minor\n",
    "    elem::Vector{AbstractBlk}\n",
    "    \n",
    "    Queue(sender, receiver) = new(sender, receiver, Vector{AbstractBlk}())\n",
    "end"
   ]
  },
  {
   "cell_type": "code",
   "execution_count": 3,
   "metadata": {},
   "outputs": [
    {
     "data": {
      "text/plain": [
       "getid (generic function with 2 methods)"
      ]
     },
     "execution_count": 3,
     "metadata": {},
     "output_type": "execute_result"
    }
   ],
   "source": [
    "getid(b::Blk) = b.index\n",
    "getid(b::Genesis) = 0"
   ]
  },
  {
   "cell_type": "code",
   "execution_count": 4,
   "metadata": {},
   "outputs": [
    {
     "data": {
      "text/plain": [
       "getlength (generic function with 1 method)"
      ]
     },
     "execution_count": 4,
     "metadata": {},
     "output_type": "execute_result"
    }
   ],
   "source": [
    "getreceiver(q::Queue) = q.receiver\n",
    "\n",
    "function receiveblk!(q::Queue, i::Int)::AbstractBlk\n",
    "    b = q.elem[i]\n",
    "    deleteat!(q.elem, i)\n",
    "    b\n",
    "end\n",
    "\n",
    "getlength(q::Queue) = length(q.elem)"
   ]
  },
  {
   "cell_type": "code",
   "execution_count": 5,
   "metadata": {},
   "outputs": [
    {
     "data": {
      "text/plain": [
       "sendblk! (generic function with 1 method)"
      ]
     },
     "execution_count": 5,
     "metadata": {},
     "output_type": "execute_result"
    }
   ],
   "source": [
    "function sendblk!(q::Queue, b::AbstractBlk)\n",
    "    push!(q.elem, b)\n",
    "end"
   ]
  },
  {
   "cell_type": "code",
   "execution_count": 6,
   "metadata": {},
   "outputs": [
    {
     "data": {
      "text/plain": [
       "event_genBlk! (generic function with 1 method)"
      ]
     },
     "execution_count": 6,
     "metadata": {},
     "output_type": "execute_result"
    }
   ],
   "source": [
    "function event_genBlk!(x::Minor, workblk::Dict{Minor,AbstractBlk}, queue::Vector{Queue}, blocks::Vector{Blk})\n",
    "    prev = workblk[x]\n",
    "    id = getid(prev) + 1\n",
    "    b = Blk(id, x, prev)\n",
    "    push!(blocks, b)\n",
    "    workblk[x] = b\n",
    "    for q = queue\n",
    "        sendblk!(q, b)\n",
    "    end\n",
    "    b\n",
    "end"
   ]
  },
  {
   "cell_type": "code",
   "execution_count": 7,
   "metadata": {},
   "outputs": [
    {
     "data": {
      "text/plain": [
       "event_arrivalBlk! (generic function with 1 method)"
      ]
     },
     "execution_count": 7,
     "metadata": {},
     "output_type": "execute_result"
    }
   ],
   "source": [
    "function event_arrivalBlk!(q::Queue, i::Int, workblk::Dict{Minor,AbstractBlk})\n",
    "    x = getreceiver(q)\n",
    "    b = receiveblk!(q, i)\n",
    "    prev = workblk[x]\n",
    "    if getid(prev) < getid(b)\n",
    "        workblk[x] = b\n",
    "    end\n",
    "    b\n",
    "end"
   ]
  },
  {
   "cell_type": "code",
   "execution_count": 8,
   "metadata": {},
   "outputs": [
    {
     "data": {
      "text/plain": [
       "rates (generic function with 1 method)"
      ]
     },
     "execution_count": 8,
     "metadata": {},
     "output_type": "execute_result"
    }
   ],
   "source": [
    "function rates(u1, u2, queue, lambda, mu)\n",
    "#    u1 = sort(collect(keys(lambda)), by=x->x.label)\n",
    "    r1 = [lambda[x] for x = u1]\n",
    "#    u2 = sort(collect(keys(mu)), by=x->(x[1].label, x[2].label))\n",
    "    r2 = [mu[x] * getlength(queue[x]) for x = u2]\n",
    "    return r1, r2\n",
    "end"
   ]
  },
  {
   "cell_type": "code",
   "execution_count": 98,
   "metadata": {},
   "outputs": [
    {
     "data": {
      "text/plain": [
       "Minor(\"C\")"
      ]
     },
     "execution_count": 98,
     "metadata": {},
     "output_type": "execute_result"
    }
   ],
   "source": [
    "a = Minor(\"A\")\n",
    "b = Minor(\"B\")\n",
    "c = Minor(\"C\")"
   ]
  },
  {
   "cell_type": "code",
   "execution_count": 99,
   "metadata": {},
   "outputs": [
    {
     "data": {
      "text/plain": [
       "Dict{Tuple{Minor,Minor},Float64} with 6 entries:\n",
       "  (Minor(\"C\"), Minor(\"A\")) => 10.0\n",
       "  (Minor(\"C\"), Minor(\"B\")) => 10.0\n",
       "  (Minor(\"A\"), Minor(\"C\")) => 10.0\n",
       "  (Minor(\"B\"), Minor(\"C\")) => 10.0\n",
       "  (Minor(\"B\"), Minor(\"A\")) => 10.0\n",
       "  (Minor(\"A\"), Minor(\"B\")) => 10.0"
      ]
     },
     "execution_count": 99,
     "metadata": {},
     "output_type": "execute_result"
    }
   ],
   "source": [
    "lambda = Dict(\n",
    "    a => 1/10,\n",
    "    b => 1/10,\n",
    "    c => 1/10,\n",
    ")\n",
    "\n",
    "mu = Dict(\n",
    "    (a,b) => 1/0.1,\n",
    "    (a,c) => 1/0.1,\n",
    "    (b,a) => 1/0.1,\n",
    "    (b,c) => 1/0.1,\n",
    "    (c,a) => 1/0.1,\n",
    "    (c,b) => 1/0.1,\n",
    ")"
   ]
  },
  {
   "cell_type": "code",
   "execution_count": 100,
   "metadata": {},
   "outputs": [
    {
     "name": "stdout",
     "output_type": "stream",
     "text": [
      " 24.723854 seconds (93.91 M allocations: 2.913 GiB, 8.19% gc time)\n"
     ]
    }
   ],
   "source": [
    "rng = MersenneTwister(1234)\n",
    "Aworkblk = []\n",
    "Ablocks = []\n",
    "@time for k in 1:1\n",
    "    blocks = Vector{Blk}()\n",
    "\n",
    "    events = 0\n",
    "    u1 = sort(collect(keys(lambda)), by=x->x.label)\n",
    "    u2 = sort(collect(keys(mu)), by=x->(x[1].label, x[2].label))\n",
    "    workblk = Dict{Minor,AbstractBlk}(a=>Genesis(), b=>Genesis(), c=>Genesis())\n",
    "    qAtoB = Queue(a, b)\n",
    "    qAtoC = Queue(a, c)\n",
    "    qBtoA = Queue(b, a)\n",
    "    qBtoC = Queue(b, c)\n",
    "    qCtoA = Queue(c, a)\n",
    "    qCtoB = Queue(c, b)\n",
    "    queue = Dict(\n",
    "        (a,b)=>qAtoB,\n",
    "        (a,c)=>qAtoC,\n",
    "        (b,a)=>qBtoA,\n",
    "        (b,c)=>qBtoC,\n",
    "        (c,a)=>qCtoA,\n",
    "        (c,b)=>qCtoB,\n",
    "    )\n",
    "    input = Dict(\n",
    "        a=>[qAtoB, qAtoC],\n",
    "        b=>[qBtoA, qBtoC],\n",
    "        c=>[qCtoA, qCtoB],\n",
    "    )\n",
    "\n",
    "    ctime = 0.0\n",
    "    while ctime < 60*24*30 # 24 hours\n",
    "        r1, r2 = rates(u1, u2, queue, lambda, mu)\n",
    "        etime1 = [(r != 0) ? rand(rng, Exponential(1/r)) : Inf for r = r1]\n",
    "        etime2 = [(r != 0) ? rand(rng, Exponential(1/r)) : Inf for r = r2]\n",
    "        m1, i1 = findmin(etime1)\n",
    "        m2, i2 = findmin(etime2)\n",
    "        if m1 < m2\n",
    "            ctime += m1\n",
    "            event_genBlk!(u1[i1], workblk, input[u1[i1]], blocks)\n",
    "        else\n",
    "            ctime += m2\n",
    "            v = rand(rng, DiscreteUniform(1,getlength(queue[u2[i2]])))\n",
    "            event_arrivalBlk!(queue[u2[i2]], v, workblk)\n",
    "        end\n",
    "        events += 1\n",
    "    end\n",
    "    push!(Aworkblk,workblk)\n",
    "    push!(Ablocks,blocks)\n",
    "end"
   ]
  },
  {
   "cell_type": "code",
   "execution_count": 101,
   "metadata": {},
   "outputs": [
    {
     "data": {
      "text/plain": [
       "Dict{Minor,AbstractBlk} with 3 entries:\n",
       "  Minor(\"A\") => (753733, \"B\")\n",
       "  Minor(\"C\") => (753733, \"B\")\n",
       "  Minor(\"B\") => (753734, \"B\")"
      ]
     },
     "execution_count": 101,
     "metadata": {},
     "output_type": "execute_result"
    }
   ],
   "source": [
    "Aworkblk[1]"
   ]
  },
  {
   "cell_type": "code",
   "execution_count": 102,
   "metadata": {},
   "outputs": [],
   "source": [
    "Achains = []\n",
    "for i in 1:1\n",
    "    workblk = Aworkblk[i]\n",
    "    blk = workblk[a]\n",
    "    chains = []\n",
    "    push!(chains, blk)\n",
    "    while blk != Genesis()\n",
    "        blk = blk.prev\n",
    "        push!(chains, blk)\n",
    "    end\n",
    "    push!(Achains,chains)\n",
    "end"
   ]
  },
  {
   "cell_type": "code",
   "execution_count": 103,
   "metadata": {},
   "outputs": [],
   "source": [
    "Ainvchains = []\n",
    "for i in 1:1\n",
    "    chains = Achains[i]\n",
    "    invchains = reverse(chains)\n",
    "    push!(Ainvchains,invchains)\n",
    "end"
   ]
  },
  {
   "cell_type": "markdown",
   "metadata": {},
   "source": [
    "## 後続にブロックが付かない場合"
   ]
  },
  {
   "cell_type": "code",
   "execution_count": 91,
   "metadata": {},
   "outputs": [
    {
     "name": "stdout",
     "output_type": "stream",
     "text": [
      "20ok1529.275065 seconds (25.64 G allocations: 462.748 GiB, 7.92% gc time)\n"
     ]
    }
   ],
   "source": [
    "#blocksにはあるがchainsにないものをカウントする\n",
    "Ahaki = []\n",
    "@time for h in 1:1\n",
    "    haki = 0\n",
    "    for i in 2:length(Ainvchains[h])\n",
    "        if (Ainvchains[h][i].minor == Minor(\"B\")) || (Ainvchains[h][i].minor == Minor(\"C\"))\n",
    "            for j in 1:length(Ablocks[h])\n",
    "                if (Ablocks[h][j].minor == Minor(\"A\")) && (Ablocks[h][j].index == Ainvchains[h][i].index)\n",
    "                    haki += 1\n",
    "                end\n",
    "            end\n",
    "        end\n",
    "    end\n",
    "   push!(Ahaki,haki)\n",
    "    if h%20 == 0\n",
    "        print(h,\"ok\")\n",
    "    end\n",
    "end"
   ]
  },
  {
   "cell_type": "markdown",
   "metadata": {},
   "source": [
    "## 後続にブロックが1つ付いた場合"
   ]
  },
  {
   "cell_type": "code",
   "execution_count": 104,
   "metadata": {},
   "outputs": [
    {
     "name": "stdout",
     "output_type": "stream",
     "text": [
      "46629.089241 seconds (618.56 G allocations: 10.871 TiB, 12.28% gc time)\n"
     ]
    }
   ],
   "source": [
    "#blocksで連番かつchainsにない場合は二つ以上同時に破棄されていると考える\n",
    "Ahaki = []\n",
    "@time for h in 1:1\n",
    "    haki = 0\n",
    "    for i in 3:length(Ainvchains[h])-1\n",
    "#        if Ainvchains[h][i].minor == Minor(\"B\") && Ainvchains[h][i-1].minor == Minor(\"B\")\n",
    "#            for j in 1:length(Ablocks[h])\n",
    "#                if (Ablocks[h][j].minor == Minor(\"A\")) && (Ablocks[h][j].index == Ainvchains[h][i-1].index)\n",
    "#                    for k in 1:length(Ablocks[h])\n",
    "#                        if (Ablocks[h][k].minor == Minor(\"A\")) && (Ablocks[h][k].index == Ainvchains[h][i].index)\n",
    "#                            haki += 1\n",
    "#                        end\n",
    "#                    end\n",
    "#                end\n",
    "#            end\n",
    "        if Ainvchains[h][i].minor == Minor(\"B\") && Ainvchains[h][i+1].minor == Minor(\"B\")\n",
    "            for j in 1:length(Ablocks[h])\n",
    "                if (Ablocks[h][j].minor == Minor(\"A\")) && (Ablocks[h][j].index == Ainvchains[h][i].index)\n",
    "                    for k in 1:length(Ablocks[h])\n",
    "                        if (Ablocks[h][k].minor == Minor(\"A\")) && (Ablocks[h][k].index == Ainvchains[h][i+1].index)\n",
    "                            haki += 1\n",
    "                        end\n",
    "                    end\n",
    "                end\n",
    "            end\n",
    "        end\n",
    "        if Ainvchains[h][i].minor == Minor(\"C\") && Ainvchains[h][i+1].minor == Minor(\"C\")\n",
    "            for j in 1:length(Ablocks[h])\n",
    "                if (Ablocks[h][j].minor == Minor(\"A\")) && (Ablocks[h][j].index == Ainvchains[h][i].index)\n",
    "                    for k in 1:length(Ablocks[h])\n",
    "                        if (Ablocks[h][k].minor == Minor(\"A\")) && (Ablocks[h][k].index == Ainvchains[h][i+1].index)\n",
    "                            haki += 1\n",
    "                        end\n",
    "                    end\n",
    "                end\n",
    "            end\n",
    "        end\n",
    "    end\n",
    "    push!(Ahaki,haki)\n",
    "    if h%20 == 0\n",
    "        print(h,\"ok\")\n",
    "    end\n",
    "end"
   ]
  },
  {
   "cell_type": "code",
   "execution_count": 105,
   "metadata": {},
   "outputs": [],
   "source": [
    "AblkA = []\n",
    "for i in 1:1\n",
    "    blkA = 0\n",
    "    for j in 1:length(Ablocks[i])\n",
    "        if Ablocks[i][j].minor == Minor(\"A\")\n",
    "            blkA += 1\n",
    "        end\n",
    "    end\n",
    "    push!(AblkA,blkA)\n",
    "end"
   ]
  },
  {
   "cell_type": "code",
   "execution_count": 106,
   "metadata": {},
   "outputs": [],
   "source": [
    "Aresult = []\n",
    "for i in 1:1\n",
    "    result = Ahaki[i] / AblkA[i]\n",
    "    push!(Aresult,result)\n",
    "end"
   ]
  },
  {
   "cell_type": "markdown",
   "metadata": {},
   "source": [
    "## 平均"
   ]
  },
  {
   "cell_type": "code",
   "execution_count": 107,
   "metadata": {},
   "outputs": [
    {
     "data": {
      "text/plain": [
       "0.0003536920628285719"
      ]
     },
     "execution_count": 107,
     "metadata": {},
     "output_type": "execute_result"
    }
   ],
   "source": [
    "sum = 0\n",
    "for i in 1:1\n",
    "    sum += Aresult[i]\n",
    "end\n",
    "ave = sum / 1"
   ]
  },
  {
   "cell_type": "markdown",
   "metadata": {},
   "source": [
    "## 分散"
   ]
  },
  {
   "cell_type": "code",
   "execution_count": 108,
   "metadata": {},
   "outputs": [
    {
     "data": {
      "text/plain": [
       "0.0"
      ]
     },
     "execution_count": 108,
     "metadata": {},
     "output_type": "execute_result"
    }
   ],
   "source": [
    "sq = 0\n",
    "for i in 1:1\n",
    "    sq += (Aresult[i]-ave)^2\n",
    "end\n",
    "var = sq / 1"
   ]
  },
  {
   "cell_type": "code",
   "execution_count": 109,
   "metadata": {},
   "outputs": [
    {
     "data": {
      "text/plain": [
       "0.0"
      ]
     },
     "execution_count": 109,
     "metadata": {},
     "output_type": "execute_result"
    }
   ],
   "source": [
    "sta = sqrt(var)"
   ]
  },
  {
   "cell_type": "markdown",
   "metadata": {},
   "source": [
    "## 信頼区間(95%)"
   ]
  },
  {
   "cell_type": "code",
   "execution_count": 110,
   "metadata": {},
   "outputs": [
    {
     "name": "stdout",
     "output_type": "stream",
     "text": [
      "[0.0003536920628285719,0.0003536920628285719]"
     ]
    }
   ],
   "source": [
    "sita = ave - 1.9842 * (1/10) * sta\n",
    "ue = ave + 1.9842 * (1/10) * sta\n",
    "print(\"[\",sita,\",\",ue,\"]\")"
   ]
  },
  {
   "cell_type": "code",
   "execution_count": 23,
   "metadata": {},
   "outputs": [
    {
     "data": {
      "text/plain": [
       "0"
      ]
     },
     "execution_count": 23,
     "metadata": {},
     "output_type": "execute_result"
    }
   ],
   "source": [
    "e = 0\n",
    "for i in 1:1\n",
    "    if Aresult[i] < sita && Aresult[i] > ue\n",
    "        e += 1\n",
    "    end\n",
    "end\n",
    "e"
   ]
  },
  {
   "cell_type": "code",
   "execution_count": 111,
   "metadata": {},
   "outputs": [
    {
     "data": {
      "text/plain": [
       "1-element Array{Any,1}:\n",
       " 110"
      ]
     },
     "execution_count": 111,
     "metadata": {},
     "output_type": "execute_result"
    }
   ],
   "source": [
    "Ahaki"
   ]
  },
  {
   "cell_type": "code",
   "execution_count": null,
   "metadata": {},
   "outputs": [],
   "source": []
  },
  {
   "cell_type": "code",
   "execution_count": 18,
   "metadata": {},
   "outputs": [],
   "source": [
    "open(\"chains.txt\",\"w\") do out #ファイルに書く\n",
    "    print(out,chains)\n",
    "end"
   ]
  },
  {
   "cell_type": "code",
   "execution_count": 19,
   "metadata": {},
   "outputs": [],
   "source": [
    "open(\"blocks.txt\",\"w\") do out #ファイルに書く\n",
    "    print(out,blocks)\n",
    "end"
   ]
  }
 ],
 "metadata": {
  "kernelspec": {
   "display_name": "Julia 1.0.5",
   "language": "julia",
   "name": "julia-1.0"
  },
  "language_info": {
   "file_extension": ".jl",
   "mimetype": "application/julia",
   "name": "julia",
   "version": "1.0.5"
  }
 },
 "nbformat": 4,
 "nbformat_minor": 4
}
