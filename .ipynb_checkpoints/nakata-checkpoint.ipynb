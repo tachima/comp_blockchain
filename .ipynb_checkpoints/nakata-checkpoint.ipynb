{
 "cells": [
  {
   "cell_type": "code",
   "execution_count": 4,
   "metadata": {},
   "outputs": [
    {
     "name": "stdout",
     "output_type": "stream",
     "text": [
      "\u001b[32m\u001b[1m  Updating\u001b[22m\u001b[39m git-repo `https://github.com/JuliaStats/Distributions.jl`\n",
      "\u001b[?25l\u001b[2K\u001b[?25h\u001b[32m\u001b[1m Resolving\u001b[22m\u001b[39m package versions...\n",
      "\u001b[32m\u001b[1m  Updating\u001b[22m\u001b[39m `~/.julia/environments/v1.0/Project.toml`\n",
      "\u001b[90m [no changes]\u001b[39m\n",
      "\u001b[32m\u001b[1m  Updating\u001b[22m\u001b[39m `~/.julia/environments/v1.0/Manifest.toml`\n",
      "\u001b[90m [no changes]\u001b[39m\n"
     ]
    }
   ],
   "source": [
    "using Pkg\n",
    "Pkg.add(PackageSpec(url=\"https://github.com/JuliaStats/Distributions.jl\"))\n",
    "using Random\n",
    "using Distributions"
   ]
  },
  {
   "cell_type": "code",
   "execution_count": 145,
   "metadata": {},
   "outputs": [],
   "source": [
    "abstract type AbstractBlk end\n",
    "\n",
    "struct Minor\n",
    "    label::String\n",
    "end\n",
    "\n",
    "struct Genesis <: AbstractBlk end\n",
    "\n",
    "struct Blk <: AbstractBlk\n",
    "    index::Int\n",
    "    minor::Minor\n",
    "    prev::AbstractBlk\n",
    "end\n",
    "\n",
    "function Base.show(io::IO, b::Genesis)\n",
    "    Base.show(io, 0)\n",
    "end\n",
    "\n",
    "function Base.show(io::IO, b::Blk)\n",
    "    Base.show(io, (b.index, b.minor.label))\n",
    "end\n",
    "\n",
    "struct Queue\n",
    "    sender::Minor\n",
    "    receiver::Minor\n",
    "    elem::Vector{AbstractBlk}\n",
    "    \n",
    "    Queue(sender, receiver) = new(sender, receiver, Vector{AbstractBlk}())\n",
    "end"
   ]
  },
  {
   "cell_type": "code",
   "execution_count": 146,
   "metadata": {},
   "outputs": [
    {
     "data": {
      "text/plain": [
       "Minor(\"C\")"
      ]
     },
     "execution_count": 146,
     "metadata": {},
     "output_type": "execute_result"
    }
   ],
   "source": [
    "a = Minor(\"A\")\n",
    "b = Minor(\"B\")\n",
    "c = Minor(\"C\")"
   ]
  },
  {
   "cell_type": "code",
   "execution_count": 147,
   "metadata": {},
   "outputs": [
    {
     "data": {
      "text/plain": [
       "Dict{Tuple{Minor,Minor},Queue} with 6 entries:\n",
       "  (Minor(\"C\"), Minor(\"A\")) => Queue(Minor(\"C\"), Minor(\"A\"), AbstractBlk[])\n",
       "  (Minor(\"C\"), Minor(\"B\")) => Queue(Minor(\"C\"), Minor(\"B\"), AbstractBlk[])\n",
       "  (Minor(\"A\"), Minor(\"C\")) => Queue(Minor(\"A\"), Minor(\"C\"), AbstractBlk[])\n",
       "  (Minor(\"B\"), Minor(\"C\")) => Queue(Minor(\"B\"), Minor(\"C\"), AbstractBlk[])\n",
       "  (Minor(\"B\"), Minor(\"A\")) => Queue(Minor(\"B\"), Minor(\"A\"), AbstractBlk[])\n",
       "  (Minor(\"A\"), Minor(\"B\")) => Queue(Minor(\"A\"), Minor(\"B\"), AbstractBlk[])"
      ]
     },
     "execution_count": 147,
     "metadata": {},
     "output_type": "execute_result"
    }
   ],
   "source": [
    "workblk = Dict{Minor,AbstractBlk}(a=>Genesis(), b=>Genesis(), c=>Genesis())\n",
    "\n",
    "qAtoB = Queue(a, b)\n",
    "qAtoC = Queue(a, c)\n",
    "qBtoA = Queue(b, a)\n",
    "qBtoC = Queue(b, c)\n",
    "qCtoA = Queue(c, a)\n",
    "qCtoB = Queue(c, b)\n",
    "queue = Dict(\n",
    "    (a,b)=>qAtoB,\n",
    "    (a,c)=>qAtoC,\n",
    "    (b,a)=>qBtoA,\n",
    "    (b,c)=>qBtoC,\n",
    "    (c,a)=>qCtoA,\n",
    "    (c,b)=>qCtoB,\n",
    ")"
   ]
  },
  {
   "cell_type": "code",
   "execution_count": 148,
   "metadata": {},
   "outputs": [
    {
     "data": {
      "text/plain": [
       "getid (generic function with 2 methods)"
      ]
     },
     "execution_count": 148,
     "metadata": {},
     "output_type": "execute_result"
    }
   ],
   "source": [
    "getid(b::Blk) = b.index\n",
    "getid(b::Genesis) = 0"
   ]
  },
  {
   "cell_type": "code",
   "execution_count": 149,
   "metadata": {},
   "outputs": [
    {
     "data": {
      "text/plain": [
       "getlength (generic function with 1 method)"
      ]
     },
     "execution_count": 149,
     "metadata": {},
     "output_type": "execute_result"
    }
   ],
   "source": [
    "getreceiver(q::Queue) = q.receiver\n",
    "\n",
    "function receiveblk!(q::Queue, i::Int)::AbstractBlk\n",
    "    b = q.elem[i]\n",
    "    deleteat!(q.elem, i)\n",
    "    b\n",
    "end\n",
    "\n",
    "getlength(q::Queue) = length(q.elem)"
   ]
  },
  {
   "cell_type": "code",
   "execution_count": 150,
   "metadata": {},
   "outputs": [
    {
     "data": {
      "text/plain": [
       "sendblk! (generic function with 1 method)"
      ]
     },
     "execution_count": 150,
     "metadata": {},
     "output_type": "execute_result"
    }
   ],
   "source": [
    "function sendblk!(q::Queue, b::AbstractBlk)\n",
    "    push!(q.elem, b)\n",
    "end"
   ]
  },
  {
   "cell_type": "code",
   "execution_count": 151,
   "metadata": {},
   "outputs": [
    {
     "data": {
      "text/plain": [
       "event_genBlk! (generic function with 1 method)"
      ]
     },
     "execution_count": 151,
     "metadata": {},
     "output_type": "execute_result"
    }
   ],
   "source": [
    "function event_genBlk!(x::Minor, workblk::Dict{Minor,AbstractBlk}, queue::Vector{Queue}, blocks::Vector{Blk})\n",
    "    prev = workblk[x]\n",
    "    id = getid(prev) + 1\n",
    "    b = Blk(id, x, prev)\n",
    "    push!(blocks, b)\n",
    "    workblk[x] = b\n",
    "    for q = queue\n",
    "        sendblk!(q, b)\n",
    "    end\n",
    "    b\n",
    "end"
   ]
  },
  {
   "cell_type": "code",
   "execution_count": 152,
   "metadata": {},
   "outputs": [
    {
     "data": {
      "text/plain": [
       "event_arrivalBlk! (generic function with 1 method)"
      ]
     },
     "execution_count": 152,
     "metadata": {},
     "output_type": "execute_result"
    }
   ],
   "source": [
    "function event_arrivalBlk!(q::Queue, i::Int, workblk::Dict{Minor,AbstractBlk})\n",
    "    x = getreceiver(q)#xは受け取った人\n",
    "    b = receiveblk!(q, i)#bは何番目のブロックを誰からもらったかの情報\n",
    "    prev = workblk[x]#受け取った人が何番目か保存\n",
    "    if getid(prev) < getid(b)\n",
    "        workblk[x] = b\n",
    "    end\n",
    "    b\n",
    "end"
   ]
  },
  {
   "cell_type": "code",
   "execution_count": 153,
   "metadata": {},
   "outputs": [
    {
     "data": {
      "text/plain": [
       "rates (generic function with 1 method)"
      ]
     },
     "execution_count": 153,
     "metadata": {},
     "output_type": "execute_result"
    }
   ],
   "source": [
    "function rates(u1, u2, queue, lambda, mu)\n",
    "#    u1 = sort(collect(keys(lambda)), by=x->x.label)\n",
    "    r1 = [lambda[x] for x = u1]\n",
    "#    u2 = sort(collect(keys(mu)), by=x->(x[1].label, x[2].label))\n",
    "    r2 = [mu[x] * getlength(queue[x]) for x = u2]\n",
    "    return r1, r2\n",
    "end"
   ]
  },
  {
   "cell_type": "code",
   "execution_count": 174,
   "metadata": {},
   "outputs": [
    {
     "data": {
      "text/plain": [
       "Dict{Tuple{Minor,Minor},Float64} with 6 entries:\n",
       "  (Minor(\"C\"), Minor(\"A\")) => 0.1\n",
       "  (Minor(\"C\"), Minor(\"B\")) => 0.1\n",
       "  (Minor(\"A\"), Minor(\"C\")) => 0.1\n",
       "  (Minor(\"B\"), Minor(\"C\")) => 0.1\n",
       "  (Minor(\"B\"), Minor(\"A\")) => 0.1\n",
       "  (Minor(\"A\"), Minor(\"B\")) => 0.1"
      ]
     },
     "execution_count": 174,
     "metadata": {},
     "output_type": "execute_result"
    }
   ],
   "source": [
    "lambda = Dict(\n",
    "    a => 1/10,\n",
    "    b => 1/10,\n",
    "    c => 1/10,\n",
    ")\n",
    "\n",
    "mu = Dict(\n",
    "    (a,b) => 1/10,\n",
    "    (a,c) => 1/10,\n",
    "    (b,a) => 1/10,\n",
    "    (b,c) => 1/10,\n",
    "    (c,a) => 1/10,\n",
    "    (c,b) => 1/10,\n",
    ")"
   ]
  },
  {
   "cell_type": "code",
   "execution_count": 183,
   "metadata": {},
   "outputs": [],
   "source": [
    "blocks = Vector{Blk}()\n",
    "\n",
    "events = 0\n",
    "u1 = sort(collect(keys(lambda)), by=x->x.label)\n",
    "u2 = sort(collect(keys(mu)), by=x->(x[1].label, x[2].label))\n",
    "workblk = Dict{Minor,AbstractBlk}(a=>Genesis(), b=>Genesis(), c=>Genesis())\n",
    "qAtoB = Queue(a, b)\n",
    "qAtoC = Queue(a, c)\n",
    "qBtoA = Queue(b, a)\n",
    "qBtoC = Queue(b, c)\n",
    "qCtoA = Queue(c, a)\n",
    "qCtoB = Queue(c, b)\n",
    "queue = Dict(\n",
    "    (a,b)=>qAtoB,\n",
    "    (a,c)=>qAtoC,\n",
    "    (b,a)=>qBtoA,\n",
    "    (b,c)=>qBtoC,\n",
    "    (c,a)=>qCtoA,\n",
    "    (c,b)=>qCtoB,\n",
    ")\n",
    "input = Dict(\n",
    "    a=>[qAtoB, qAtoC],\n",
    "    b=>[qBtoA, qBtoC],\n",
    "    c=>[qCtoA, qCtoB],\n",
    ")\n",
    "\n",
    "#rng = MersenneTwister(1234)\n",
    "ctime = 0.0\n",
    "while ctime < 60*24 # 24 hours\n",
    "    r1, r2 = rates(u1, u2, queue, lambda, mu)\n",
    "    etime1 = [(r != 0) ? rand(rng, Exponential(1/r)) : Inf for r = r1]\n",
    "    etime2 = [(r != 0) ? rand(rng, Exponential(1/r)) : Inf for r = r2]\n",
    "    m1, i1 = findmin(etime1)\n",
    "    m2, i2 = findmin(etime2)\n",
    "    if m1 < m2\n",
    "        ctime += m1\n",
    "        event_genBlk!(u1[i1], workblk, input[u1[i1]], blocks)\n",
    "    else\n",
    "        ctime += m2\n",
    "        v = rand(rng, DiscreteUniform(1,getlength(queue[u2[i2]])))\n",
    "        event_arrivalBlk!(queue[u2[i2]], v, workblk)\n",
    "    end\n",
    "    events += 1\n",
    "end"
   ]
  },
  {
   "cell_type": "code",
   "execution_count": 184,
   "metadata": {},
   "outputs": [
    {
     "data": {
      "text/plain": [
       "Dict{Minor,AbstractBlk} with 3 entries:\n",
       "  Minor(\"A\") => (273, \"A\")\n",
       "  Minor(\"C\") => (271, \"C\")\n",
       "  Minor(\"B\") => (273, \"B\")"
      ]
     },
     "execution_count": 184,
     "metadata": {},
     "output_type": "execute_result"
    }
   ],
   "source": [
    "workblk"
   ]
  },
  {
   "cell_type": "code",
   "execution_count": 177,
   "metadata": {},
   "outputs": [
    {
     "data": {
      "text/plain": [
       "(277, \"C\")"
      ]
     },
     "execution_count": 177,
     "metadata": {},
     "output_type": "execute_result"
    }
   ],
   "source": [
    "workblk[b].prev"
   ]
  },
  {
   "cell_type": "code",
   "execution_count": 178,
   "metadata": {},
   "outputs": [
    {
     "data": {
      "text/plain": [
       "(278, \"C\")"
      ]
     },
     "execution_count": 178,
     "metadata": {},
     "output_type": "execute_result"
    }
   ],
   "source": [
    "workblk[c].prev"
   ]
  },
  {
   "cell_type": "code",
   "execution_count": 179,
   "metadata": {},
   "outputs": [
    {
     "data": {
      "text/plain": [
       "465-element Array{Blk,1}:\n",
       " (1, \"B\")  \n",
       " (1, \"A\")  \n",
       " (2, \"B\")  \n",
       " (3, \"B\")  \n",
       " (2, \"A\")  \n",
       " (3, \"A\")  \n",
       " (4, \"A\")  \n",
       " (4, \"B\")  \n",
       " (5, \"A\")  \n",
       " (6, \"B\")  \n",
       " (7, \"B\")  \n",
       " (8, \"C\")  \n",
       " (7, \"A\")  \n",
       " ⋮         \n",
       " (271, \"C\")\n",
       " (272, \"B\")\n",
       " (271, \"A\")\n",
       " (273, \"A\")\n",
       " (274, \"C\")\n",
       " (275, \"C\")\n",
       " (276, \"C\")\n",
       " (277, \"C\")\n",
       " (275, \"A\")\n",
       " (276, \"A\")\n",
       " (278, \"C\")\n",
       " (279, \"C\")"
      ]
     },
     "execution_count": 179,
     "metadata": {},
     "output_type": "execute_result"
    }
   ],
   "source": [
    "blocks"
   ]
  },
  {
   "cell_type": "code",
   "execution_count": 165,
   "metadata": {},
   "outputs": [
    {
     "data": {
      "text/plain": [
       "164"
      ]
     },
     "execution_count": 165,
     "metadata": {},
     "output_type": "execute_result"
    }
   ],
   "source": [
    "haki = length(blocks) - workblk[a].index"
   ]
  },
  {
   "cell_type": "code",
   "execution_count": 170,
   "metadata": {},
   "outputs": [
    {
     "ename": "ErrorException",
     "evalue": "cannot assign variable Base.length from module Main",
     "output_type": "error",
     "traceback": [
      "cannot assign variable Base.length from module Main",
      "",
      "Stacktrace:",
      " [1] top-level scope at In[170]:4"
     ]
    }
   ],
   "source": [
    "genA = workblk[a].minor\n",
    "genB = workblk[b].minor\n",
    "genC = workblk[c].minor\n",
    "length = length(blocks)\n",
    "while !(genA == genB == genC)\n",
    "    genA = workblk[a].minor\n",
    "    genB = workblk[b].minor\n",
    "    genC = workblk[c].minor\n",
    "    workblk[a] = workblk[a].prev\n",
    "    workblk[b] = workblk[b].prev\n",
    "    workblk[c] = workblk[c].prev\n",
    "    length = length - 1\n",
    "end\n",
    "haki = length - workblk[a].index"
   ]
  }
 ],
 "metadata": {
  "kernelspec": {
   "display_name": "Julia 1.0.5",
   "language": "julia",
   "name": "julia-1.0"
  },
  "language_info": {
   "file_extension": ".jl",
   "mimetype": "application/julia",
   "name": "julia",
   "version": "1.0.5"
  }
 },
 "nbformat": 4,
 "nbformat_minor": 4
}
