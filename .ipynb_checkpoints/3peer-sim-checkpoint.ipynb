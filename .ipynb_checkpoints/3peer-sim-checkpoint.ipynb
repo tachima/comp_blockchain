{
 "cells": [
  {
   "cell_type": "code",
   "execution_count": 1,
   "metadata": {},
   "outputs": [],
   "source": [
    "using Random\n",
    "using Distributions"
   ]
  },
  {
   "cell_type": "code",
   "execution_count": 2,
   "metadata": {},
   "outputs": [],
   "source": [
    "abstract type AbstractBlk end\n",
    "\n",
    "struct Minor\n",
    "    label::String\n",
    "end\n",
    "\n",
    "struct Genesis <: AbstractBlk end\n",
    "\n",
    "struct Blk <: AbstractBlk\n",
    "    index::Int\n",
    "    minor::Minor\n",
    "    prev::AbstractBlk\n",
    "end\n",
    "\n",
    "function Base.show(io::IO, b::Genesis)\n",
    "    Base.show(io, 0)\n",
    "end\n",
    "\n",
    "function Base.show(io::IO, b::Blk)\n",
    "    Base.show(io, (b.index, b.minor.label))\n",
    "end\n",
    "\n",
    "struct Queue\n",
    "    sender::Minor\n",
    "    receiver::Minor\n",
    "    elem::Vector{AbstractBlk}\n",
    "    \n",
    "    Queue(sender, receiver) = new(sender, receiver, Vector{AbstractBlk}())\n",
    "end"
   ]
  },
  {
   "cell_type": "code",
   "execution_count": 3,
   "metadata": {},
   "outputs": [
    {
     "data": {
      "text/plain": [
       "getid (generic function with 2 methods)"
      ]
     },
     "execution_count": 3,
     "metadata": {},
     "output_type": "execute_result"
    }
   ],
   "source": [
    "getid(b::Blk) = b.index\n",
    "getid(b::Genesis) = 0"
   ]
  },
  {
   "cell_type": "code",
   "execution_count": 4,
   "metadata": {},
   "outputs": [
    {
     "data": {
      "text/plain": [
       "getlength (generic function with 1 method)"
      ]
     },
     "execution_count": 4,
     "metadata": {},
     "output_type": "execute_result"
    }
   ],
   "source": [
    "getreceiver(q::Queue) = q.receiver\n",
    "\n",
    "function receiveblk!(q::Queue, i::Int)::AbstractBlk\n",
    "    b = q.elem[i]\n",
    "    deleteat!(q.elem, i)\n",
    "    b\n",
    "end\n",
    "\n",
    "getlength(q::Queue) = length(q.elem)"
   ]
  },
  {
   "cell_type": "code",
   "execution_count": 5,
   "metadata": {},
   "outputs": [
    {
     "data": {
      "text/plain": [
       "sendblk! (generic function with 1 method)"
      ]
     },
     "execution_count": 5,
     "metadata": {},
     "output_type": "execute_result"
    }
   ],
   "source": [
    "function sendblk!(q::Queue, b::AbstractBlk)\n",
    "    push!(q.elem, b)\n",
    "end"
   ]
  },
  {
   "cell_type": "code",
   "execution_count": 6,
   "metadata": {},
   "outputs": [
    {
     "data": {
      "text/plain": [
       "event_genBlk! (generic function with 1 method)"
      ]
     },
     "execution_count": 6,
     "metadata": {},
     "output_type": "execute_result"
    }
   ],
   "source": [
    "function event_genBlk!(x::Minor, workblk::Dict{Minor,AbstractBlk}, queue::Vector{Queue}, blocks::Vector{Blk})\n",
    "    prev = workblk[x]\n",
    "    id = getid(prev) + 1\n",
    "    b = Blk(id, x, prev)\n",
    "    push!(blocks, b)\n",
    "    workblk[x] = b\n",
    "    for q = queue\n",
    "        sendblk!(q, b)\n",
    "    end\n",
    "    b\n",
    "end"
   ]
  },
  {
   "cell_type": "code",
   "execution_count": 7,
   "metadata": {},
   "outputs": [
    {
     "data": {
      "text/plain": [
       "event_arrivalBlk! (generic function with 1 method)"
      ]
     },
     "execution_count": 7,
     "metadata": {},
     "output_type": "execute_result"
    }
   ],
   "source": [
    "function event_arrivalBlk!(q::Queue, i::Int, workblk::Dict{Minor,AbstractBlk})\n",
    "    x = getreceiver(q)\n",
    "    b = receiveblk!(q, i)\n",
    "    prev = workblk[x]\n",
    "    if getid(prev) < getid(b)\n",
    "        workblk[x] = b\n",
    "    end\n",
    "    b\n",
    "end"
   ]
  },
  {
   "cell_type": "code",
   "execution_count": 8,
   "metadata": {},
   "outputs": [
    {
     "data": {
      "text/plain": [
       "rates (generic function with 1 method)"
      ]
     },
     "execution_count": 8,
     "metadata": {},
     "output_type": "execute_result"
    }
   ],
   "source": [
    "function rates(u1, u2, queue, lambda, mu)\n",
    "#    u1 = sort(collect(keys(lambda)), by=x->x.label)\n",
    "    r1 = [lambda[x] for x = u1]\n",
    "#    u2 = sort(collect(keys(mu)), by=x->(x[1].label, x[2].label))\n",
    "    r2 = [mu[x] * getlength(queue[x]) for x = u2]\n",
    "    return r1, r2\n",
    "end"
   ]
  },
  {
   "cell_type": "code",
   "execution_count": 9,
   "metadata": {},
   "outputs": [
    {
     "data": {
      "text/plain": [
       "Minor(\"C\")"
      ]
     },
     "execution_count": 9,
     "metadata": {},
     "output_type": "execute_result"
    }
   ],
   "source": [
    "a = Minor(\"A\")\n",
    "b = Minor(\"B\")\n",
    "c = Minor(\"C\")"
   ]
  },
  {
   "cell_type": "code",
   "execution_count": 875,
   "metadata": {},
   "outputs": [
    {
     "data": {
      "text/plain": [
       "10"
      ]
     },
     "execution_count": 875,
     "metadata": {},
     "output_type": "execute_result"
    }
   ],
   "source": [
    "lambda = Dict(\n",
    "    a => 1/1,\n",
    "    b => 1/10,\n",
    "    c => 1/10,\n",
    ")\n",
    "\n",
    "mu = Dict(\n",
    "    (a,b) => 1/0.1,\n",
    "    (a,c) => 1/0.1,\n",
    "    (b,a) => 1/0.1,\n",
    "    (b,c) => 1/0.1,\n",
    "    (c,a) => 1/0.1,\n",
    "    (c,b) => 1/0.1,\n",
    ")\n",
    "\n",
    "N = 10"
   ]
  },
  {
   "cell_type": "code",
   "execution_count": 876,
   "metadata": {},
   "outputs": [
    {
     "name": "stdout",
     "output_type": "stream",
     "text": [
      "  6.043037 seconds (21.61 M allocations: 685.846 MiB, 7.07% gc time)\n"
     ]
    }
   ],
   "source": [
    "rng = MersenneTwister(1234)\n",
    "Aworkblk = []\n",
    "Ablocks = []\n",
    "@time for k in 1:N\n",
    "    blocks = Vector{Blk}()\n",
    "\n",
    "    events = 0\n",
    "    u1 = sort(collect(keys(lambda)), by=x->x.label)\n",
    "    u2 = sort(collect(keys(mu)), by=x->(x[1].label, x[2].label))\n",
    "    workblk = Dict{Minor,AbstractBlk}(a=>Genesis(), b=>Genesis(), c=>Genesis())\n",
    "    qAtoB = Queue(a, b)\n",
    "    qAtoC = Queue(a, c)\n",
    "    qBtoA = Queue(b, a)\n",
    "    qBtoC = Queue(b, c)\n",
    "    qCtoA = Queue(c, a)\n",
    "    qCtoB = Queue(c, b)\n",
    "    queue = Dict(\n",
    "        (a,b)=>qAtoB,\n",
    "        (a,c)=>qAtoC,\n",
    "        (b,a)=>qBtoA,\n",
    "        (b,c)=>qBtoC,\n",
    "        (c,a)=>qCtoA,\n",
    "        (c,b)=>qCtoB,\n",
    "    )\n",
    "    input = Dict(\n",
    "        a=>[qAtoB, qAtoC],\n",
    "        b=>[qBtoA, qBtoC],\n",
    "        c=>[qCtoA, qCtoB],\n",
    "    )\n",
    "\n",
    "    ctime = 0.0\n",
    "    while ctime < 60*24*30 # 24 hours\n",
    "        r1, r2 = rates(u1, u2, queue, lambda, mu)\n",
    "        etime1 = [(r != 0) ? rand(rng, Exponential(1/r)) : Inf for r = r1]\n",
    "        etime2 = [(r != 0) ? rand(rng, Exponential(1/r)) : Inf for r = r2]\n",
    "        m1, i1 = findmin(etime1)\n",
    "        m2, i2 = findmin(etime2)\n",
    "        if m1 < m2\n",
    "            ctime += m1\n",
    "            event_genBlk!(u1[i1], workblk, input[u1[i1]], blocks)\n",
    "        else\n",
    "            ctime += m2\n",
    "            v = rand(rng, DiscreteUniform(1,getlength(queue[u2[i2]])))\n",
    "            event_arrivalBlk!(queue[u2[i2]], v, workblk)\n",
    "        end\n",
    "        events += 1\n",
    "    end\n",
    "    push!(Aworkblk,workblk)\n",
    "    push!(Ablocks,blocks)\n",
    "end"
   ]
  },
  {
   "cell_type": "code",
   "execution_count": 877,
   "metadata": {},
   "outputs": [
    {
     "data": {
      "text/plain": [
       "Dict{Minor,AbstractBlk} with 3 entries:\n",
       "  Minor(\"A\") => (14675, \"A\")\n",
       "  Minor(\"C\") => (14675, \"A\")\n",
       "  Minor(\"B\") => (14676, \"B\")"
      ]
     },
     "execution_count": 877,
     "metadata": {},
     "output_type": "execute_result"
    }
   ],
   "source": [
    "Aworkblk[1]"
   ]
  },
  {
   "cell_type": "code",
   "execution_count": 878,
   "metadata": {},
   "outputs": [],
   "source": [
    "Achains = []\n",
    "for i in 1:N\n",
    "    workblk = Aworkblk[i]\n",
    "    blk = workblk[a]\n",
    "    chains = []\n",
    "    push!(chains, blk)\n",
    "    while blk != Genesis()\n",
    "        blk = blk.prev\n",
    "        push!(chains, blk)\n",
    "    end\n",
    "    push!(Achains,chains)\n",
    "end"
   ]
  },
  {
   "cell_type": "code",
   "execution_count": 879,
   "metadata": {},
   "outputs": [],
   "source": [
    "Ainvchains = []\n",
    "for i in 1:N\n",
    "    chains = Achains[i]\n",
    "    invchains = reverse(chains)\n",
    "    push!(Ainvchains,invchains)\n",
    "end"
   ]
  },
  {
   "cell_type": "markdown",
   "metadata": {},
   "source": [
    "## 後続にブロックが付かない場合"
   ]
  },
  {
   "cell_type": "code",
   "execution_count": 880,
   "metadata": {},
   "outputs": [
    {
     "name": "stdout",
     "output_type": "stream",
     "text": [
      "419.081703 seconds (5.68 G allocations: 101.851 GiB, 11.93% gc time)\n"
     ]
    }
   ],
   "source": [
    "#blocksにはあるがchainsにないものをカウントする\n",
    "Ahaki = []\n",
    "@time for h in 1:N\n",
    "    haki = 0\n",
    "    for i in 2:length(Ainvchains[h])\n",
    "        if (Ainvchains[h][i].minor == Minor(\"B\")) || (Ainvchains[h][i].minor == Minor(\"C\"))\n",
    "            for j in 1:length(Ablocks[h])\n",
    "                if (Ablocks[h][j].minor == Minor(\"A\")) && (Ablocks[h][j].index == Ainvchains[h][i].index)\n",
    "                    haki += 1\n",
    "                end\n",
    "            end\n",
    "        end\n",
    "    end\n",
    "   push!(Ahaki,haki)\n",
    "    if h%20 == 0\n",
    "        print(h,\"ok\")\n",
    "    end\n",
    "end"
   ]
  },
  {
   "cell_type": "markdown",
   "metadata": {},
   "source": [
    "## 後続にブロックが1つ付いた場合"
   ]
  },
  {
   "cell_type": "code",
   "execution_count": 679,
   "metadata": {},
   "outputs": [
    {
     "name": "stdout",
     "output_type": "stream",
     "text": [
      "1,2,3,4,5,6,7,8,"
     ]
    },
    {
     "ename": "InterruptException",
     "evalue": "InterruptException:",
     "output_type": "error",
     "traceback": [
      "InterruptException:",
      "",
      "Stacktrace:",
      " [1] macro expansion at ./In[679]:22 [inlined]",
      " [2] macro expansion at ./util.jl:156 [inlined]",
      " [3] top-level scope at ./In[679]:3 [inlined]",
      " [4] top-level scope at ./none:0"
     ]
    }
   ],
   "source": [
    "#blocksで連番かつchainsにない場合は二つ以上同時に破棄されていると考える\n",
    "Ahaki = []\n",
    "@time for h in 1:N\n",
    "    haki = 0\n",
    "    count = 0\n",
    "    for i in 3:length(Ainvchains[h])-1\n",
    "        if i%1000 == 0\n",
    "            count += 1\n",
    "            print(count,\",\")\n",
    "        end\n",
    "#        if Ainvchains[h][i].minor == Minor(\"B\") && Ainvchains[h][i-1].minor == Minor(\"B\")\n",
    "#            for j in 1:length(Ablocks[h])\n",
    "#                if (Ablocks[h][j].minor == Minor(\"A\")) && (Ablocks[h][j].index == Ainvchains[h][i-1].index)\n",
    "#                    for k in 1:length(Ablocks[h])\n",
    "#                        if (Ablocks[h][k].minor == Minor(\"A\")) && (Ablocks[h][k].index == Ainvchains[h][i].index)\n",
    "#                            haki += 1\n",
    "#                        end\n",
    "#                    end\n",
    "#                end\n",
    "#            end\n",
    "        if (Ainvchains[h][i].minor == Minor(\"B\") && Ainvchains[h][i+1].minor == Minor(\"B\")) || (Ainvchains[h][i].minor == Minor(\"B\") && Ainvchains[h][i+1].minor == Minor(\"C\")) || (Ainvchains[h][i].minor == Minor(\"C\") && Ainvchains[h][i+1].minor == Minor(\"B\")) || (Ainvchains[h][i].minor == Minor(\"C\") && Ainvchains[h][i+1].minor == Minor(\"C\"))\n",
    "            for j in 1:length(Ablocks[h])\n",
    "                if (Ablocks[h][j].minor == Minor(\"A\")) && (Ablocks[h][j].index == Ainvchains[h][i].index)\n",
    "                    for k in 1:length(Ablocks[h])\n",
    "                        if (Ablocks[h][k].minor == Minor(\"A\")) && (Ablocks[h][k].index == Ainvchains[h][i+1].index)\n",
    "                            haki += 1\n",
    "                        end\n",
    "                    end\n",
    "                end\n",
    "            end\n",
    "        end\n",
    "    end\n",
    "    push!(Ahaki,haki)\n",
    "    if h%20 == 0\n",
    "        print(h,\"ok\")\n",
    "    end\n",
    "end"
   ]
  },
  {
   "cell_type": "markdown",
   "metadata": {},
   "source": [
    "## 後続にブロックが2つ付いた場合"
   ]
  },
  {
   "cell_type": "code",
   "execution_count": 241,
   "metadata": {},
   "outputs": [
    {
     "name": "stdout",
     "output_type": "stream",
     "text": [
      "1,2,3,4,5,6,7,8,9,10,11,12,13,14,15,16,17,"
     ]
    },
    {
     "ename": "BoundsError",
     "evalue": "BoundsError: attempt to access 17249-element Array{Any,1} at index [17250]",
     "output_type": "error",
     "traceback": [
      "BoundsError: attempt to access 17249-element Array{Any,1} at index [17250]",
      "",
      "Stacktrace:",
      " [1] getindex(::Array{Any,1}, ::Int64) at ./array.jl:731",
      " [2] top-level scope at ./In[241]:12"
     ]
    }
   ],
   "source": [
    "Ahaki = []\n",
    "@time for h in 1:N\n",
    "    haki = 0\n",
    "    count = 0\n",
    "    for i in 3:length(Ainvchains[h])-1\n",
    "        if i%1000 == 0\n",
    "            count += 1\n",
    "            print(count,\",\")\n",
    "        end\n",
    "        \n",
    "        if (Ainvchains[h][i].minor == Minor(\"B\") && Ainvchains[h][i+1].minor == Minor(\"B\")) || (Ainvchains[h][i].minor == Minor(\"B\") && Ainvchains[h][i+1].minor == Minor(\"C\")) || (Ainvchains[h][i].minor == Minor(\"C\") && Ainvchains[h][i+1].minor == Minor(\"B\")) || (Ainvchains[h][i].minor == Minor(\"C\") && Ainvchains[h][i+1].minor == Minor(\"C\"))\n",
    "            if (Ainvchains[h][i].minor == Minor(\"B\") && Ainvchains[h][i+2].minor == Minor(\"B\")) || (Ainvchains[h][i].minor == Minor(\"B\") && Ainvchains[h][i+2].minor == Minor(\"C\")) || (Ainvchains[h][i].minor == Minor(\"C\") && Ainvchains[h][i+2].minor == Minor(\"B\")) || (Ainvchains[h][i].minor == Minor(\"C\") && Ainvchains[h][i+2].minor == Minor(\"C\"))\n",
    "                for j in 1:length(Ablocks[h])\n",
    "                    if (Ablocks[h][j].minor == Minor(\"A\")) && (Ablocks[h][j].index == Ainvchains[h][i].index)\n",
    "                        for k in 1:length(Ablocks[h])\n",
    "                            if (Ablocks[h][k].minor == Minor(\"A\")) && (Ablocks[h][k].index == Ainvchains[h][i+1].index)\n",
    "                                if (Ablocks[h][k].minor == Minor(\"A\")) && (Ablocks[h][k].index == Ainvchains[h][i+2].index)\n",
    "                                    haki += 1\n",
    "                                end\n",
    "                            end\n",
    "                        end\n",
    "                    end\n",
    "                end\n",
    "            end\n",
    "        end\n",
    "    end\n",
    "    push!(Ahaki,haki)\n",
    "    if h%20 == 0\n",
    "        print(h,\"ok\")\n",
    "    end\n",
    "end"
   ]
  },
  {
   "cell_type": "code",
   "execution_count": 881,
   "metadata": {},
   "outputs": [],
   "source": [
    "AblkA = []\n",
    "for i in 1:N\n",
    "    blkA = 0\n",
    "    for j in 1:length(Ablocks[i])\n",
    "        if Ablocks[i][j].minor == Minor(\"A\")\n",
    "            blkA += 1\n",
    "        end\n",
    "    end\n",
    "    push!(AblkA,blkA)\n",
    "end"
   ]
  },
  {
   "cell_type": "code",
   "execution_count": 882,
   "metadata": {},
   "outputs": [],
   "source": [
    "Aresult = []\n",
    "for i in 1:N\n",
    "    result = Ahaki[i] / AblkA[i]\n",
    "    push!(Aresult,result)\n",
    "end"
   ]
  },
  {
   "cell_type": "markdown",
   "metadata": {},
   "source": [
    "## 平均"
   ]
  },
  {
   "cell_type": "code",
   "execution_count": 883,
   "metadata": {},
   "outputs": [
    {
     "data": {
      "text/plain": [
       "0.08788273284800813"
      ]
     },
     "execution_count": 883,
     "metadata": {},
     "output_type": "execute_result"
    }
   ],
   "source": [
    "sum = 0\n",
    "for i in 1:N\n",
    "    sum += Aresult[i]\n",
    "end\n",
    "ave = sum / N"
   ]
  },
  {
   "cell_type": "markdown",
   "metadata": {},
   "source": [
    "## 分散"
   ]
  },
  {
   "cell_type": "code",
   "execution_count": 884,
   "metadata": {},
   "outputs": [
    {
     "data": {
      "text/plain": [
       "8.94717358806658e-6"
      ]
     },
     "execution_count": 884,
     "metadata": {},
     "output_type": "execute_result"
    }
   ],
   "source": [
    "sq = 0\n",
    "for i in 1:N\n",
    "    sq += (Aresult[i]-ave)^2\n",
    "end\n",
    "var = sq / N"
   ]
  },
  {
   "cell_type": "code",
   "execution_count": 885,
   "metadata": {},
   "outputs": [
    {
     "data": {
      "text/plain": [
       "0.00299118264037263"
      ]
     },
     "execution_count": 885,
     "metadata": {},
     "output_type": "execute_result"
    }
   ],
   "source": [
    "sta = sqrt(var)"
   ]
  },
  {
   "cell_type": "markdown",
   "metadata": {},
   "source": [
    "## 信頼区間(95%)"
   ]
  },
  {
   "cell_type": "code",
   "execution_count": 886,
   "metadata": {},
   "outputs": [
    {
     "data": {
      "text/plain": [
       "2.2281"
      ]
     },
     "execution_count": 886,
     "metadata": {},
     "output_type": "execute_result"
    }
   ],
   "source": [
    "t = 2.2281"
   ]
  },
  {
   "cell_type": "code",
   "execution_count": 887,
   "metadata": {},
   "outputs": [
    {
     "name": "stdout",
     "output_type": "stream",
     "text": [
      "[0.0872162674439067,0.08854919825210955]"
     ]
    }
   ],
   "source": [
    "sita = ave - t * (1/10) * sta\n",
    "ue = ave + t * (1/10) * sta\n",
    "print(\"[\",sita,\",\",ue,\"]\")"
   ]
  },
  {
   "cell_type": "code",
   "execution_count": 888,
   "metadata": {},
   "outputs": [
    {
     "data": {
      "text/plain": [
       "0"
      ]
     },
     "execution_count": 888,
     "metadata": {},
     "output_type": "execute_result"
    }
   ],
   "source": [
    "e = 0\n",
    "for i in 1:N\n",
    "    if Aresult[i] < sita && Aresult[i] > ue\n",
    "        e += 1\n",
    "    end\n",
    "end\n",
    "e"
   ]
  },
  {
   "cell_type": "code",
   "execution_count": 889,
   "metadata": {},
   "outputs": [
    {
     "data": {
      "text/plain": [
       "10-element Array{Any,1}:\n",
       " 791\n",
       " 746\n",
       " 716\n",
       " 788\n",
       " 748\n",
       " 728\n",
       " 782\n",
       " 752\n",
       " 751\n",
       " 746"
      ]
     },
     "execution_count": 889,
     "metadata": {},
     "output_type": "execute_result"
    }
   ],
   "source": [
    "Ahaki"
   ]
  },
  {
   "cell_type": "code",
   "execution_count": null,
   "metadata": {},
   "outputs": [],
   "source": []
  },
  {
   "cell_type": "code",
   "execution_count": 267,
   "metadata": {},
   "outputs": [
    {
     "ename": "UndefVarError",
     "evalue": "UndefVarError: chains not defined",
     "output_type": "error",
     "traceback": [
      "UndefVarError: chains not defined",
      "",
      "Stacktrace:",
      " [1] (::getfield(Main, Symbol(\"##143#144\")))(::IOStream) at ./In[267]:2",
      " [2] #open#296(::Base.Iterators.Pairs{Union{},Union{},Tuple{},NamedTuple{(),Tuple{}}}, ::Function, ::getfield(Main, Symbol(\"##143#144\")), ::String, ::Vararg{String,N} where N) at ./iostream.jl:369",
      " [3] open(::Function, ::String, ::String) at ./iostream.jl:367",
      " [4] top-level scope at In[267]:1"
     ]
    }
   ],
   "source": [
    "open(\"chains.txt\",\"w\") do out #ファイルに書く\n",
    "    print(out,chains)\n",
    "end"
   ]
  },
  {
   "cell_type": "code",
   "execution_count": 19,
   "metadata": {},
   "outputs": [],
   "source": [
    "open(\"blocks.txt\",\"w\") do out #ファイルに書く\n",
    "    print(out,blocks)\n",
    "end"
   ]
  }
 ],
 "metadata": {
  "kernelspec": {
   "display_name": "Julia 1.0.5",
   "language": "julia",
   "name": "julia-1.0"
  },
  "language_info": {
   "file_extension": ".jl",
   "mimetype": "application/julia",
   "name": "julia",
   "version": "1.0.5"
  }
 },
 "nbformat": 4,
 "nbformat_minor": 4
}
