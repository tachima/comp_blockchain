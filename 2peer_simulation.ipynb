{
 "cells": [
  {
   "cell_type": "markdown",
   "metadata": {},
   "source": [
    "## 二人の時（queue使用）"
   ]
  },
  {
   "cell_type": "code",
   "execution_count": 1,
   "metadata": {},
   "outputs": [
    {
     "name": "stdout",
     "output_type": "stream",
     "text": [
      "\u001b[32m\u001b[1m  Updating\u001b[22m\u001b[39m registry at `~/.julia/registries/General`\n",
      "\u001b[32m\u001b[1m  Updating\u001b[22m\u001b[39m git-repo `https://github.com/JuliaRegistries/General.git`\n",
      "\u001b[2K\u001b[?25h[1mFetching:\u001b[22m\u001b[39m [========================================>]  100.0 %.0 %\u001b[36m\u001b[1mFetching:\u001b[22m\u001b[39m [======>                                  ]  14.6 %>                            ]  28.7 %\u001b[36m\u001b[1mFetching:\u001b[22m\u001b[39m [===============>                         ]  35.0 %>                    ]  49.1 % [==========================>              ]  63.2 %\u001b[36m\u001b[1mFetching:\u001b[22m\u001b[39m [==============================>          ]  74.5 %>    ]  88.5 %\u001b[36m\u001b[1mFetching:\u001b[22m\u001b[39m [=======================================> ]  95.3 %\u001b[36m\u001b[1mFetching:\u001b[22m\u001b[39m [=======================================> ]  96.6 %\u001b[32m\u001b[1m  Updating\u001b[22m\u001b[39m git-repo `https://github.com/JuliaCollections/DataStructures.jl`\n",
      "\u001b[2K\u001b[?25h[1mFetching:\u001b[22m\u001b[39m [========================================>]  100.0 %.0 %\u001b[32m\u001b[1m Resolving\u001b[22m\u001b[39m package versions...\n",
      "\u001b[32m\u001b[1m Installed\u001b[22m\u001b[39m SoftGlobalScope ─ v1.1.0\n",
      "\u001b[32m\u001b[1m  Updating\u001b[22m\u001b[39m `~/.julia/environments/v1.0/Project.toml`\n",
      "\u001b[90m [no changes]\u001b[39m\n",
      "\u001b[32m\u001b[1m  Updating\u001b[22m\u001b[39m `~/.julia/environments/v1.0/Manifest.toml`\n",
      " \u001b[90m [b85f4697]\u001b[39m\u001b[93m ↑ SoftGlobalScope v1.0.10 ⇒ v1.1.0\u001b[39m\n"
     ]
    },
    {
     "name": "stderr",
     "output_type": "stream",
     "text": [
      "┌ Info: Recompiling stale cache file /home/tachima/.julia/compiled/v1.0/DataStructures/xKiwJ.ji for DataStructures [864edb3b-99cc-5e75-8d2d-829cb0a9cfe8]\n",
      "└ @ Base loading.jl:1190\n"
     ]
    }
   ],
   "source": [
    "using Pkg\n",
    "Pkg.add(PackageSpec(url=\"https://github.com/JuliaCollections/DataStructures.jl\"))\n",
    "using DataStructures"
   ]
  },
  {
   "cell_type": "code",
   "execution_count": 2,
   "metadata": {},
   "outputs": [
    {
     "data": {
      "text/plain": [
       "exran (generic function with 1 method)"
      ]
     },
     "execution_count": 2,
     "metadata": {},
     "output_type": "execute_result"
    }
   ],
   "source": [
    "exran(t,r)= 1 / t * -log(1.0-r)"
   ]
  },
  {
   "cell_type": "code",
   "execution_count": 38,
   "metadata": {},
   "outputs": [
    {
     "data": {
      "text/plain": [
       "1.0"
      ]
     },
     "execution_count": 38,
     "metadata": {},
     "output_type": "execute_result"
    }
   ],
   "source": [
    "mu1 = 1/10\n",
    "mu2 = 1/10\n",
    "lambda1 = 1/0.01\n",
    "lambda2 = 1/0.01"
   ]
  },
  {
   "cell_type": "code",
   "execution_count": 4,
   "metadata": {},
   "outputs": [
    {
     "data": {
      "text/plain": [
       "1"
      ]
     },
     "execution_count": 4,
     "metadata": {},
     "output_type": "execute_result"
    }
   ],
   "source": [
    "# マイニングにかかる時間\n",
    "A = 1\n",
    "B = 1\n",
    "\n",
    "# 通知時間\n",
    "delayA_B = 1\n",
    "delayB_A = 1"
   ]
  },
  {
   "cell_type": "code",
   "execution_count": 39,
   "metadata": {},
   "outputs": [
    {
     "name": "stdout",
     "output_type": "stream",
     "text": [
      "7.1\n"
     ]
    }
   ],
   "source": [
    "sum = 0\n",
    "for i in 1:100\n",
    "\n",
    "#ABCそれぞれのブロック数を管理する変数\n",
    "    blkA = 0\n",
    "    blkB = 0\n",
    "#通知としてたまっていくキュー\n",
    "    queueAB = Queue{Int}()\n",
    "    queueBA = Queue{Int}()\n",
    "#共通して持っているブロックの数\n",
    "    AB = 0\n",
    "\n",
    "    count = 0\n",
    "    haki = 0\n",
    "    time = [0]\n",
    "\n",
    "    while time < [1440]\n",
    "        count += 1\n",
    "        delayA_B = Inf\n",
    "        delayB_A = Inf\n",
    "        A = exran(mu1, rand())\n",
    "        B = exran(mu2, rand())\n",
    "    \n",
    "        if !isempty(queueAB)\n",
    "            delayA_B = exran(lambda2 * length(queueAB), rand())\n",
    "        end\n",
    "    \n",
    "        if !isempty(queueBA)\n",
    "            delayB_A = exran(lambda1 * length(queueBA), rand())\n",
    "        end\n",
    "\n",
    "        events = [A, B, delayA_B, delayB_A]\n",
    "        min = findall(isequal(minimum(events)),events)\n",
    "        time = time + events[mini]\n",
    "        \n",
    "        if min == [1]\n",
    "            blkA += 1\n",
    "            enqueue!(queueAB, blkA)\n",
    "        end\n",
    "    \n",
    "        if min == [2]\n",
    "            blkB += 1\n",
    "            enqueue!(queueBA, blkB)\n",
    "        end\n",
    "    \n",
    "        if min == [3]\n",
    "            x = dequeue!(queueAB)\n",
    "            if x > blkB\n",
    "                if blkB - AB > 0\n",
    "                    haki += blkB - AB\n",
    "                end\n",
    "                blkB = x\n",
    "                AB = x\n",
    "            end\n",
    "        end\n",
    "    \n",
    "        if min == [4]\n",
    "            x = dequeue!(queueBA)\n",
    "            if x > blkA\n",
    "                if blkA - AB > 0\n",
    "                    haki += blkA - AB\n",
    "                end\n",
    "                blkA = x\n",
    "                AB = x\n",
    "            end\n",
    "        end\n",
    "    \n",
    "    #println(\"A:\",blkA,\"   B:\",blkB,\"   破棄:\",haki,\"   (queueAB,queueBA):\",length(queueAB),length(queueBA))\n",
    "    end\n",
    "    sum += haki\n",
    "end\n",
    "ave = sum / 100\n",
    "println(ave)"
   ]
  }
 ],
 "metadata": {
  "kernelspec": {
   "display_name": "Julia 1.0.5",
   "language": "julia",
   "name": "julia-1.0"
  },
  "language_info": {
   "file_extension": ".jl",
   "mimetype": "application/julia",
   "name": "julia",
   "version": "1.0.5"
  }
 },
 "nbformat": 4,
 "nbformat_minor": 4
}
